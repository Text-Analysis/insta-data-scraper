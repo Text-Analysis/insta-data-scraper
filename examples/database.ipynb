{
 "cells": [
  {
   "cell_type": "markdown",
   "source": [
    "Подключение к базе данных."
   ],
   "metadata": {
    "collapsed": false
   }
  },
  {
   "cell_type": "code",
   "execution_count": 1,
   "outputs": [
    {
     "name": "stderr",
     "output_type": "stream",
     "text": [
      "[INFO] a connection to the database has been established\n"
     ]
    }
   ],
   "source": [
    "from database import Database\n",
    "from dotenv import load_dotenv, find_dotenv\n",
    "from os import getenv\n",
    "import logging.config\n",
    "\n",
    "load_dotenv(find_dotenv())\n",
    "\n",
    "logging_config = {\n",
    "    'version': 1,\n",
    "    'disable_existing_loggers': False,\n",
    "\n",
    "    'formatters': {\n",
    "        'default_formatter': {\n",
    "            'format': '[%(levelname)s] %(message)s'\n",
    "        },\n",
    "    },\n",
    "\n",
    "    'handlers': {\n",
    "        'stream_handler': {\n",
    "            'class': 'logging.StreamHandler',\n",
    "            'formatter': 'default_formatter',\n",
    "        },\n",
    "    },\n",
    "\n",
    "    'loggers': {\n",
    "        'my_logger': {\n",
    "            'handlers': ['stream_handler'],\n",
    "            'level': 'INFO',\n",
    "            'propagate': False\n",
    "        }\n",
    "    }\n",
    "}\n",
    "\n",
    "logging.config.dictConfig(logging_config)\n",
    "logger = logging.getLogger('my_logger')\n",
    "\n",
    "db = Database(getenv('DATABASE_URL'), logger)"
   ],
   "metadata": {
    "collapsed": false,
    "pycharm": {
     "name": "#%%\n"
    }
   }
  },
  {
   "cell_type": "markdown",
   "source": [
    "Получение списка публикаций пользователя Instagram.\n",
    "\n",
    "*Замечание: информация о публикациях должна быть предварительно собрана с использованием InstagramScraper и загружена в БД (DATABASE_URL).*"
   ],
   "metadata": {
    "collapsed": false
   }
  },
  {
   "cell_type": "code",
   "execution_count": 2,
   "outputs": [
    {
     "name": "stdout",
     "output_type": "stream",
     "text": [
      "URL поста: https://www.instagram.com/p/CYHWrTtlWSi/\n",
      "Содержание поста: Благотворительный хоккейный матч в поддержку воспитанников детдома «Гнёздышко» между командами «Патриот» и Правительства Ульяновской области. Спасибо за игру💪\n",
      "Время публикации поста: 2021-12-30 17:53:52+00:00\n",
      "Хеш-теги поста: []\n",
      "Упоминания в посте: []\n",
      "\n",
      "URL поста: https://www.instagram.com/p/CYI5oiotsiJ/\n",
      "Содержание поста: Варя очень любит петь, а ещё она активно занимается спортом и учится видеть этот мир кончиками пальцев. \n",
      "\n",
      "Невероятно целеустремлённая девочка из Ульяновска загадала на Новый год синтезатор. Письмо ребёнка попало ко мне в руки на «Ёлке желаний». \n",
      "\n",
      "Мечту, конечно, исполнил. Договорились с Варей, что она мне обязательно что-нибудь сыграет, когда освоит свой новый музыкальный инструмент🙂\n",
      "Время публикации поста: 2021-12-31 08:16:28+00:00\n",
      "Хеш-теги поста: []\n",
      "Упоминания в посте: []\n",
      "\n",
      "URL поста: https://www.instagram.com/p/CYJNMIPtbws/\n",
      "Содержание поста: Сегодня с сыном выбрались поиграть в футбол на свежем воздухе 🙂\n",
      "\n",
      "Рад был увидеть нашего прославленного спортсмена Владимира Минеева @mineevmma 💪\n",
      "Время публикации поста: 2021-12-31 11:07:21+00:00\n",
      "Хеш-теги поста: []\n",
      "Упоминания в посте: ['mineevmma']\n",
      "\n",
      "URL поста: https://www.instagram.com/p/CYKARwnFFkC/\n",
      "Содержание поста: Друзья, с наступающим Новым годом!🎄\n",
      "Время публикации поста: 2021-12-31 18:37:53+00:00\n",
      "Хеш-теги поста: []\n",
      "Упоминания в посте: []\n",
      "\n"
     ]
    }
   ],
   "source": [
    "db_posts = db.get_user_posts('https://www.instagram.com/russkih_aleksey/')\n",
    "for post in db_posts[:10]:\n",
    "    print(f'URL поста: {post.url}\\n'\n",
    "          f'Содержание поста: {post.text}\\n'\n",
    "          f'Время публикации поста: {post.time}\\n'\n",
    "          f'Хеш-теги поста: {post.tags}\\n'\n",
    "          f'Упоминания в посте: {post.links}',\n",
    "          end='\\n\\n')"
   ],
   "metadata": {
    "collapsed": false,
    "pycharm": {
     "name": "#%%\n"
    }
   }
  },
  {
   "cell_type": "markdown",
   "source": [
    "Получение списка комментариев к публикациям пользователя Instagram.\n",
    "\n",
    "*Замечание: информация о комментариях должна быть предварительно собрана с использованием InstagramScraper  и загружена в БД (DATABASE_URL).*"
   ],
   "metadata": {
    "collapsed": false
   }
  },
  {
   "cell_type": "code",
   "execution_count": 3,
   "outputs": [
    {
     "name": "stdout",
     "output_type": "stream",
     "text": [
      "URL комментария: https://www.instagram.com/p/CYI5oiotsiJ/c/17939123734809626/\n",
      "URL автора комментария: https://www.instagram.com/avagrad83/\n",
      "Содержание комментария: 👏👏👏🔥🔥🔥\n",
      "Время публикации комментария: 2021-12-31 04:41:16+00:00\n",
      "Хеш-теги комментария: []\n",
      "Упоминания в комментарии: []\n",
      "\n",
      "URL комментария: https://www.instagram.com/p/CYI5oiotsiJ/c/18183351115081569/\n",
      "URL автора комментария: https://www.instagram.com/press_73/\n",
      "Содержание комментария: 👏👏👏\n",
      "Время публикации комментария: 2021-12-31 05:17:28+00:00\n",
      "Хеш-теги комментария: []\n",
      "Упоминания в комментарии: []\n",
      "\n",
      "URL комментария: https://www.instagram.com/p/CYI5oiotsiJ/c/17925618482056806/\n",
      "URL автора комментария: https://www.instagram.com/ol.kotelnikova/\n",
      "Содержание комментария: Какая умница Варя, исполнения желаний!\n",
      "Время публикации комментария: 2021-12-31 05:20:54+00:00\n",
      "Хеш-теги комментария: []\n",
      "Упоминания в комментарии: []\n",
      "\n",
      "URL комментария: https://www.instagram.com/p/CYI5oiotsiJ/c/17896053482519371/\n",
      "URL автора комментария: https://www.instagram.com/rafaelmyazitov/\n",
      "Содержание комментария: 💐С наступающим!)\n",
      "Время публикации комментария: 2021-12-31 05:40:55+00:00\n",
      "Хеш-теги комментария: []\n",
      "Упоминания в комментарии: []\n",
      "\n",
      "URL комментария: https://www.instagram.com/p/CYI5oiotsiJ/c/17906788649344680/\n",
      "URL автора комментария: https://www.instagram.com/polianskaia1772/\n",
      "Содержание комментария: С Наступающим Новым Годом! Алексей Юрьевич спасибо что Вы исполняете желания детей! 👏👏👏\n",
      "Время публикации комментария: 2021-12-31 06:08:59+00:00\n",
      "Хеш-теги комментария: []\n",
      "Упоминания в комментарии: []\n",
      "\n",
      "URL комментария: https://www.instagram.com/p/CYI5oiotsiJ/c/17915206535318962/\n",
      "URL автора комментария: https://www.instagram.com/vad_berezin/\n",
      "Содержание комментария: Вот это Новый год для Варвары! Такие подарки запоминаются надолго!😍\n",
      "Время публикации комментария: 2021-12-31 06:21:58+00:00\n",
      "Хеш-теги комментария: []\n",
      "Упоминания в комментарии: []\n",
      "\n",
      "URL комментария: https://www.instagram.com/p/CYI5oiotsiJ/c/17920863745997043/\n",
      "URL автора комментария: https://www.instagram.com/marina.73rus/\n",
      "Содержание комментария: 🎉🎉🎉🎉🔥🔥🔥\n",
      "Время публикации комментария: 2021-12-31 06:26:35+00:00\n",
      "Хеш-теги комментария: []\n",
      "Упоминания в комментарии: []\n",
      "\n",
      "URL комментария: https://www.instagram.com/p/CYI5oiotsiJ/c/18194397946177018/\n",
      "URL автора комментария: https://www.instagram.com/vlnikpet/\n",
      "Содержание комментария: Целеустремленная девочка! Пусть у нее все получится! 👏\n",
      "Время публикации комментария: 2021-12-31 06:28:51+00:00\n",
      "Хеш-теги комментария: []\n",
      "Упоминания в комментарии: []\n",
      "\n",
      "URL комментария: https://www.instagram.com/p/CYI5oiotsiJ/c/17906788649344680/r/17954643874585853/\n",
      "URL автора комментария: https://www.instagram.com/5242evgeniia/\n",
      "Содержание комментария: Уважаемый Алексей Юрьевич. С наступающим Рождеством и Новым годом. Счастья, здоровья  Вам и Вашим близким. Успехов в Вашем непростом труде, с Вашим  трудом мы связываем надежды на благополучие  в нашем регионе. Давайте шагнем все вместе в новый год с новыми надеждами и новыми замечательными делами!\n",
      "Время публикации комментария: 2021-12-31 06:32:03+00:00\n",
      "Хеш-теги комментария: []\n",
      "Упоминания в комментарии: []\n",
      "\n",
      "URL комментария: https://www.instagram.com/p/CYJNMIPtbws/c/18116229583266372/\n",
      "URL автора комментария: https://www.instagram.com/maksimcivkovskij/\n",
      "Содержание комментария: 👏🔥🔥🔥\n",
      "Время публикации комментария: 2021-12-31 07:10:28+00:00\n",
      "Хеш-теги комментария: []\n",
      "Упоминания в комментарии: []\n",
      "\n"
     ]
    }
   ],
   "source": [
    "db_posts_comments = db.get_user_posts_comments('https://www.instagram.com/russkih_aleksey/')\n",
    "for comment in db_posts_comments[:10]:\n",
    "    print(f'URL комментария: {comment.url}\\n'\n",
    "          f'URL автора комментария: {comment.owner_url}\\n'\n",
    "          f'Содержание комментария: {comment.text}\\n'\n",
    "          f'Время публикации комментария: {comment.time}\\n'\n",
    "          f'Хеш-теги комментария: {comment.tags}\\n'\n",
    "          f'Упоминания в комментарии: {comment.links}',\n",
    "          end='\\n\\n')"
   ],
   "metadata": {
    "collapsed": false,
    "pycharm": {
     "name": "#%%\n"
    }
   }
  }
 ],
 "metadata": {
  "kernelspec": {
   "display_name": "Python 3",
   "language": "python",
   "name": "python3"
  },
  "language_info": {
   "codemirror_mode": {
    "name": "ipython",
    "version": 2
   },
   "file_extension": ".py",
   "mimetype": "text/x-python",
   "name": "python",
   "nbconvert_exporter": "python",
   "pygments_lexer": "ipython2",
   "version": "2.7.6"
  }
 },
 "nbformat": 4,
 "nbformat_minor": 0
}