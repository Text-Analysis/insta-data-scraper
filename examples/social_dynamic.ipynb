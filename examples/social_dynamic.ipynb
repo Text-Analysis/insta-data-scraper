{
 "cells": [
  {
   "cell_type": "markdown",
   "source": [
    "## Построение графика социальной динамики по Instagram-аккаунту\n",
    "\n",
    "На графике будут отображены ключевые слова из комментариев к выбранным Instagram-публикациям за определённый временной промежуток.\n",
    "\n",
    "### Подключение к базе данных\n",
    "\n",
    "В .env файле указывается строка подключения к базе данных PostgreSQL (см. .env.example). Данная строка используется в качестве параметра при инициализации класса для работы с БД (Database)."
   ],
   "metadata": {
    "collapsed": false
   }
  },
  {
   "cell_type": "code",
   "execution_count": 57,
   "outputs": [
    {
     "name": "stdout",
     "output_type": "stream",
     "text": [
      "a connection to the database has been established\n"
     ]
    }
   ],
   "source": [
    "from database import Database\n",
    "from dotenv import load_dotenv, find_dotenv\n",
    "from os import getenv\n",
    "\n",
    "load_dotenv(find_dotenv())\n",
    "\n",
    "db = Database(getenv('DATABASE_URL'))"
   ],
   "metadata": {
    "collapsed": false,
    "pycharm": {
     "name": "#%%\n"
    }
   }
  },
  {
   "cell_type": "markdown",
   "source": [
    "### Получение списка публикаций Instagram\n",
    "\n",
    "Список записей, содержащих информацию по публикациям пользователя, можно получить с помощью метода get_posts_by_urls класса Database, указав при этом URL публикаций.\n",
    "\n",
    "*Замечание: информация о публикациях и пользователе должна быть предварительно собрана с использованием InstagramScraper и загружена в БД (DATABASE_URL).*"
   ],
   "metadata": {
    "collapsed": false
   }
  },
  {
   "cell_type": "code",
   "execution_count": 58,
   "outputs": [
    {
     "data": {
      "text/plain": "[PostDatabaseModel(id=77, url='https://www.instagram.com/p/CX097AWNTm2/', owner_id=1, picture='https://scontent-frx5-1.cdninstagram.com/v/t51.2885-15/e35/269795273_3156279241316530_9213064171991002480_n.jpg?_nc_ht=scontent-frx5-1.cdninstagram.com&_nc_cat=110&_nc_ohc=sjboVHuQlgYAX8KDGJo&edm=ALQROFkBAAAA&ccb=7-4&ig_cache_key=MjczNTA4MzIwOTM3OTYyNTM5OA%3D%3D.2-ccb7-4&oh=00_AT8UyVuoMwPkPc3P6dZMB4k0Tk7ZuTK2znrdRB0t2DtauA&oe=621BA6F0&_nc_sid=30a2ef', text='С большим вниманием смотрел пресс-конференцию Президента России Владимира Владимировича Путина. Глава государства затронул много важных тем. \\n\\n🔹ИНСТРУМЕНТЫ ДЛЯ РОСТА ЭКОНОМИКИ \\n\\nПрезидент обозначил, какие есть драйверы для экономического роста в условиях пандемии, какие существуют инструменты поддержки на федеральном уровне. Наша задача активно входить во все федеральные программы и улучшать инфраструктуру в регионе. В этом году Ульяновская область получила мощную поддержку от Правительства РФ на развитие индустриальных парков. А это новые предприятия, новые рабочие места для людей. \\n\\n🔹ОБЕСПЕЧЕНИЕ ИНФРАСТРУКТУРЫ ДЛЯ ЗЕМЕЛЬНЫХ УЧАСТКОВ МНОГОДЕТНЫХ\\n\\nЕщё одна актуальная для Ульяновской области тема - обеспечение качественной инфраструктурой земельных участков для многодетных семей. Особенно остро проблема стоит в крупнейших городах региона – Ульяновске и Димитровграде. \\n\\nВажно, что Президент обратил внимание на то, что в качественном решении этого вопроса регионам необходима федеральная поддержка. Средства есть. Главное, качественно подготовить заявки на их получение и грамотно реализовать. Будем над этим плотно работать с федеральным центром.\\n\\n🔹ПЕРЕСЕЛЕНИЕ ИЗ АВАРИЙНОГО ЖИЛЬЯ \\n\\nЕщё один важный вопрос – переселение граждан из аварийного жилья. Президент ответил на вопрос, который волнует многих! Для переселения людей из домов, признанных аварийным после 1 января 2017 года, будут выделяться деньги из федерального бюджета. Программа готовится. \\n\\nЧто это значит для Ульяновской области? Мы досрочно, на два года раньше, сейчас обязаны закрыть проблему по переселению жителей Ульяновской области из аварийного жилья  по текущей программе. По домам, которые признаны аварийными до 1 января 2017 года, нас активно поддерживает Фонд ЖКХ. Быстро и качественно завершив работу по этим домам, будем обязательно заявляться в новую программу для получения федеральной поддержки.', time=datetime.datetime(2021, 12, 23, 14, 29, 7, tzinfo=datetime.timezone.utc), likes=812, tags=[], links=[]),\n PostDatabaseModel(id=76, url='https://www.instagram.com/p/CX3N4xoNvUO/', owner_id=1, picture='https://scontent-frx5-2.cdninstagram.com/v/t51.2885-15/269916003_1054286185420065_2407846838013260697_n.jpg?stp=dst-jpg_e35_s1080x1080&_nc_ht=scontent-frx5-2.cdninstagram.com&_nc_cat=109&_nc_ohc=7-VcW-lTfvAAX8h-1TA&edm=APU89FABAAAA&ccb=7-4&oh=00_AT_tjccF6XC3A7YexG0iPJKHGc1bPd_th--UxIgwU7-PMA&oe=621AC8BA&_nc_sid=86f79a', text='Год назад Президент России Владимир Владимирович Путин присвоил Ульяновску Почётное звание «Город трудовой доблести». Это высочайшее и поистине народное признание трудового героизма и самоотверженности жителей региона, их вклада в Великую Победу.\\n\\nВ этом году исполнилось 80 лет с начала Великой Отечественной войны. Не найдется в стране ни одной семьи, которой не коснулась бы война. Открыв стелу «Город трудовой доблести», мы увековечиваем подвиг каждого героя! Отдаём дань уважения всем ульяновцам, которые в годы войны, не щадя сил, вне зависимости от возраста, день и ночь стояли у станков, работали в полях, обеспечивая фронт всем необходимым. \\n\\nНаша стела — это память, воплощенная в камне. Память о предприятиях и их коллективах, которые были эвакуированы из прифронтовых территорий и в кратчайшие сроки перестроили свое производство на военный лад. Память о героическом труде медицинских работников тыловых госпиталей, о вкладе сельчан и простых жителей.\\nМы должны чтить все эти подвиги.', time=datetime.datetime(2021, 12, 24, 11, 27, 7, tzinfo=datetime.timezone.utc), likes=910, tags=[], links=[]),\n PostDatabaseModel(id=75, url='https://www.instagram.com/p/CX3ZqJ_NlZg/', owner_id=1, picture='https://scontent-frt3-1.cdninstagram.com/v/t51.2885-15/e35/s1080x1080/269812754_591504098618420_7210181682883033584_n.jpg?_nc_ht=scontent-frt3-1.cdninstagram.com&_nc_cat=108&_nc_ohc=jdT0mhi0YlMAX-t54aq&edm=APU89FABAAAA&ccb=7-4&oh=00_AT-I1gCwV5Js3XqtbAsMtIjdcKNCzKvZPuhQhiLOZUZWZg&oe=621A15D1&_nc_sid=86f79a', text='Сегодня транспортный парк муниципальных образований Ульяновской области пополнился 14 новыми автобусами 👍\\n\\nВ самое ближайшее время они выйдут на внутрирайонные маршруты, а также на маршруты в направлении областного центра.\\n\\nСегодняшнее пополнение – далеко не последнее. Всего по региональной госпрограмме планируется приобрести 320 единиц пассажирского транспорта: 240 автобусов, 50 трамваев и 30 троллейбусов. Закупать начнём уже в следующем году. Важно, чтобы жители почувствовали улучшение в работе общественного транспорта. Сейчас это одна из самых острых проблем для нашего региона.', time=datetime.datetime(2021, 12, 24, 13, 9, 58, tzinfo=datetime.timezone.utc), likes=1211, tags=[], links=[])]"
     },
     "execution_count": 58,
     "metadata": {},
     "output_type": "execute_result"
    }
   ],
   "source": [
    "posts_urls = (\n",
    "    'https://www.instagram.com/p/CX097AWNTm2/',\n",
    "    'https://www.instagram.com/p/CX3N4xoNvUO/',\n",
    "    'https://www.instagram.com/p/CX3ZqJ_NlZg/'\n",
    ")\n",
    "posts = db.get_posts_by_urls(posts_urls)\n",
    "posts"
   ],
   "metadata": {
    "collapsed": false,
    "pycharm": {
     "name": "#%%\n"
    }
   }
  },
  {
   "cell_type": "markdown",
   "source": [
    "### Подключение библиотеки srsparser\n",
    "\n",
    "Для выделения ключевых слов из комментариев к публикациям пользователя Instagram подключается библиотека [srsparser](https://github.com/Text-Analysis/srsparser), содержащая необходимые методы."
   ],
   "metadata": {
    "collapsed": false,
    "pycharm": {
     "name": "#%% md\n"
    }
   }
  },
  {
   "cell_type": "code",
   "execution_count": 59,
   "outputs": [
    {
     "name": "stdout",
     "output_type": "stream",
     "text": [
      "Requirement already satisfied: srsparser in c:\\users\\f0rge\\pycharmprojects\\posts-scraper\\venv\\lib\\site-packages (1.3.15)Note: you may need to restart the kernel to use updated packages.\n"
     ]
    },
    {
     "name": "stderr",
     "output_type": "stream",
     "text": [
      "WARNING: You are using pip version 21.3.1; however, version 22.0.4 is available.\n",
      "You should consider upgrading via the 'C:\\Users\\f0rge\\PycharmProjects\\posts-scraper\\venv\\Scripts\\python.exe -m pip install --upgrade pip' command.\n"
     ]
    },
    {
     "name": "stdout",
     "output_type": "stream",
     "text": [
      "\n",
      "Requirement already satisfied: python-docx>=0.8.11 in c:\\users\\f0rge\\pycharmprojects\\posts-scraper\\venv\\lib\\site-packages (from srsparser) (0.8.11)\n",
      "Requirement already satisfied: prettytable>=3.0.0 in c:\\users\\f0rge\\pycharmprojects\\posts-scraper\\venv\\lib\\site-packages (from srsparser) (3.1.1)\n",
      "Requirement already satisfied: nltk>=3.6.7 in c:\\users\\f0rge\\pycharmprojects\\posts-scraper\\venv\\lib\\site-packages (from srsparser) (3.7)\n",
      "Requirement already satisfied: dnspython>=2.2.0 in c:\\users\\f0rge\\pycharmprojects\\posts-scraper\\venv\\lib\\site-packages (from srsparser) (2.2.0)\n",
      "Requirement already satisfied: pymorphy2>=0.9.1 in c:\\users\\f0rge\\pycharmprojects\\posts-scraper\\venv\\lib\\site-packages (from srsparser) (0.9.1)\n",
      "Requirement already satisfied: emoji>=1.6.3 in c:\\users\\f0rge\\pycharmprojects\\posts-scraper\\venv\\lib\\site-packages (from srsparser) (1.6.3)\n",
      "Requirement already satisfied: pullenti>=4.1 in c:\\users\\f0rge\\pycharmprojects\\posts-scraper\\venv\\lib\\site-packages (from srsparser) (4.1)\n",
      "Requirement already satisfied: pymongo>=4.0.1 in c:\\users\\f0rge\\pycharmprojects\\posts-scraper\\venv\\lib\\site-packages (from srsparser) (4.0.1)\n",
      "Requirement already satisfied: gensim>=4.1.2 in c:\\users\\f0rge\\pycharmprojects\\posts-scraper\\venv\\lib\\site-packages (from srsparser) (4.1.2)\n",
      "Requirement already satisfied: anytree>=2.8.0 in c:\\users\\f0rge\\pycharmprojects\\posts-scraper\\venv\\lib\\site-packages (from srsparser) (2.8.0)\n",
      "Requirement already satisfied: six>=1.9.0 in c:\\users\\f0rge\\pycharmprojects\\posts-scraper\\venv\\lib\\site-packages (from anytree>=2.8.0->srsparser) (1.16.0)\n",
      "Requirement already satisfied: smart-open>=1.8.1 in c:\\users\\f0rge\\pycharmprojects\\posts-scraper\\venv\\lib\\site-packages (from gensim>=4.1.2->srsparser) (5.2.1)\n",
      "Requirement already satisfied: scipy>=0.18.1 in c:\\users\\f0rge\\pycharmprojects\\posts-scraper\\venv\\lib\\site-packages (from gensim>=4.1.2->srsparser) (1.7.3)\n",
      "Requirement already satisfied: Cython==0.29.23 in c:\\users\\f0rge\\pycharmprojects\\posts-scraper\\venv\\lib\\site-packages (from gensim>=4.1.2->srsparser) (0.29.23)\n",
      "Requirement already satisfied: numpy>=1.17.0 in c:\\users\\f0rge\\pycharmprojects\\posts-scraper\\venv\\lib\\site-packages (from gensim>=4.1.2->srsparser) (1.21.5)\n",
      "Requirement already satisfied: regex>=2021.8.3 in c:\\users\\f0rge\\pycharmprojects\\posts-scraper\\venv\\lib\\site-packages (from nltk>=3.6.7->srsparser) (2022.1.18)\n",
      "Requirement already satisfied: joblib in c:\\users\\f0rge\\pycharmprojects\\posts-scraper\\venv\\lib\\site-packages (from nltk>=3.6.7->srsparser) (1.1.0)\n",
      "Requirement already satisfied: click in c:\\users\\f0rge\\pycharmprojects\\posts-scraper\\venv\\lib\\site-packages (from nltk>=3.6.7->srsparser) (8.0.4)\n",
      "Requirement already satisfied: tqdm in c:\\users\\f0rge\\pycharmprojects\\posts-scraper\\venv\\lib\\site-packages (from nltk>=3.6.7->srsparser) (4.62.3)\n",
      "Requirement already satisfied: wcwidth in c:\\users\\f0rge\\pycharmprojects\\posts-scraper\\venv\\lib\\site-packages (from prettytable>=3.0.0->srsparser) (0.2.5)\n",
      "Requirement already satisfied: importlib-metadata in c:\\users\\f0rge\\pycharmprojects\\posts-scraper\\venv\\lib\\site-packages (from prettytable>=3.0.0->srsparser) (4.11.1)\n",
      "Requirement already satisfied: pymorphy2-dicts-ru<3.0,>=2.4 in c:\\users\\f0rge\\pycharmprojects\\posts-scraper\\venv\\lib\\site-packages (from pymorphy2>=0.9.1->srsparser) (2.4.417127.4579844)\n",
      "Requirement already satisfied: docopt>=0.6 in c:\\users\\f0rge\\pycharmprojects\\posts-scraper\\venv\\lib\\site-packages (from pymorphy2>=0.9.1->srsparser) (0.6.2)\n",
      "Requirement already satisfied: dawg-python>=0.7.1 in c:\\users\\f0rge\\pycharmprojects\\posts-scraper\\venv\\lib\\site-packages (from pymorphy2>=0.9.1->srsparser) (0.7.2)\n",
      "Requirement already satisfied: lxml>=2.3.2 in c:\\users\\f0rge\\pycharmprojects\\posts-scraper\\venv\\lib\\site-packages (from python-docx>=0.8.11->srsparser) (4.8.0)\n",
      "Requirement already satisfied: colorama in c:\\users\\f0rge\\pycharmprojects\\posts-scraper\\venv\\lib\\site-packages (from click->nltk>=3.6.7->srsparser) (0.4.4)\n",
      "Requirement already satisfied: zipp>=0.5 in c:\\users\\f0rge\\pycharmprojects\\posts-scraper\\venv\\lib\\site-packages (from importlib-metadata->prettytable>=3.0.0->srsparser) (3.7.0)\n",
      "Requirement already satisfied: typing-extensions>=3.6.4 in c:\\users\\f0rge\\pycharmprojects\\posts-scraper\\venv\\lib\\site-packages (from importlib-metadata->prettytable>=3.0.0->srsparser) (4.0.1)\n"
     ]
    }
   ],
   "source": [
    "%pip install srsparser --upgrade"
   ],
   "metadata": {
    "collapsed": false,
    "pycharm": {
     "name": "#%%\n"
    }
   }
  },
  {
   "cell_type": "markdown",
   "source": [
    "### Извлечение содержимого комментариев публикаций\n",
    "\n",
    "Извлечение содержимого комментариев по полученным публикациям пользователя, длина которых больше 20 символов, убрав из содержания упоминания пользователей Instagram."
   ],
   "metadata": {
    "collapsed": false,
    "pycharm": {
     "name": "#%% md\n"
    }
   }
  },
  {
   "cell_type": "code",
   "execution_count": 60,
   "outputs": [
    {
     "data": {
      "text/plain": "['Алексей Юрьевич,что насчёт канализации на амурской думаете делать,как будем решать проблему?',\n 'Как быть тем многодетным которых вообще не ставят на очередь на землю из за того что один ребёнок на территории папы прописан???Глупые критерии!',\n 'Остановите ценыыыыыыыы!!!!!!!! Скоро по меру пойдём!😢']"
     },
     "execution_count": 60,
     "metadata": {},
     "output_type": "execute_result"
    }
   ],
   "source": [
    "posts_comments = []\n",
    "for post in posts:\n",
    "    post_comments = db.get_comments_by_posts_ids((post.id,))\n",
    "    filtered_comments_contents = [Database.remove_links_from_comment(comment)\n",
    "                                  for comment in post_comments\n",
    "                                  if len(comment.text) > 15]\n",
    "    posts_comments.append(filtered_comments_contents)\n",
    "\n",
    "posts_comments_contents = []\n",
    "for post_comments in posts_comments:\n",
    "    posts_comments_contents.append([comment.text for comment in post_comments])\n",
    "\n",
    "posts_comments_contents[0][:3]  # первые 3 комментария 1 публикации"
   ],
   "metadata": {
    "collapsed": false,
    "pycharm": {
     "name": "#%%\n"
    }
   }
  },
  {
   "cell_type": "markdown",
   "source": [
    "### Обработка данных на естественном языке\n",
    "\n",
    "Инициализация класса, ответствнного за обработку текста на естественном языке - *NLProcessor*. Он включает в себя методы извлечения ключевых слов с использованием библиотеки [pullenti](https://github.com/pullenti/PullentiPython), построение TF-IDF модели с использованием библиотеки [gensim](https://github.com/RaRe-Technologies/gensim) и др."
   ],
   "metadata": {
    "collapsed": false
   }
  },
  {
   "cell_type": "code",
   "execution_count": 61,
   "outputs": [],
   "source": [
    "from srsparser import NLProcessor\n",
    "\n",
    "nlp = NLProcessor()"
   ],
   "metadata": {
    "collapsed": false,
    "pycharm": {
     "name": "#%%\n"
    }
   }
  },
  {
   "cell_type": "markdown",
   "source": [
    "### Получение TF-IDF весов слов комментариев\n",
    "\n",
    "С помощью метода get_tf_idf_weights класса NLProcessor можно получить TF-IDF веса слов для содержимого каждого комментария."
   ],
   "metadata": {
    "collapsed": false
   }
  },
  {
   "cell_type": "code",
   "execution_count": 62,
   "outputs": [
    {
     "data": {
      "text/plain": "[[['амурской', 0.388],\n  ['канализация', 0.388],\n  ['делать', 0.33],\n  ['насчёт', 0.33],\n  ['решать', 0.33],\n  ['алексей', 0.296],\n  ['думать', 0.296],\n  ['юриевич', 0.296],\n  ['проблема', 0.254],\n  ['быть', 0.214]],\n [['глупый', 0.357],\n  ['критерий', 0.357],\n  ['папа', 0.357],\n  ['прописать', 0.357],\n  ['ставить', 0.357],\n  ['территория', 0.273],\n  ['очередь', 0.251],\n  ['земля', 0.219],\n  ['который', 0.219],\n  ['ребёнок', 0.219],\n  ['многодетный', 0.208],\n  ['вообще', 0.197]],\n [['поидти', 0.522],\n  ['мера', 0.444],\n  ['скоро', 0.444],\n  ['ценыыыыыыы', 0.444],\n  ['остановить', 0.367]]]"
     },
     "execution_count": 62,
     "metadata": {},
     "output_type": "execute_result"
    }
   ],
   "source": [
    "posts_comments_weights = []\n",
    "for post_comments_contents in posts_comments_contents:\n",
    "    posts_comments_weights.append(nlp.get_tf_idf_weights(post_comments_contents))\n",
    "\n",
    "posts_comments_weights[0][:3]  # tf-idf веса слов первых 3 комментариев 1 публикации"
   ],
   "metadata": {
    "collapsed": false,
    "pycharm": {
     "name": "#%%\n"
    }
   }
  },
  {
   "cell_type": "markdown",
   "source": [
    "### Получение ключевых слов комментариев\n",
    "\n",
    "С помощью метода get_keywords_pullenti класса NLProcessor можно получить список ключевых слов (и словосочетаний) для каждого комментария публикации."
   ],
   "metadata": {
    "collapsed": false
   }
  },
  {
   "cell_type": "code",
   "execution_count": 63,
   "outputs": [
    {
     "data": {
      "text/plain": "[['ЮРЬЕВИЧ', 'КАНАЛИЗАЦИЯ', 'ДУМАТЬ', 'ДЕЛАТЬ', 'РЕШАТЬ', 'ПРОБЛЕМА'],\n ['ТЕРРИТОРИЯ ПАПЫ',\n  'ГЛУПЫЙ КРИТЕРИЙ',\n  'СТАВИТЬ',\n  'ОЧЕРЕДЬ',\n  'ЗЕМЛЯ',\n  'РЕБЕНОК',\n  'ТЕРРИТОРИЯ',\n  'ПАПА',\n  'ПРОПИСАТЬ',\n  'ГЛУПЫЙ',\n  'КРИТЕРИЙ'],\n ['ОСТАНОВИТЬ', 'МЕРА', 'ПОЙТИ']]"
     },
     "execution_count": 63,
     "metadata": {},
     "output_type": "execute_result"
    }
   ],
   "source": [
    "posts_comments_keywords = []\n",
    "for post_comments_contents in posts_comments_contents:\n",
    "    post_comments_keywords = []\n",
    "    for i in range(len(post_comments_contents)):\n",
    "        try:\n",
    "            keywords = nlp.get_keywords_pullenti(post_comments_contents[i])\n",
    "            post_comments_keywords.append(keywords)\n",
    "        except Exception:\n",
    "            post_comments_keywords.append([])\n",
    "    posts_comments_keywords.append(post_comments_keywords)\n",
    "\n",
    "posts_comments_keywords[0][:3]"
   ],
   "metadata": {
    "collapsed": false,
    "pycharm": {
     "name": "#%%\n"
    }
   }
  },
  {
   "cell_type": "markdown",
   "source": [
    "### Связь ключевых слов и TF-IDF весов\n",
    "\n",
    "Рассматривается ключевое слово (или словосочетание) и ему в соответствие ставится TF-IDF вес (если для такого слова он был посчитан). TF-IDF вес для словосочетаний рассчитывается как сумма TF-IDF весов слов, из которых состоит словосочетание.\n",
    "\n",
    "Поскольку целью является построение графика социальной динамики, то нас интересует список точек, по которым будет строиться этот график. Точка графика будет представлена кортежом, в котором каждый элемент представляет данные для построения графика: ключевое слово, его TF-IDF вес и дата появления."
   ],
   "metadata": {
    "collapsed": false
   }
  },
  {
   "cell_type": "code",
   "execution_count": 64,
   "outputs": [
    {
     "data": {
      "text/plain": "[['ЮРЬЕВИЧ',\n  0.296,\n  datetime.datetime(2021, 12, 23, 10, 30, 24, tzinfo=datetime.timezone.utc)],\n ['КАНАЛИЗАЦИЯ',\n  0.388,\n  datetime.datetime(2021, 12, 23, 10, 30, 24, tzinfo=datetime.timezone.utc)],\n ['ДУМАТЬ',\n  0.296,\n  datetime.datetime(2021, 12, 23, 10, 30, 24, tzinfo=datetime.timezone.utc)]]"
     },
     "execution_count": 64,
     "metadata": {},
     "output_type": "execute_result"
    }
   ],
   "source": [
    "from typing import List\n",
    "\n",
    "# для каждой публикации формируется свой список точек (для каждой публикации будет свой график)\n",
    "posts_points_info = []\n",
    "# проход по ключевым словам комментариев каждой публикации\n",
    "for j in range(len(posts_comments_keywords)):\n",
    "    # массив точек графика, в котором каждый элемент представляет собой список, состоящий из ключевого слова, его TF-IDF веса и даты появления в комментариях\n",
    "    post_points_info: List[List] = []\n",
    "    # проход по ключевым словам всех комментариев (список, в котором каждый элемент представлен списком ключевых слов комментария)\n",
    "    for i in range(len(posts_comments_keywords[j])):\n",
    "        # если по комментарию было найдено 3 и более ключевых слов\n",
    "        if len(posts_comments_keywords[j][i]) >= 3:\n",
    "            # проход по ключевым словам i-того комментария (список, в котором каждый элемент представлен либо ключевым словом, либо ключевым словосочетанием)\n",
    "            for keyword in posts_comments_keywords[j][i]:\n",
    "                # проверка, элемент является словом или словосочетанием\n",
    "                keyphrase_words = keyword.split()\n",
    "                if len(keyphrase_words) > 1:  # словосочетание\n",
    "                    tf_idf_sum = 0.0\n",
    "                    # проход по словам ключевого словосочетания\n",
    "                    for word in keyphrase_words:\n",
    "                        # лемматизируем слово (получаем его нормальную форму)\n",
    "                        normal_word = nlp.get_normal_form(word)\n",
    "                        for tf_idf_weight in posts_comments_weights[j][i]:\n",
    "                            # если для ключевого слова нашёлся его TF-IDF вес\n",
    "                            if normal_word.lower() == tf_idf_weight[0]:\n",
    "                                tf_idf_sum += tf_idf_weight[1]\n",
    "                                break\n",
    "                    if tf_idf_sum > 0.0:\n",
    "                        post_points_info.append([keyword, tf_idf_sum, posts_comments[j][i].time])\n",
    "                else:  # слово\n",
    "                    # лемматизируем слово (получаем его нормальную форму)\n",
    "                    normal_word = nlp.get_normal_form(keyword)\n",
    "                    # проход по TF-IDF весам слов всех комментариев (список, в котором каждый элемент представлен списком пар \"слово-вес\")\n",
    "                    for tf_idf_weight in posts_comments_weights[j][i]:\n",
    "                        # если для ключевого слова нашёлся его TF-IDF вес\n",
    "                        if normal_word.lower() == tf_idf_weight[0]:\n",
    "                            post_points_info.append([keyword, tf_idf_weight[1], posts_comments[j][i].time])\n",
    "                            break\n",
    "    posts_points_info.append(post_points_info)\n",
    "\n",
    "posts_points_info[0][:3]"
   ],
   "metadata": {
    "collapsed": false,
    "pycharm": {
     "name": "#%%\n"
    }
   }
  },
  {
   "cell_type": "markdown",
   "source": [
    "### Установка библиотеки визуализации данных\n",
    "\n",
    "В качестве библиотеки для построения графиков выбрана [plotly](https://github.com/plotly/plotly.py). Данная библиотека также требует установки пакета pandas."
   ],
   "metadata": {
    "collapsed": false,
    "pycharm": {
     "name": "#%% md\n"
    }
   }
  },
  {
   "cell_type": "code",
   "execution_count": 65,
   "outputs": [
    {
     "name": "stdout",
     "output_type": "stream",
     "text": [
      "Requirement already satisfied: plotly in c:\\users\\f0rge\\pycharmprojects\\posts-scraper\\venv\\lib\\site-packages (5.6.0)\n",
      "Requirement already satisfied: tenacity>=6.2.0 in c:\\users\\f0rge\\pycharmprojects\\posts-scraper\\venv\\lib\\site-packages (from plotly) (8.0.1)\n",
      "Requirement already satisfied: six in c:\\users\\f0rge\\pycharmprojects\\posts-scraper\\venv\\lib\\site-packages (from plotly) (1.16.0)\n",
      "Note: you may need to restart the kernel to use updated packages.\n"
     ]
    },
    {
     "name": "stderr",
     "output_type": "stream",
     "text": [
      "WARNING: You are using pip version 21.3.1; however, version 22.0.4 is available.\n",
      "You should consider upgrading via the 'C:\\Users\\f0rge\\PycharmProjects\\posts-scraper\\venv\\Scripts\\python.exe -m pip install --upgrade pip' command.\n"
     ]
    },
    {
     "name": "stdout",
     "output_type": "stream",
     "text": [
      "Requirement already satisfied: pandas in c:\\users\\f0rge\\pycharmprojects\\posts-scraper\\venv\\lib\\site-packages (1.1.5)Note: you may need to restart the kernel to use updated packages.\n"
     ]
    },
    {
     "name": "stderr",
     "output_type": "stream",
     "text": [
      "WARNING: You are using pip version 21.3.1; however, version 22.0.4 is available.\n",
      "You should consider upgrading via the 'C:\\Users\\f0rge\\PycharmProjects\\posts-scraper\\venv\\Scripts\\python.exe -m pip install --upgrade pip' command.\n"
     ]
    },
    {
     "name": "stdout",
     "output_type": "stream",
     "text": [
      "\n",
      "Requirement already satisfied: pytz>=2017.2 in c:\\users\\f0rge\\pycharmprojects\\posts-scraper\\venv\\lib\\site-packages (from pandas) (2021.3)\n",
      "Requirement already satisfied: numpy>=1.15.4 in c:\\users\\f0rge\\pycharmprojects\\posts-scraper\\venv\\lib\\site-packages (from pandas) (1.21.5)\n",
      "Requirement already satisfied: python-dateutil>=2.7.3 in c:\\users\\f0rge\\pycharmprojects\\posts-scraper\\venv\\lib\\site-packages (from pandas) (2.8.2)\n",
      "Requirement already satisfied: six>=1.5 in c:\\users\\f0rge\\pycharmprojects\\posts-scraper\\venv\\lib\\site-packages (from python-dateutil>=2.7.3->pandas) (1.16.0)\n"
     ]
    }
   ],
   "source": [
    "%pip install plotly --upgrade\n",
    "%pip install pandas --upgrade"
   ],
   "metadata": {
    "collapsed": false,
    "pycharm": {
     "name": "#%%\n"
    }
   }
  },
  {
   "cell_type": "markdown",
   "source": [
    "### Визуализация данных\n",
    "\n",
    "Преобразуем информацию о ключевых словах в Dataframe pandas для того, чтобы с ним можно было работать в plotly."
   ],
   "metadata": {
    "collapsed": false,
    "pycharm": {
     "name": "#%% md\n"
    }
   }
  },
  {
   "cell_type": "code",
   "execution_count": 66,
   "outputs": [
    {
     "data": {
      "text/plain": "           Keyword  TF-IDF ratio           Appearance time\n0  ТЕРРИТОРИЯ ПАПЫ         0.630 2021-12-23 10:39:19+00:00\n1  ГЛУПЫЙ КРИТЕРИЙ         0.714 2021-12-23 10:39:19+00:00\n2     ДОБРЫЙ ВЕЧЕР         0.547 2021-12-23 10:54:02+00:00",
      "text/html": "<div>\n<style scoped>\n    .dataframe tbody tr th:only-of-type {\n        vertical-align: middle;\n    }\n\n    .dataframe tbody tr th {\n        vertical-align: top;\n    }\n\n    .dataframe thead th {\n        text-align: right;\n    }\n</style>\n<table border=\"1\" class=\"dataframe\">\n  <thead>\n    <tr style=\"text-align: right;\">\n      <th></th>\n      <th>Keyword</th>\n      <th>TF-IDF ratio</th>\n      <th>Appearance time</th>\n    </tr>\n  </thead>\n  <tbody>\n    <tr>\n      <th>0</th>\n      <td>ТЕРРИТОРИЯ ПАПЫ</td>\n      <td>0.630</td>\n      <td>2021-12-23 10:39:19+00:00</td>\n    </tr>\n    <tr>\n      <th>1</th>\n      <td>ГЛУПЫЙ КРИТЕРИЙ</td>\n      <td>0.714</td>\n      <td>2021-12-23 10:39:19+00:00</td>\n    </tr>\n    <tr>\n      <th>2</th>\n      <td>ДОБРЫЙ ВЕЧЕР</td>\n      <td>0.547</td>\n      <td>2021-12-23 10:54:02+00:00</td>\n    </tr>\n  </tbody>\n</table>\n</div>"
     },
     "execution_count": 66,
     "metadata": {},
     "output_type": "execute_result"
    }
   ],
   "source": [
    "import pandas as pd\n",
    "\n",
    "MIN_RATIO = 0.5\n",
    "\n",
    "posts_dfs: List[pd.DataFrame] = []\n",
    "for post_points_info in posts_points_info:\n",
    "    posts_dfs.append(pd.DataFrame([plot_point for plot_point in post_points_info if plot_point[1] > MIN_RATIO],\n",
    "                  columns=['Keyword', 'TF-IDF ratio', 'Appearance time']))\n",
    "posts_dfs[0].head(3)"
   ],
   "metadata": {
    "collapsed": false,
    "pycharm": {
     "name": "#%%\n"
    }
   }
  },
  {
   "cell_type": "markdown",
   "source": [
    "На основе полученного датафрейма создаём графики, соответствующие выбранным публикациям:\n",
    "\n",
    "- По оси Oy будут представлены коэффициенты \"важности\" ключевых слов комментариев.\n",
    "- По оси Ox будут представлены временные метки, которые относятся к появлению ключевого слова.\n",
    "- Сама точка на графике будет представлять ключевое слово."
   ],
   "metadata": {
    "collapsed": false,
    "pycharm": {
     "name": "#%% md\n"
    }
   }
  },
  {
   "cell_type": "code",
   "execution_count": 67,
   "outputs": [
    {
     "data": {
      "application/vnd.plotly.v1+json": {
       "data": [
        {
         "hovertemplate": "Appearance time=%{x}<br>TF-IDF ratio=%{y}<br>Keyword=%{text}<extra></extra>",
         "legendgroup": "",
         "marker": {
          "color": "#636efa",
          "symbol": "circle"
         },
         "mode": "markers+text",
         "name": "",
         "orientation": "v",
         "showlegend": false,
         "text": [
          "ТЕРРИТОРИЯ ПАПЫ",
          "ГЛУПЫЙ КРИТЕРИЙ",
          "ДОБРЫЙ ВЕЧЕР",
          "КРУГЛОСУТОЧНАЯ АПТЕКА",
          "Земля",
          "ДАВАТЬ",
          "ИНФРАСТРУКТУРА",
          "ВИНА РУССКИХ",
          "КОВИДНЫЙ ГОСПИТАЛЬ",
          "СТРОИТЬ",
          "ДЕДУШКА МОРОЗА",
          "ЗАПРОС",
          "ЧАСТНАЯ РУКА",
          "ЧАСТНЫЙ",
          "РУКА",
          "ПРЯМАЯ ЛИНИЯ",
          "ЗЕМЛЯ",
          "ОСУШЕСТВЛЕНИЕ ПОСТАВЛЕННЫХ ЗАДАЧ",
          "ПОСТАВЛЕННАЯ ЗАДАЧА",
          "ГРЕЧКА ОФИГЕЛА",
          "КИЛОГРАММ КАРТОШКИ",
          "ЧЕРТ ГОРОДА",
          "РЕШЕННАЯ ЗАДАЧА",
          "ПОВЫШАТЬ",
          "УКРЕПЛЯТЬ",
          "ТРЕБОВАНИЕ ГРАЖДАН",
          "ЖИЛЬЕ ДЕТЕЙ",
          "ЖИЛЬЕ",
          "ДЕТАЛЬНЫЙ КОММЕНТАРИЙ",
          "Управление Имущественных Отношений, Экономики и Развития Конкуренции",
          "НОВОЕ СТРУКТУРНОЕ ПОДРАЗДЕЛЕНИЕ",
          "СТРУКТУРНОЕ ПОДРАЗДЕЛЕНИЕ",
          "ОТВЕЧАТЬ",
          "МОЩНОСТЬ",
          "ОРГАНИЗАЦИЯ ПИТАНИЯ",
          "ВЫЕЗДНАЯ ПРОВЕРКА ПИТАНИЯ",
          "УЛЬЯНОВСКИЙ ДЕПУТАТ",
          "улица Радищева",
          "улица Радищева д.151",
          "КОНТАКТНЫЙ НОМЕР ТЕЛЕФОНА",
          "РАЗЪЯСНЕНИЕ ВОПРОСА",
          "РАЗЪЯСНЕНИЕ",
          "КАПИТАЛЬНЫЙ РЕМОНТ ДОРОГИ",
          "НОМЕР КВАРТИРЫ",
          "НОМЕР",
          "НОМЕР ТЕЛЕФОНА",
          "РАЙОН ПРОЖИВАНИЯ",
          "ПРОЖИВАНИЕ",
          "КРИК ДУШИ",
          "МАГАЗИН",
          "СФЕРА",
          "КВАРТИРА МАНЕВРЕННОГО ФОНДА",
          "Министерство Здравоохранения (Минздрав)",
          "СООТВЕТСТВУЮЩЕЕ ПОДРАЗДЕЛЕНИЕ",
          "СООТВЕТСТВУЮЩИЙ",
          "ПОДРАЗДЕЛЕНИЕ",
          "КРУГЛОСУТОЧНАЯ АПТЕКА",
          "АПТЕКА",
          "РИСОВАНИЕ КРАСИВЫХ ОТЧЕТОВ",
          "ОЧЕРЕДЬ",
          "НАБЛЮДАЮЩИЙСЯ РОСТ ЦЕН",
          "РОСТ ТРАНСПОРТНЫХ РАСХОДОВ",
          "РОСТ ОБЪЕМОВ",
          "РОСТ ЦЕН",
          "НАБЛЮДАЮЩИЙСЯ РОСТ ЦЕН",
          "РЕЗКИЙ РОСТ ЦЕН",
          "РОСТ ЦЕН",
          "УЧАСТКОВАЯ МЕДСЕСТРА",
          "БОЛЬШОЕ СПАСИБО",
          "СПАСИБО",
          "БОЛЬШОЙ",
          "БОЛЬШОЕ СПАСИБО",
          "НЕПОДЪЕМНАЯ ЦЕНА",
          "ОТДЕЛЬНОЕ ГОСУДАРСТВО",
          "ПАЧКА МАКАРОН",
          "ЗАМЕЧАТЕЛЬНАЯ ИНФРАСТРУКТУРА",
          "ОТЛИЧНОЕ РАЗВИТИЕ",
          "МЕДРАБОТНИК ГОСУДАРСТВЕННЫХ МЕДУЧРЕЖДЕНИЙ",
          "ЛИЧНЫЙ СООБЩЕНИЯ МЕДРАБОТНИК",
          "ОЧИСТКА МАГИСТРАЛЬНЫХ ДОРОГ",
          "МАГИСТРАЛЬНАЯ ДОРОГА",
          "ОЧИСТКА ДОРОГ",
          "ПОРЯДОК ДОРОГИ",
          "УТОЧНИТЬ",
          "СПЕЦИАЛИСТ",
          "ПОВЫШЕНИЕ ЗАРАБОТНОЙ ПЛАТЫ",
          "ПЕДАГОГИЧЕСКИЙ РАБОТНИК ШКОЛ",
          "ПЕДАГОГИЧЕСКИЙ РАБОТНИК",
          "ТРУД ПЕДАГОГА",
          "СТАТУС ПЕДАГОГА"
         ],
         "x": [
          "2021-12-23T10:39:19+00:00",
          "2021-12-23T10:39:19+00:00",
          "2021-12-23T10:54:02+00:00",
          "2021-12-23T10:54:02+00:00",
          "2021-12-23T10:57:04+00:00",
          "2021-12-23T10:57:04+00:00",
          "2021-12-23T10:57:04+00:00",
          "2021-12-23T11:06:42+00:00",
          "2021-12-23T11:13:57+00:00",
          "2021-12-23T11:13:57+00:00",
          "2021-12-23T11:23:00+00:00",
          "2021-12-23T11:27:28+00:00",
          "2021-12-23T12:10:34+00:00",
          "2021-12-23T12:10:34+00:00",
          "2021-12-23T12:10:34+00:00",
          "2021-12-23T12:18:05+00:00",
          "2021-12-23T12:26:06+00:00",
          "2021-12-23T13:03:17+00:00",
          "2021-12-23T13:03:17+00:00",
          "2021-12-23T14:58:13+00:00",
          "2021-12-23T14:58:13+00:00",
          "2021-12-23T15:36:04+00:00",
          "2021-12-23T15:49:16+00:00",
          "2021-12-23T15:49:43+00:00",
          "2021-12-23T15:49:43+00:00",
          "2021-12-23T16:06:35+00:00",
          "2021-12-24T01:20:08+00:00",
          "2021-12-24T01:20:08+00:00",
          "2021-12-24T01:41:31+00:00",
          "2021-12-24T01:42:07+00:00",
          "2021-12-24T03:34:03+00:00",
          "2021-12-24T03:34:03+00:00",
          "2021-12-24T03:40:25+00:00",
          "2021-12-24T03:40:25+00:00",
          "2021-12-24T03:54:05+00:00",
          "2021-12-24T03:54:05+00:00",
          "2021-12-24T03:57:17+00:00",
          "2021-12-24T04:07:15+00:00",
          "2021-12-24T04:07:15+00:00",
          "2021-12-24T04:07:47+00:00",
          "2021-12-24T04:39:58+00:00",
          "2021-12-24T04:39:58+00:00",
          "2021-12-24T04:44:00+00:00",
          "2021-12-24T04:57:36+00:00",
          "2021-12-24T04:57:36+00:00",
          "2021-12-24T04:57:36+00:00",
          "2021-12-24T05:07:45+00:00",
          "2021-12-24T05:07:45+00:00",
          "2021-12-24T05:08:40+00:00",
          "2021-12-24T05:17:30+00:00",
          "2021-12-24T05:31:55+00:00",
          "2021-12-24T05:34:09+00:00",
          "2021-12-24T07:04:27+00:00",
          "2021-12-24T07:06:11+00:00",
          "2021-12-24T07:06:11+00:00",
          "2021-12-24T07:06:11+00:00",
          "2021-12-24T07:10:30+00:00",
          "2021-12-24T07:10:30+00:00",
          "2021-12-24T07:14:02+00:00",
          "2021-12-24T07:25:32+00:00",
          "2021-12-24T07:34:09+00:00",
          "2021-12-24T07:34:09+00:00",
          "2021-12-24T07:34:09+00:00",
          "2021-12-24T07:34:09+00:00",
          "2021-12-24T07:50:58+00:00",
          "2021-12-24T07:50:58+00:00",
          "2021-12-24T07:50:58+00:00",
          "2021-12-24T09:27:53+00:00",
          "2021-12-24T10:11:00+00:00",
          "2021-12-24T10:11:00+00:00",
          "2021-12-24T10:11:00+00:00",
          "2021-12-24T10:12:31+00:00",
          "2021-12-24T10:17:19+00:00",
          "2021-12-24T10:43:31+00:00",
          "2021-12-24T10:50:23+00:00",
          "2021-12-24T13:51:13+00:00",
          "2021-12-24T13:51:13+00:00",
          "2021-12-27T04:04:04+00:00",
          "2021-12-27T04:04:04+00:00",
          "2021-12-27T06:29:39+00:00",
          "2021-12-27T06:29:39+00:00",
          "2021-12-27T06:29:39+00:00",
          "2021-12-29T01:16:28+00:00",
          "2021-12-29T04:22:31+00:00",
          "2021-12-29T04:22:31+00:00",
          "2021-12-30T09:09:49+00:00",
          "2021-12-30T09:09:49+00:00",
          "2021-12-30T09:09:49+00:00",
          "2021-12-30T15:07:06+00:00",
          "2021-12-30T15:07:06+00:00"
         ],
         "xaxis": "x",
         "y": [
          0.63,
          0.714,
          0.5469999999999999,
          0.674,
          0.516,
          0.516,
          0.549,
          0.714,
          0.992,
          0.583,
          0.518,
          0.601,
          1.244,
          0.672,
          0.572,
          0.816,
          0.595,
          0.924,
          0.6000000000000001,
          0.7909999999999999,
          0.728,
          0.745,
          0.618,
          0.617,
          0.617,
          0.612,
          0.502,
          0.502,
          0.694,
          0.601,
          0.952,
          0.767,
          0.577,
          0.577,
          0.501,
          0.573,
          0.518,
          0.532,
          0.532,
          0.6950000000000001,
          0.84,
          0.592,
          0.536,
          1.002,
          0.649,
          0.974,
          0.519,
          0.519,
          0.758,
          0.53,
          0.655,
          0.526,
          1.176,
          1.119,
          0.59,
          0.529,
          0.847,
          0.565,
          0.51,
          0.526,
          0.55,
          0.501,
          0.501,
          0.55,
          0.504,
          0.5660000000000001,
          0.504,
          0.794,
          1.391,
          0.568,
          0.823,
          0.61,
          0.52,
          0.683,
          0.653,
          0.587,
          0.604,
          0.625,
          0.649,
          0.8320000000000001,
          0.517,
          0.608,
          0.5529999999999999,
          0.554,
          0.765,
          0.6659999999999999,
          1.1219999999999999,
          0.858,
          0.78,
          0.624
         ],
         "yaxis": "y",
         "type": "scatter"
        }
       ],
       "layout": {
        "template": {
         "data": {
          "bar": [
           {
            "error_x": {
             "color": "#2a3f5f"
            },
            "error_y": {
             "color": "#2a3f5f"
            },
            "marker": {
             "line": {
              "color": "#E5ECF6",
              "width": 0.5
             },
             "pattern": {
              "fillmode": "overlay",
              "size": 10,
              "solidity": 0.2
             }
            },
            "type": "bar"
           }
          ],
          "barpolar": [
           {
            "marker": {
             "line": {
              "color": "#E5ECF6",
              "width": 0.5
             },
             "pattern": {
              "fillmode": "overlay",
              "size": 10,
              "solidity": 0.2
             }
            },
            "type": "barpolar"
           }
          ],
          "carpet": [
           {
            "aaxis": {
             "endlinecolor": "#2a3f5f",
             "gridcolor": "white",
             "linecolor": "white",
             "minorgridcolor": "white",
             "startlinecolor": "#2a3f5f"
            },
            "baxis": {
             "endlinecolor": "#2a3f5f",
             "gridcolor": "white",
             "linecolor": "white",
             "minorgridcolor": "white",
             "startlinecolor": "#2a3f5f"
            },
            "type": "carpet"
           }
          ],
          "choropleth": [
           {
            "colorbar": {
             "outlinewidth": 0,
             "ticks": ""
            },
            "type": "choropleth"
           }
          ],
          "contour": [
           {
            "colorbar": {
             "outlinewidth": 0,
             "ticks": ""
            },
            "colorscale": [
             [
              0.0,
              "#0d0887"
             ],
             [
              0.1111111111111111,
              "#46039f"
             ],
             [
              0.2222222222222222,
              "#7201a8"
             ],
             [
              0.3333333333333333,
              "#9c179e"
             ],
             [
              0.4444444444444444,
              "#bd3786"
             ],
             [
              0.5555555555555556,
              "#d8576b"
             ],
             [
              0.6666666666666666,
              "#ed7953"
             ],
             [
              0.7777777777777778,
              "#fb9f3a"
             ],
             [
              0.8888888888888888,
              "#fdca26"
             ],
             [
              1.0,
              "#f0f921"
             ]
            ],
            "type": "contour"
           }
          ],
          "contourcarpet": [
           {
            "colorbar": {
             "outlinewidth": 0,
             "ticks": ""
            },
            "type": "contourcarpet"
           }
          ],
          "heatmap": [
           {
            "colorbar": {
             "outlinewidth": 0,
             "ticks": ""
            },
            "colorscale": [
             [
              0.0,
              "#0d0887"
             ],
             [
              0.1111111111111111,
              "#46039f"
             ],
             [
              0.2222222222222222,
              "#7201a8"
             ],
             [
              0.3333333333333333,
              "#9c179e"
             ],
             [
              0.4444444444444444,
              "#bd3786"
             ],
             [
              0.5555555555555556,
              "#d8576b"
             ],
             [
              0.6666666666666666,
              "#ed7953"
             ],
             [
              0.7777777777777778,
              "#fb9f3a"
             ],
             [
              0.8888888888888888,
              "#fdca26"
             ],
             [
              1.0,
              "#f0f921"
             ]
            ],
            "type": "heatmap"
           }
          ],
          "heatmapgl": [
           {
            "colorbar": {
             "outlinewidth": 0,
             "ticks": ""
            },
            "colorscale": [
             [
              0.0,
              "#0d0887"
             ],
             [
              0.1111111111111111,
              "#46039f"
             ],
             [
              0.2222222222222222,
              "#7201a8"
             ],
             [
              0.3333333333333333,
              "#9c179e"
             ],
             [
              0.4444444444444444,
              "#bd3786"
             ],
             [
              0.5555555555555556,
              "#d8576b"
             ],
             [
              0.6666666666666666,
              "#ed7953"
             ],
             [
              0.7777777777777778,
              "#fb9f3a"
             ],
             [
              0.8888888888888888,
              "#fdca26"
             ],
             [
              1.0,
              "#f0f921"
             ]
            ],
            "type": "heatmapgl"
           }
          ],
          "histogram": [
           {
            "marker": {
             "pattern": {
              "fillmode": "overlay",
              "size": 10,
              "solidity": 0.2
             }
            },
            "type": "histogram"
           }
          ],
          "histogram2d": [
           {
            "colorbar": {
             "outlinewidth": 0,
             "ticks": ""
            },
            "colorscale": [
             [
              0.0,
              "#0d0887"
             ],
             [
              0.1111111111111111,
              "#46039f"
             ],
             [
              0.2222222222222222,
              "#7201a8"
             ],
             [
              0.3333333333333333,
              "#9c179e"
             ],
             [
              0.4444444444444444,
              "#bd3786"
             ],
             [
              0.5555555555555556,
              "#d8576b"
             ],
             [
              0.6666666666666666,
              "#ed7953"
             ],
             [
              0.7777777777777778,
              "#fb9f3a"
             ],
             [
              0.8888888888888888,
              "#fdca26"
             ],
             [
              1.0,
              "#f0f921"
             ]
            ],
            "type": "histogram2d"
           }
          ],
          "histogram2dcontour": [
           {
            "colorbar": {
             "outlinewidth": 0,
             "ticks": ""
            },
            "colorscale": [
             [
              0.0,
              "#0d0887"
             ],
             [
              0.1111111111111111,
              "#46039f"
             ],
             [
              0.2222222222222222,
              "#7201a8"
             ],
             [
              0.3333333333333333,
              "#9c179e"
             ],
             [
              0.4444444444444444,
              "#bd3786"
             ],
             [
              0.5555555555555556,
              "#d8576b"
             ],
             [
              0.6666666666666666,
              "#ed7953"
             ],
             [
              0.7777777777777778,
              "#fb9f3a"
             ],
             [
              0.8888888888888888,
              "#fdca26"
             ],
             [
              1.0,
              "#f0f921"
             ]
            ],
            "type": "histogram2dcontour"
           }
          ],
          "mesh3d": [
           {
            "colorbar": {
             "outlinewidth": 0,
             "ticks": ""
            },
            "type": "mesh3d"
           }
          ],
          "parcoords": [
           {
            "line": {
             "colorbar": {
              "outlinewidth": 0,
              "ticks": ""
             }
            },
            "type": "parcoords"
           }
          ],
          "pie": [
           {
            "automargin": true,
            "type": "pie"
           }
          ],
          "scatter": [
           {
            "marker": {
             "colorbar": {
              "outlinewidth": 0,
              "ticks": ""
             }
            },
            "type": "scatter"
           }
          ],
          "scatter3d": [
           {
            "line": {
             "colorbar": {
              "outlinewidth": 0,
              "ticks": ""
             }
            },
            "marker": {
             "colorbar": {
              "outlinewidth": 0,
              "ticks": ""
             }
            },
            "type": "scatter3d"
           }
          ],
          "scattercarpet": [
           {
            "marker": {
             "colorbar": {
              "outlinewidth": 0,
              "ticks": ""
             }
            },
            "type": "scattercarpet"
           }
          ],
          "scattergeo": [
           {
            "marker": {
             "colorbar": {
              "outlinewidth": 0,
              "ticks": ""
             }
            },
            "type": "scattergeo"
           }
          ],
          "scattergl": [
           {
            "marker": {
             "colorbar": {
              "outlinewidth": 0,
              "ticks": ""
             }
            },
            "type": "scattergl"
           }
          ],
          "scattermapbox": [
           {
            "marker": {
             "colorbar": {
              "outlinewidth": 0,
              "ticks": ""
             }
            },
            "type": "scattermapbox"
           }
          ],
          "scatterpolar": [
           {
            "marker": {
             "colorbar": {
              "outlinewidth": 0,
              "ticks": ""
             }
            },
            "type": "scatterpolar"
           }
          ],
          "scatterpolargl": [
           {
            "marker": {
             "colorbar": {
              "outlinewidth": 0,
              "ticks": ""
             }
            },
            "type": "scatterpolargl"
           }
          ],
          "scatterternary": [
           {
            "marker": {
             "colorbar": {
              "outlinewidth": 0,
              "ticks": ""
             }
            },
            "type": "scatterternary"
           }
          ],
          "surface": [
           {
            "colorbar": {
             "outlinewidth": 0,
             "ticks": ""
            },
            "colorscale": [
             [
              0.0,
              "#0d0887"
             ],
             [
              0.1111111111111111,
              "#46039f"
             ],
             [
              0.2222222222222222,
              "#7201a8"
             ],
             [
              0.3333333333333333,
              "#9c179e"
             ],
             [
              0.4444444444444444,
              "#bd3786"
             ],
             [
              0.5555555555555556,
              "#d8576b"
             ],
             [
              0.6666666666666666,
              "#ed7953"
             ],
             [
              0.7777777777777778,
              "#fb9f3a"
             ],
             [
              0.8888888888888888,
              "#fdca26"
             ],
             [
              1.0,
              "#f0f921"
             ]
            ],
            "type": "surface"
           }
          ],
          "table": [
           {
            "cells": {
             "fill": {
              "color": "#EBF0F8"
             },
             "line": {
              "color": "white"
             }
            },
            "header": {
             "fill": {
              "color": "#C8D4E3"
             },
             "line": {
              "color": "white"
             }
            },
            "type": "table"
           }
          ]
         },
         "layout": {
          "annotationdefaults": {
           "arrowcolor": "#2a3f5f",
           "arrowhead": 0,
           "arrowwidth": 1
          },
          "autotypenumbers": "strict",
          "coloraxis": {
           "colorbar": {
            "outlinewidth": 0,
            "ticks": ""
           }
          },
          "colorscale": {
           "diverging": [
            [
             0,
             "#8e0152"
            ],
            [
             0.1,
             "#c51b7d"
            ],
            [
             0.2,
             "#de77ae"
            ],
            [
             0.3,
             "#f1b6da"
            ],
            [
             0.4,
             "#fde0ef"
            ],
            [
             0.5,
             "#f7f7f7"
            ],
            [
             0.6,
             "#e6f5d0"
            ],
            [
             0.7,
             "#b8e186"
            ],
            [
             0.8,
             "#7fbc41"
            ],
            [
             0.9,
             "#4d9221"
            ],
            [
             1,
             "#276419"
            ]
           ],
           "sequential": [
            [
             0.0,
             "#0d0887"
            ],
            [
             0.1111111111111111,
             "#46039f"
            ],
            [
             0.2222222222222222,
             "#7201a8"
            ],
            [
             0.3333333333333333,
             "#9c179e"
            ],
            [
             0.4444444444444444,
             "#bd3786"
            ],
            [
             0.5555555555555556,
             "#d8576b"
            ],
            [
             0.6666666666666666,
             "#ed7953"
            ],
            [
             0.7777777777777778,
             "#fb9f3a"
            ],
            [
             0.8888888888888888,
             "#fdca26"
            ],
            [
             1.0,
             "#f0f921"
            ]
           ],
           "sequentialminus": [
            [
             0.0,
             "#0d0887"
            ],
            [
             0.1111111111111111,
             "#46039f"
            ],
            [
             0.2222222222222222,
             "#7201a8"
            ],
            [
             0.3333333333333333,
             "#9c179e"
            ],
            [
             0.4444444444444444,
             "#bd3786"
            ],
            [
             0.5555555555555556,
             "#d8576b"
            ],
            [
             0.6666666666666666,
             "#ed7953"
            ],
            [
             0.7777777777777778,
             "#fb9f3a"
            ],
            [
             0.8888888888888888,
             "#fdca26"
            ],
            [
             1.0,
             "#f0f921"
            ]
           ]
          },
          "colorway": [
           "#636efa",
           "#EF553B",
           "#00cc96",
           "#ab63fa",
           "#FFA15A",
           "#19d3f3",
           "#FF6692",
           "#B6E880",
           "#FF97FF",
           "#FECB52"
          ],
          "font": {
           "color": "#2a3f5f"
          },
          "geo": {
           "bgcolor": "white",
           "lakecolor": "white",
           "landcolor": "#E5ECF6",
           "showlakes": true,
           "showland": true,
           "subunitcolor": "white"
          },
          "hoverlabel": {
           "align": "left"
          },
          "hovermode": "closest",
          "mapbox": {
           "style": "light"
          },
          "paper_bgcolor": "white",
          "plot_bgcolor": "#E5ECF6",
          "polar": {
           "angularaxis": {
            "gridcolor": "white",
            "linecolor": "white",
            "ticks": ""
           },
           "bgcolor": "#E5ECF6",
           "radialaxis": {
            "gridcolor": "white",
            "linecolor": "white",
            "ticks": ""
           }
          },
          "scene": {
           "xaxis": {
            "backgroundcolor": "#E5ECF6",
            "gridcolor": "white",
            "gridwidth": 2,
            "linecolor": "white",
            "showbackground": true,
            "ticks": "",
            "zerolinecolor": "white"
           },
           "yaxis": {
            "backgroundcolor": "#E5ECF6",
            "gridcolor": "white",
            "gridwidth": 2,
            "linecolor": "white",
            "showbackground": true,
            "ticks": "",
            "zerolinecolor": "white"
           },
           "zaxis": {
            "backgroundcolor": "#E5ECF6",
            "gridcolor": "white",
            "gridwidth": 2,
            "linecolor": "white",
            "showbackground": true,
            "ticks": "",
            "zerolinecolor": "white"
           }
          },
          "shapedefaults": {
           "line": {
            "color": "#2a3f5f"
           }
          },
          "ternary": {
           "aaxis": {
            "gridcolor": "white",
            "linecolor": "white",
            "ticks": ""
           },
           "baxis": {
            "gridcolor": "white",
            "linecolor": "white",
            "ticks": ""
           },
           "bgcolor": "#E5ECF6",
           "caxis": {
            "gridcolor": "white",
            "linecolor": "white",
            "ticks": ""
           }
          },
          "title": {
           "x": 0.05
          },
          "xaxis": {
           "automargin": true,
           "gridcolor": "white",
           "linecolor": "white",
           "ticks": "",
           "title": {
            "standoff": 15
           },
           "zerolinecolor": "white",
           "zerolinewidth": 2
          },
          "yaxis": {
           "automargin": true,
           "gridcolor": "white",
           "linecolor": "white",
           "ticks": "",
           "title": {
            "standoff": 15
           },
           "zerolinecolor": "white",
           "zerolinewidth": 2
          }
         }
        },
        "xaxis": {
         "anchor": "y",
         "domain": [
          0.0,
          1.0
         ],
         "title": {
          "text": "Appearance time"
         }
        },
        "yaxis": {
         "anchor": "x",
         "domain": [
          0.0,
          1.0
         ],
         "title": {
          "text": "TF-IDF ratio"
         }
        },
        "legend": {
         "tracegroupgap": 0
        },
        "title": {
         "text": "https://www.instagram.com/p/CX097AWNTm2/"
        }
       },
       "config": {
        "plotlyServerURL": "https://plot.ly"
       }
      },
      "text/html": "<div>                            <div id=\"7ebef119-6e86-4a7e-8af5-301d4cb195b3\" class=\"plotly-graph-div\" style=\"height:525px; width:100%;\"></div>            <script type=\"text/javascript\">                require([\"plotly\"], function(Plotly) {                    window.PLOTLYENV=window.PLOTLYENV || {};                                    if (document.getElementById(\"7ebef119-6e86-4a7e-8af5-301d4cb195b3\")) {                    Plotly.newPlot(                        \"7ebef119-6e86-4a7e-8af5-301d4cb195b3\",                        [{\"hovertemplate\":\"Appearance time=%{x}<br>TF-IDF ratio=%{y}<br>Keyword=%{text}<extra></extra>\",\"legendgroup\":\"\",\"marker\":{\"color\":\"#636efa\",\"symbol\":\"circle\"},\"mode\":\"markers+text\",\"name\":\"\",\"orientation\":\"v\",\"showlegend\":false,\"text\":[\"\\u0422\\u0415\\u0420\\u0420\\u0418\\u0422\\u041e\\u0420\\u0418\\u042f \\u041f\\u0410\\u041f\\u042b\",\"\\u0413\\u041b\\u0423\\u041f\\u042b\\u0419 \\u041a\\u0420\\u0418\\u0422\\u0415\\u0420\\u0418\\u0419\",\"\\u0414\\u041e\\u0411\\u0420\\u042b\\u0419 \\u0412\\u0415\\u0427\\u0415\\u0420\",\"\\u041a\\u0420\\u0423\\u0413\\u041b\\u041e\\u0421\\u0423\\u0422\\u041e\\u0427\\u041d\\u0410\\u042f \\u0410\\u041f\\u0422\\u0415\\u041a\\u0410\",\"\\u0417\\u0435\\u043c\\u043b\\u044f\",\"\\u0414\\u0410\\u0412\\u0410\\u0422\\u042c\",\"\\u0418\\u041d\\u0424\\u0420\\u0410\\u0421\\u0422\\u0420\\u0423\\u041a\\u0422\\u0423\\u0420\\u0410\",\"\\u0412\\u0418\\u041d\\u0410 \\u0420\\u0423\\u0421\\u0421\\u041a\\u0418\\u0425\",\"\\u041a\\u041e\\u0412\\u0418\\u0414\\u041d\\u042b\\u0419 \\u0413\\u041e\\u0421\\u041f\\u0418\\u0422\\u0410\\u041b\\u042c\",\"\\u0421\\u0422\\u0420\\u041e\\u0418\\u0422\\u042c\",\"\\u0414\\u0415\\u0414\\u0423\\u0428\\u041a\\u0410 \\u041c\\u041e\\u0420\\u041e\\u0417\\u0410\",\"\\u0417\\u0410\\u041f\\u0420\\u041e\\u0421\",\"\\u0427\\u0410\\u0421\\u0422\\u041d\\u0410\\u042f \\u0420\\u0423\\u041a\\u0410\",\"\\u0427\\u0410\\u0421\\u0422\\u041d\\u042b\\u0419\",\"\\u0420\\u0423\\u041a\\u0410\",\"\\u041f\\u0420\\u042f\\u041c\\u0410\\u042f \\u041b\\u0418\\u041d\\u0418\\u042f\",\"\\u0417\\u0415\\u041c\\u041b\\u042f\",\"\\u041e\\u0421\\u0423\\u0428\\u0415\\u0421\\u0422\\u0412\\u041b\\u0415\\u041d\\u0418\\u0415 \\u041f\\u041e\\u0421\\u0422\\u0410\\u0412\\u041b\\u0415\\u041d\\u041d\\u042b\\u0425 \\u0417\\u0410\\u0414\\u0410\\u0427\",\"\\u041f\\u041e\\u0421\\u0422\\u0410\\u0412\\u041b\\u0415\\u041d\\u041d\\u0410\\u042f \\u0417\\u0410\\u0414\\u0410\\u0427\\u0410\",\"\\u0413\\u0420\\u0415\\u0427\\u041a\\u0410 \\u041e\\u0424\\u0418\\u0413\\u0415\\u041b\\u0410\",\"\\u041a\\u0418\\u041b\\u041e\\u0413\\u0420\\u0410\\u041c\\u041c \\u041a\\u0410\\u0420\\u0422\\u041e\\u0428\\u041a\\u0418\",\"\\u0427\\u0415\\u0420\\u0422 \\u0413\\u041e\\u0420\\u041e\\u0414\\u0410\",\"\\u0420\\u0415\\u0428\\u0415\\u041d\\u041d\\u0410\\u042f \\u0417\\u0410\\u0414\\u0410\\u0427\\u0410\",\"\\u041f\\u041e\\u0412\\u042b\\u0428\\u0410\\u0422\\u042c\",\"\\u0423\\u041a\\u0420\\u0415\\u041f\\u041b\\u042f\\u0422\\u042c\",\"\\u0422\\u0420\\u0415\\u0411\\u041e\\u0412\\u0410\\u041d\\u0418\\u0415 \\u0413\\u0420\\u0410\\u0416\\u0414\\u0410\\u041d\",\"\\u0416\\u0418\\u041b\\u042c\\u0415 \\u0414\\u0415\\u0422\\u0415\\u0419\",\"\\u0416\\u0418\\u041b\\u042c\\u0415\",\"\\u0414\\u0415\\u0422\\u0410\\u041b\\u042c\\u041d\\u042b\\u0419 \\u041a\\u041e\\u041c\\u041c\\u0415\\u041d\\u0422\\u0410\\u0420\\u0418\\u0419\",\"\\u0423\\u043f\\u0440\\u0430\\u0432\\u043b\\u0435\\u043d\\u0438\\u0435 \\u0418\\u043c\\u0443\\u0449\\u0435\\u0441\\u0442\\u0432\\u0435\\u043d\\u043d\\u044b\\u0445 \\u041e\\u0442\\u043d\\u043e\\u0448\\u0435\\u043d\\u0438\\u0439, \\u042d\\u043a\\u043e\\u043d\\u043e\\u043c\\u0438\\u043a\\u0438 \\u0438 \\u0420\\u0430\\u0437\\u0432\\u0438\\u0442\\u0438\\u044f \\u041a\\u043e\\u043d\\u043a\\u0443\\u0440\\u0435\\u043d\\u0446\\u0438\\u0438\",\"\\u041d\\u041e\\u0412\\u041e\\u0415 \\u0421\\u0422\\u0420\\u0423\\u041a\\u0422\\u0423\\u0420\\u041d\\u041e\\u0415 \\u041f\\u041e\\u0414\\u0420\\u0410\\u0417\\u0414\\u0415\\u041b\\u0415\\u041d\\u0418\\u0415\",\"\\u0421\\u0422\\u0420\\u0423\\u041a\\u0422\\u0423\\u0420\\u041d\\u041e\\u0415 \\u041f\\u041e\\u0414\\u0420\\u0410\\u0417\\u0414\\u0415\\u041b\\u0415\\u041d\\u0418\\u0415\",\"\\u041e\\u0422\\u0412\\u0415\\u0427\\u0410\\u0422\\u042c\",\"\\u041c\\u041e\\u0429\\u041d\\u041e\\u0421\\u0422\\u042c\",\"\\u041e\\u0420\\u0413\\u0410\\u041d\\u0418\\u0417\\u0410\\u0426\\u0418\\u042f \\u041f\\u0418\\u0422\\u0410\\u041d\\u0418\\u042f\",\"\\u0412\\u042b\\u0415\\u0417\\u0414\\u041d\\u0410\\u042f \\u041f\\u0420\\u041e\\u0412\\u0415\\u0420\\u041a\\u0410 \\u041f\\u0418\\u0422\\u0410\\u041d\\u0418\\u042f\",\"\\u0423\\u041b\\u042c\\u042f\\u041d\\u041e\\u0412\\u0421\\u041a\\u0418\\u0419 \\u0414\\u0415\\u041f\\u0423\\u0422\\u0410\\u0422\",\"\\u0443\\u043b\\u0438\\u0446\\u0430 \\u0420\\u0430\\u0434\\u0438\\u0449\\u0435\\u0432\\u0430\",\"\\u0443\\u043b\\u0438\\u0446\\u0430 \\u0420\\u0430\\u0434\\u0438\\u0449\\u0435\\u0432\\u0430 \\u0434.151\",\"\\u041a\\u041e\\u041d\\u0422\\u0410\\u041a\\u0422\\u041d\\u042b\\u0419 \\u041d\\u041e\\u041c\\u0415\\u0420 \\u0422\\u0415\\u041b\\u0415\\u0424\\u041e\\u041d\\u0410\",\"\\u0420\\u0410\\u0417\\u042a\\u042f\\u0421\\u041d\\u0415\\u041d\\u0418\\u0415 \\u0412\\u041e\\u041f\\u0420\\u041e\\u0421\\u0410\",\"\\u0420\\u0410\\u0417\\u042a\\u042f\\u0421\\u041d\\u0415\\u041d\\u0418\\u0415\",\"\\u041a\\u0410\\u041f\\u0418\\u0422\\u0410\\u041b\\u042c\\u041d\\u042b\\u0419 \\u0420\\u0415\\u041c\\u041e\\u041d\\u0422 \\u0414\\u041e\\u0420\\u041e\\u0413\\u0418\",\"\\u041d\\u041e\\u041c\\u0415\\u0420 \\u041a\\u0412\\u0410\\u0420\\u0422\\u0418\\u0420\\u042b\",\"\\u041d\\u041e\\u041c\\u0415\\u0420\",\"\\u041d\\u041e\\u041c\\u0415\\u0420 \\u0422\\u0415\\u041b\\u0415\\u0424\\u041e\\u041d\\u0410\",\"\\u0420\\u0410\\u0419\\u041e\\u041d \\u041f\\u0420\\u041e\\u0416\\u0418\\u0412\\u0410\\u041d\\u0418\\u042f\",\"\\u041f\\u0420\\u041e\\u0416\\u0418\\u0412\\u0410\\u041d\\u0418\\u0415\",\"\\u041a\\u0420\\u0418\\u041a \\u0414\\u0423\\u0428\\u0418\",\"\\u041c\\u0410\\u0413\\u0410\\u0417\\u0418\\u041d\",\"\\u0421\\u0424\\u0415\\u0420\\u0410\",\"\\u041a\\u0412\\u0410\\u0420\\u0422\\u0418\\u0420\\u0410 \\u041c\\u0410\\u041d\\u0415\\u0412\\u0420\\u0415\\u041d\\u041d\\u041e\\u0413\\u041e \\u0424\\u041e\\u041d\\u0414\\u0410\",\"\\u041c\\u0438\\u043d\\u0438\\u0441\\u0442\\u0435\\u0440\\u0441\\u0442\\u0432\\u043e \\u0417\\u0434\\u0440\\u0430\\u0432\\u043e\\u043e\\u0445\\u0440\\u0430\\u043d\\u0435\\u043d\\u0438\\u044f (\\u041c\\u0438\\u043d\\u0437\\u0434\\u0440\\u0430\\u0432)\",\"\\u0421\\u041e\\u041e\\u0422\\u0412\\u0415\\u0422\\u0421\\u0422\\u0412\\u0423\\u042e\\u0429\\u0415\\u0415 \\u041f\\u041e\\u0414\\u0420\\u0410\\u0417\\u0414\\u0415\\u041b\\u0415\\u041d\\u0418\\u0415\",\"\\u0421\\u041e\\u041e\\u0422\\u0412\\u0415\\u0422\\u0421\\u0422\\u0412\\u0423\\u042e\\u0429\\u0418\\u0419\",\"\\u041f\\u041e\\u0414\\u0420\\u0410\\u0417\\u0414\\u0415\\u041b\\u0415\\u041d\\u0418\\u0415\",\"\\u041a\\u0420\\u0423\\u0413\\u041b\\u041e\\u0421\\u0423\\u0422\\u041e\\u0427\\u041d\\u0410\\u042f \\u0410\\u041f\\u0422\\u0415\\u041a\\u0410\",\"\\u0410\\u041f\\u0422\\u0415\\u041a\\u0410\",\"\\u0420\\u0418\\u0421\\u041e\\u0412\\u0410\\u041d\\u0418\\u0415 \\u041a\\u0420\\u0410\\u0421\\u0418\\u0412\\u042b\\u0425 \\u041e\\u0422\\u0427\\u0415\\u0422\\u041e\\u0412\",\"\\u041e\\u0427\\u0415\\u0420\\u0415\\u0414\\u042c\",\"\\u041d\\u0410\\u0411\\u041b\\u042e\\u0414\\u0410\\u042e\\u0429\\u0418\\u0419\\u0421\\u042f \\u0420\\u041e\\u0421\\u0422 \\u0426\\u0415\\u041d\",\"\\u0420\\u041e\\u0421\\u0422 \\u0422\\u0420\\u0410\\u041d\\u0421\\u041f\\u041e\\u0420\\u0422\\u041d\\u042b\\u0425 \\u0420\\u0410\\u0421\\u0425\\u041e\\u0414\\u041e\\u0412\",\"\\u0420\\u041e\\u0421\\u0422 \\u041e\\u0411\\u042a\\u0415\\u041c\\u041e\\u0412\",\"\\u0420\\u041e\\u0421\\u0422 \\u0426\\u0415\\u041d\",\"\\u041d\\u0410\\u0411\\u041b\\u042e\\u0414\\u0410\\u042e\\u0429\\u0418\\u0419\\u0421\\u042f \\u0420\\u041e\\u0421\\u0422 \\u0426\\u0415\\u041d\",\"\\u0420\\u0415\\u0417\\u041a\\u0418\\u0419 \\u0420\\u041e\\u0421\\u0422 \\u0426\\u0415\\u041d\",\"\\u0420\\u041e\\u0421\\u0422 \\u0426\\u0415\\u041d\",\"\\u0423\\u0427\\u0410\\u0421\\u0422\\u041a\\u041e\\u0412\\u0410\\u042f \\u041c\\u0415\\u0414\\u0421\\u0415\\u0421\\u0422\\u0420\\u0410\",\"\\u0411\\u041e\\u041b\\u042c\\u0428\\u041e\\u0415 \\u0421\\u041f\\u0410\\u0421\\u0418\\u0411\\u041e\",\"\\u0421\\u041f\\u0410\\u0421\\u0418\\u0411\\u041e\",\"\\u0411\\u041e\\u041b\\u042c\\u0428\\u041e\\u0419\",\"\\u0411\\u041e\\u041b\\u042c\\u0428\\u041e\\u0415 \\u0421\\u041f\\u0410\\u0421\\u0418\\u0411\\u041e\",\"\\u041d\\u0415\\u041f\\u041e\\u0414\\u042a\\u0415\\u041c\\u041d\\u0410\\u042f \\u0426\\u0415\\u041d\\u0410\",\"\\u041e\\u0422\\u0414\\u0415\\u041b\\u042c\\u041d\\u041e\\u0415 \\u0413\\u041e\\u0421\\u0423\\u0414\\u0410\\u0420\\u0421\\u0422\\u0412\\u041e\",\"\\u041f\\u0410\\u0427\\u041a\\u0410 \\u041c\\u0410\\u041a\\u0410\\u0420\\u041e\\u041d\",\"\\u0417\\u0410\\u041c\\u0415\\u0427\\u0410\\u0422\\u0415\\u041b\\u042c\\u041d\\u0410\\u042f \\u0418\\u041d\\u0424\\u0420\\u0410\\u0421\\u0422\\u0420\\u0423\\u041a\\u0422\\u0423\\u0420\\u0410\",\"\\u041e\\u0422\\u041b\\u0418\\u0427\\u041d\\u041e\\u0415 \\u0420\\u0410\\u0417\\u0412\\u0418\\u0422\\u0418\\u0415\",\"\\u041c\\u0415\\u0414\\u0420\\u0410\\u0411\\u041e\\u0422\\u041d\\u0418\\u041a \\u0413\\u041e\\u0421\\u0423\\u0414\\u0410\\u0420\\u0421\\u0422\\u0412\\u0415\\u041d\\u041d\\u042b\\u0425 \\u041c\\u0415\\u0414\\u0423\\u0427\\u0420\\u0415\\u0416\\u0414\\u0415\\u041d\\u0418\\u0419\",\"\\u041b\\u0418\\u0427\\u041d\\u042b\\u0419 \\u0421\\u041e\\u041e\\u0411\\u0429\\u0415\\u041d\\u0418\\u042f \\u041c\\u0415\\u0414\\u0420\\u0410\\u0411\\u041e\\u0422\\u041d\\u0418\\u041a\",\"\\u041e\\u0427\\u0418\\u0421\\u0422\\u041a\\u0410 \\u041c\\u0410\\u0413\\u0418\\u0421\\u0422\\u0420\\u0410\\u041b\\u042c\\u041d\\u042b\\u0425 \\u0414\\u041e\\u0420\\u041e\\u0413\",\"\\u041c\\u0410\\u0413\\u0418\\u0421\\u0422\\u0420\\u0410\\u041b\\u042c\\u041d\\u0410\\u042f \\u0414\\u041e\\u0420\\u041e\\u0413\\u0410\",\"\\u041e\\u0427\\u0418\\u0421\\u0422\\u041a\\u0410 \\u0414\\u041e\\u0420\\u041e\\u0413\",\"\\u041f\\u041e\\u0420\\u042f\\u0414\\u041e\\u041a \\u0414\\u041e\\u0420\\u041e\\u0413\\u0418\",\"\\u0423\\u0422\\u041e\\u0427\\u041d\\u0418\\u0422\\u042c\",\"\\u0421\\u041f\\u0415\\u0426\\u0418\\u0410\\u041b\\u0418\\u0421\\u0422\",\"\\u041f\\u041e\\u0412\\u042b\\u0428\\u0415\\u041d\\u0418\\u0415 \\u0417\\u0410\\u0420\\u0410\\u0411\\u041e\\u0422\\u041d\\u041e\\u0419 \\u041f\\u041b\\u0410\\u0422\\u042b\",\"\\u041f\\u0415\\u0414\\u0410\\u0413\\u041e\\u0413\\u0418\\u0427\\u0415\\u0421\\u041a\\u0418\\u0419 \\u0420\\u0410\\u0411\\u041e\\u0422\\u041d\\u0418\\u041a \\u0428\\u041a\\u041e\\u041b\",\"\\u041f\\u0415\\u0414\\u0410\\u0413\\u041e\\u0413\\u0418\\u0427\\u0415\\u0421\\u041a\\u0418\\u0419 \\u0420\\u0410\\u0411\\u041e\\u0422\\u041d\\u0418\\u041a\",\"\\u0422\\u0420\\u0423\\u0414 \\u041f\\u0415\\u0414\\u0410\\u0413\\u041e\\u0413\\u0410\",\"\\u0421\\u0422\\u0410\\u0422\\u0423\\u0421 \\u041f\\u0415\\u0414\\u0410\\u0413\\u041e\\u0413\\u0410\"],\"x\":[\"2021-12-23T10:39:19+00:00\",\"2021-12-23T10:39:19+00:00\",\"2021-12-23T10:54:02+00:00\",\"2021-12-23T10:54:02+00:00\",\"2021-12-23T10:57:04+00:00\",\"2021-12-23T10:57:04+00:00\",\"2021-12-23T10:57:04+00:00\",\"2021-12-23T11:06:42+00:00\",\"2021-12-23T11:13:57+00:00\",\"2021-12-23T11:13:57+00:00\",\"2021-12-23T11:23:00+00:00\",\"2021-12-23T11:27:28+00:00\",\"2021-12-23T12:10:34+00:00\",\"2021-12-23T12:10:34+00:00\",\"2021-12-23T12:10:34+00:00\",\"2021-12-23T12:18:05+00:00\",\"2021-12-23T12:26:06+00:00\",\"2021-12-23T13:03:17+00:00\",\"2021-12-23T13:03:17+00:00\",\"2021-12-23T14:58:13+00:00\",\"2021-12-23T14:58:13+00:00\",\"2021-12-23T15:36:04+00:00\",\"2021-12-23T15:49:16+00:00\",\"2021-12-23T15:49:43+00:00\",\"2021-12-23T15:49:43+00:00\",\"2021-12-23T16:06:35+00:00\",\"2021-12-24T01:20:08+00:00\",\"2021-12-24T01:20:08+00:00\",\"2021-12-24T01:41:31+00:00\",\"2021-12-24T01:42:07+00:00\",\"2021-12-24T03:34:03+00:00\",\"2021-12-24T03:34:03+00:00\",\"2021-12-24T03:40:25+00:00\",\"2021-12-24T03:40:25+00:00\",\"2021-12-24T03:54:05+00:00\",\"2021-12-24T03:54:05+00:00\",\"2021-12-24T03:57:17+00:00\",\"2021-12-24T04:07:15+00:00\",\"2021-12-24T04:07:15+00:00\",\"2021-12-24T04:07:47+00:00\",\"2021-12-24T04:39:58+00:00\",\"2021-12-24T04:39:58+00:00\",\"2021-12-24T04:44:00+00:00\",\"2021-12-24T04:57:36+00:00\",\"2021-12-24T04:57:36+00:00\",\"2021-12-24T04:57:36+00:00\",\"2021-12-24T05:07:45+00:00\",\"2021-12-24T05:07:45+00:00\",\"2021-12-24T05:08:40+00:00\",\"2021-12-24T05:17:30+00:00\",\"2021-12-24T05:31:55+00:00\",\"2021-12-24T05:34:09+00:00\",\"2021-12-24T07:04:27+00:00\",\"2021-12-24T07:06:11+00:00\",\"2021-12-24T07:06:11+00:00\",\"2021-12-24T07:06:11+00:00\",\"2021-12-24T07:10:30+00:00\",\"2021-12-24T07:10:30+00:00\",\"2021-12-24T07:14:02+00:00\",\"2021-12-24T07:25:32+00:00\",\"2021-12-24T07:34:09+00:00\",\"2021-12-24T07:34:09+00:00\",\"2021-12-24T07:34:09+00:00\",\"2021-12-24T07:34:09+00:00\",\"2021-12-24T07:50:58+00:00\",\"2021-12-24T07:50:58+00:00\",\"2021-12-24T07:50:58+00:00\",\"2021-12-24T09:27:53+00:00\",\"2021-12-24T10:11:00+00:00\",\"2021-12-24T10:11:00+00:00\",\"2021-12-24T10:11:00+00:00\",\"2021-12-24T10:12:31+00:00\",\"2021-12-24T10:17:19+00:00\",\"2021-12-24T10:43:31+00:00\",\"2021-12-24T10:50:23+00:00\",\"2021-12-24T13:51:13+00:00\",\"2021-12-24T13:51:13+00:00\",\"2021-12-27T04:04:04+00:00\",\"2021-12-27T04:04:04+00:00\",\"2021-12-27T06:29:39+00:00\",\"2021-12-27T06:29:39+00:00\",\"2021-12-27T06:29:39+00:00\",\"2021-12-29T01:16:28+00:00\",\"2021-12-29T04:22:31+00:00\",\"2021-12-29T04:22:31+00:00\",\"2021-12-30T09:09:49+00:00\",\"2021-12-30T09:09:49+00:00\",\"2021-12-30T09:09:49+00:00\",\"2021-12-30T15:07:06+00:00\",\"2021-12-30T15:07:06+00:00\"],\"xaxis\":\"x\",\"y\":[0.63,0.714,0.5469999999999999,0.674,0.516,0.516,0.549,0.714,0.992,0.583,0.518,0.601,1.244,0.672,0.572,0.816,0.595,0.924,0.6000000000000001,0.7909999999999999,0.728,0.745,0.618,0.617,0.617,0.612,0.502,0.502,0.694,0.601,0.952,0.767,0.577,0.577,0.501,0.573,0.518,0.532,0.532,0.6950000000000001,0.84,0.592,0.536,1.002,0.649,0.974,0.519,0.519,0.758,0.53,0.655,0.526,1.176,1.119,0.59,0.529,0.847,0.565,0.51,0.526,0.55,0.501,0.501,0.55,0.504,0.5660000000000001,0.504,0.794,1.391,0.568,0.823,0.61,0.52,0.683,0.653,0.587,0.604,0.625,0.649,0.8320000000000001,0.517,0.608,0.5529999999999999,0.554,0.765,0.6659999999999999,1.1219999999999999,0.858,0.78,0.624],\"yaxis\":\"y\",\"type\":\"scatter\"}],                        {\"template\":{\"data\":{\"bar\":[{\"error_x\":{\"color\":\"#2a3f5f\"},\"error_y\":{\"color\":\"#2a3f5f\"},\"marker\":{\"line\":{\"color\":\"#E5ECF6\",\"width\":0.5},\"pattern\":{\"fillmode\":\"overlay\",\"size\":10,\"solidity\":0.2}},\"type\":\"bar\"}],\"barpolar\":[{\"marker\":{\"line\":{\"color\":\"#E5ECF6\",\"width\":0.5},\"pattern\":{\"fillmode\":\"overlay\",\"size\":10,\"solidity\":0.2}},\"type\":\"barpolar\"}],\"carpet\":[{\"aaxis\":{\"endlinecolor\":\"#2a3f5f\",\"gridcolor\":\"white\",\"linecolor\":\"white\",\"minorgridcolor\":\"white\",\"startlinecolor\":\"#2a3f5f\"},\"baxis\":{\"endlinecolor\":\"#2a3f5f\",\"gridcolor\":\"white\",\"linecolor\":\"white\",\"minorgridcolor\":\"white\",\"startlinecolor\":\"#2a3f5f\"},\"type\":\"carpet\"}],\"choropleth\":[{\"colorbar\":{\"outlinewidth\":0,\"ticks\":\"\"},\"type\":\"choropleth\"}],\"contour\":[{\"colorbar\":{\"outlinewidth\":0,\"ticks\":\"\"},\"colorscale\":[[0.0,\"#0d0887\"],[0.1111111111111111,\"#46039f\"],[0.2222222222222222,\"#7201a8\"],[0.3333333333333333,\"#9c179e\"],[0.4444444444444444,\"#bd3786\"],[0.5555555555555556,\"#d8576b\"],[0.6666666666666666,\"#ed7953\"],[0.7777777777777778,\"#fb9f3a\"],[0.8888888888888888,\"#fdca26\"],[1.0,\"#f0f921\"]],\"type\":\"contour\"}],\"contourcarpet\":[{\"colorbar\":{\"outlinewidth\":0,\"ticks\":\"\"},\"type\":\"contourcarpet\"}],\"heatmap\":[{\"colorbar\":{\"outlinewidth\":0,\"ticks\":\"\"},\"colorscale\":[[0.0,\"#0d0887\"],[0.1111111111111111,\"#46039f\"],[0.2222222222222222,\"#7201a8\"],[0.3333333333333333,\"#9c179e\"],[0.4444444444444444,\"#bd3786\"],[0.5555555555555556,\"#d8576b\"],[0.6666666666666666,\"#ed7953\"],[0.7777777777777778,\"#fb9f3a\"],[0.8888888888888888,\"#fdca26\"],[1.0,\"#f0f921\"]],\"type\":\"heatmap\"}],\"heatmapgl\":[{\"colorbar\":{\"outlinewidth\":0,\"ticks\":\"\"},\"colorscale\":[[0.0,\"#0d0887\"],[0.1111111111111111,\"#46039f\"],[0.2222222222222222,\"#7201a8\"],[0.3333333333333333,\"#9c179e\"],[0.4444444444444444,\"#bd3786\"],[0.5555555555555556,\"#d8576b\"],[0.6666666666666666,\"#ed7953\"],[0.7777777777777778,\"#fb9f3a\"],[0.8888888888888888,\"#fdca26\"],[1.0,\"#f0f921\"]],\"type\":\"heatmapgl\"}],\"histogram\":[{\"marker\":{\"pattern\":{\"fillmode\":\"overlay\",\"size\":10,\"solidity\":0.2}},\"type\":\"histogram\"}],\"histogram2d\":[{\"colorbar\":{\"outlinewidth\":0,\"ticks\":\"\"},\"colorscale\":[[0.0,\"#0d0887\"],[0.1111111111111111,\"#46039f\"],[0.2222222222222222,\"#7201a8\"],[0.3333333333333333,\"#9c179e\"],[0.4444444444444444,\"#bd3786\"],[0.5555555555555556,\"#d8576b\"],[0.6666666666666666,\"#ed7953\"],[0.7777777777777778,\"#fb9f3a\"],[0.8888888888888888,\"#fdca26\"],[1.0,\"#f0f921\"]],\"type\":\"histogram2d\"}],\"histogram2dcontour\":[{\"colorbar\":{\"outlinewidth\":0,\"ticks\":\"\"},\"colorscale\":[[0.0,\"#0d0887\"],[0.1111111111111111,\"#46039f\"],[0.2222222222222222,\"#7201a8\"],[0.3333333333333333,\"#9c179e\"],[0.4444444444444444,\"#bd3786\"],[0.5555555555555556,\"#d8576b\"],[0.6666666666666666,\"#ed7953\"],[0.7777777777777778,\"#fb9f3a\"],[0.8888888888888888,\"#fdca26\"],[1.0,\"#f0f921\"]],\"type\":\"histogram2dcontour\"}],\"mesh3d\":[{\"colorbar\":{\"outlinewidth\":0,\"ticks\":\"\"},\"type\":\"mesh3d\"}],\"parcoords\":[{\"line\":{\"colorbar\":{\"outlinewidth\":0,\"ticks\":\"\"}},\"type\":\"parcoords\"}],\"pie\":[{\"automargin\":true,\"type\":\"pie\"}],\"scatter\":[{\"marker\":{\"colorbar\":{\"outlinewidth\":0,\"ticks\":\"\"}},\"type\":\"scatter\"}],\"scatter3d\":[{\"line\":{\"colorbar\":{\"outlinewidth\":0,\"ticks\":\"\"}},\"marker\":{\"colorbar\":{\"outlinewidth\":0,\"ticks\":\"\"}},\"type\":\"scatter3d\"}],\"scattercarpet\":[{\"marker\":{\"colorbar\":{\"outlinewidth\":0,\"ticks\":\"\"}},\"type\":\"scattercarpet\"}],\"scattergeo\":[{\"marker\":{\"colorbar\":{\"outlinewidth\":0,\"ticks\":\"\"}},\"type\":\"scattergeo\"}],\"scattergl\":[{\"marker\":{\"colorbar\":{\"outlinewidth\":0,\"ticks\":\"\"}},\"type\":\"scattergl\"}],\"scattermapbox\":[{\"marker\":{\"colorbar\":{\"outlinewidth\":0,\"ticks\":\"\"}},\"type\":\"scattermapbox\"}],\"scatterpolar\":[{\"marker\":{\"colorbar\":{\"outlinewidth\":0,\"ticks\":\"\"}},\"type\":\"scatterpolar\"}],\"scatterpolargl\":[{\"marker\":{\"colorbar\":{\"outlinewidth\":0,\"ticks\":\"\"}},\"type\":\"scatterpolargl\"}],\"scatterternary\":[{\"marker\":{\"colorbar\":{\"outlinewidth\":0,\"ticks\":\"\"}},\"type\":\"scatterternary\"}],\"surface\":[{\"colorbar\":{\"outlinewidth\":0,\"ticks\":\"\"},\"colorscale\":[[0.0,\"#0d0887\"],[0.1111111111111111,\"#46039f\"],[0.2222222222222222,\"#7201a8\"],[0.3333333333333333,\"#9c179e\"],[0.4444444444444444,\"#bd3786\"],[0.5555555555555556,\"#d8576b\"],[0.6666666666666666,\"#ed7953\"],[0.7777777777777778,\"#fb9f3a\"],[0.8888888888888888,\"#fdca26\"],[1.0,\"#f0f921\"]],\"type\":\"surface\"}],\"table\":[{\"cells\":{\"fill\":{\"color\":\"#EBF0F8\"},\"line\":{\"color\":\"white\"}},\"header\":{\"fill\":{\"color\":\"#C8D4E3\"},\"line\":{\"color\":\"white\"}},\"type\":\"table\"}]},\"layout\":{\"annotationdefaults\":{\"arrowcolor\":\"#2a3f5f\",\"arrowhead\":0,\"arrowwidth\":1},\"autotypenumbers\":\"strict\",\"coloraxis\":{\"colorbar\":{\"outlinewidth\":0,\"ticks\":\"\"}},\"colorscale\":{\"diverging\":[[0,\"#8e0152\"],[0.1,\"#c51b7d\"],[0.2,\"#de77ae\"],[0.3,\"#f1b6da\"],[0.4,\"#fde0ef\"],[0.5,\"#f7f7f7\"],[0.6,\"#e6f5d0\"],[0.7,\"#b8e186\"],[0.8,\"#7fbc41\"],[0.9,\"#4d9221\"],[1,\"#276419\"]],\"sequential\":[[0.0,\"#0d0887\"],[0.1111111111111111,\"#46039f\"],[0.2222222222222222,\"#7201a8\"],[0.3333333333333333,\"#9c179e\"],[0.4444444444444444,\"#bd3786\"],[0.5555555555555556,\"#d8576b\"],[0.6666666666666666,\"#ed7953\"],[0.7777777777777778,\"#fb9f3a\"],[0.8888888888888888,\"#fdca26\"],[1.0,\"#f0f921\"]],\"sequentialminus\":[[0.0,\"#0d0887\"],[0.1111111111111111,\"#46039f\"],[0.2222222222222222,\"#7201a8\"],[0.3333333333333333,\"#9c179e\"],[0.4444444444444444,\"#bd3786\"],[0.5555555555555556,\"#d8576b\"],[0.6666666666666666,\"#ed7953\"],[0.7777777777777778,\"#fb9f3a\"],[0.8888888888888888,\"#fdca26\"],[1.0,\"#f0f921\"]]},\"colorway\":[\"#636efa\",\"#EF553B\",\"#00cc96\",\"#ab63fa\",\"#FFA15A\",\"#19d3f3\",\"#FF6692\",\"#B6E880\",\"#FF97FF\",\"#FECB52\"],\"font\":{\"color\":\"#2a3f5f\"},\"geo\":{\"bgcolor\":\"white\",\"lakecolor\":\"white\",\"landcolor\":\"#E5ECF6\",\"showlakes\":true,\"showland\":true,\"subunitcolor\":\"white\"},\"hoverlabel\":{\"align\":\"left\"},\"hovermode\":\"closest\",\"mapbox\":{\"style\":\"light\"},\"paper_bgcolor\":\"white\",\"plot_bgcolor\":\"#E5ECF6\",\"polar\":{\"angularaxis\":{\"gridcolor\":\"white\",\"linecolor\":\"white\",\"ticks\":\"\"},\"bgcolor\":\"#E5ECF6\",\"radialaxis\":{\"gridcolor\":\"white\",\"linecolor\":\"white\",\"ticks\":\"\"}},\"scene\":{\"xaxis\":{\"backgroundcolor\":\"#E5ECF6\",\"gridcolor\":\"white\",\"gridwidth\":2,\"linecolor\":\"white\",\"showbackground\":true,\"ticks\":\"\",\"zerolinecolor\":\"white\"},\"yaxis\":{\"backgroundcolor\":\"#E5ECF6\",\"gridcolor\":\"white\",\"gridwidth\":2,\"linecolor\":\"white\",\"showbackground\":true,\"ticks\":\"\",\"zerolinecolor\":\"white\"},\"zaxis\":{\"backgroundcolor\":\"#E5ECF6\",\"gridcolor\":\"white\",\"gridwidth\":2,\"linecolor\":\"white\",\"showbackground\":true,\"ticks\":\"\",\"zerolinecolor\":\"white\"}},\"shapedefaults\":{\"line\":{\"color\":\"#2a3f5f\"}},\"ternary\":{\"aaxis\":{\"gridcolor\":\"white\",\"linecolor\":\"white\",\"ticks\":\"\"},\"baxis\":{\"gridcolor\":\"white\",\"linecolor\":\"white\",\"ticks\":\"\"},\"bgcolor\":\"#E5ECF6\",\"caxis\":{\"gridcolor\":\"white\",\"linecolor\":\"white\",\"ticks\":\"\"}},\"title\":{\"x\":0.05},\"xaxis\":{\"automargin\":true,\"gridcolor\":\"white\",\"linecolor\":\"white\",\"ticks\":\"\",\"title\":{\"standoff\":15},\"zerolinecolor\":\"white\",\"zerolinewidth\":2},\"yaxis\":{\"automargin\":true,\"gridcolor\":\"white\",\"linecolor\":\"white\",\"ticks\":\"\",\"title\":{\"standoff\":15},\"zerolinecolor\":\"white\",\"zerolinewidth\":2}}},\"xaxis\":{\"anchor\":\"y\",\"domain\":[0.0,1.0],\"title\":{\"text\":\"Appearance time\"}},\"yaxis\":{\"anchor\":\"x\",\"domain\":[0.0,1.0],\"title\":{\"text\":\"TF-IDF ratio\"}},\"legend\":{\"tracegroupgap\":0},\"title\":{\"text\":\"https://www.instagram.com/p/CX097AWNTm2/\"}},                        {\"responsive\": true}                    ).then(function(){\n                            \nvar gd = document.getElementById('7ebef119-6e86-4a7e-8af5-301d4cb195b3');\nvar x = new MutationObserver(function (mutations, observer) {{\n        var display = window.getComputedStyle(gd).display;\n        if (!display || display === 'none') {{\n            console.log([gd, 'removed!']);\n            Plotly.purge(gd);\n            observer.disconnect();\n        }}\n}});\n\n// Listen for the removal of the full notebook cells\nvar notebookContainer = gd.closest('#notebook-container');\nif (notebookContainer) {{\n    x.observe(notebookContainer, {childList: true});\n}}\n\n// Listen for the clearing of the current output cell\nvar outputEl = gd.closest('.output');\nif (outputEl) {{\n    x.observe(outputEl, {childList: true});\n}}\n\n                        })                };                });            </script>        </div>"
     },
     "metadata": {},
     "output_type": "display_data"
    },
    {
     "data": {
      "application/vnd.plotly.v1+json": {
       "data": [
        {
         "hovertemplate": "Appearance time=%{x}<br>TF-IDF ratio=%{y}<br>Keyword=%{text}<extra></extra>",
         "legendgroup": "",
         "marker": {
          "color": "#636efa",
          "symbol": "circle"
         },
         "mode": "markers+text",
         "name": "",
         "orientation": "v",
         "showlegend": false,
         "text": [
          "ПРИНЯТИЕ ПРОЦЕССУАЛЬНОГО РЕШЕНИЯ",
          "ТЕКУЩЕЕ СОСТОЯНИЕ ПРОБЛЕМЫ",
          "ТЕКУЩЕЕ СОСТОЯНИЕ",
          "БОЛЬШИНСТВО ГРАЖДАН",
          "ПИСЬМЕННЫЙ УКАЗ МАТВИЕНКОВИ",
          "УКАЗ ПРЕЗИДЕНТА",
          "ПИСЬМЕННЫЙ УКАЗ",
          "СВЕТЛАЯ ПАМЯТЬ",
          "СВЕТЛЫЙ",
          "ПАМЯТЬ",
          "ПАТРОННЫЙ ЗАВОД",
          "КОПЕЕЧНАЯ ЗАРПЛАТА",
          "ЗАРПЛАТА",
          "КОПЕЕЧНЫЙ",
          "НОВАЯ ВЛАСТЬ",
          "Государственная Ветеринарная Служба",
          "Клиника Огбу Симбирский Референтный Центр Ветеринарии и Безопасности Продовольствия",
          "Симбирский Референтный Центр Ветеринарии и Безопасности Продовольствия",
          "ЗАКЛЮЧЕНИЕ ЭКСПЕРТИЗЫ",
          "УТОЧНИТЬ",
          "ОПУБЛИКОВАТЬ",
          "ЛЕЖАЧИЙ КАМЕНЬ",
          "УСТАНОВКА СТЕЛЛЫ",
          "УСТРАИВАТЬ",
          "СООБЩЕНИЕ",
          "СОЗДАТЕЛЬ МАТЕРИАЛЬНЫХ БЛАГ",
          "МАТЕРИАЛЬНОЕ БЛАГО",
          "АДМИНИСТРАЦИЯ ЖАЛОБЫ",
          "ПРИНЯТИЕ ПРОЦЕССУАЛЬНОГО РЕШЕНИЯ",
          "ЭКСПЕРТНОЕ ЗАКЛЮЧЕНИЕ",
          "ПРОЦЕССУАЛЬНОЕ РЕШЕНИЕ",
          "УСТАНОВКА СТЕЛЛЫ",
          "УСТАНОВКА",
          "ЖИВОЕ СУЩЕСТВО",
          "НОРМАЛЬНАЯ ЗАРПЛАТА",
          "дом Гончарова",
          "АКВАРИУМ",
          "ОФИЦЕР ПОЛИЦИИ",
          "ВОЗБУЖДЕНИЕ УГОЛОВНОГО ДЕЛА",
          "УГОЛОВНОЕ ДЕЛО",
          "ГОРОД ТРУДОВОЙ ДОБЛЕСТИ",
          "ЦЕНТРАЛЬНЫЙ ЖЕЛЕЗНОДОРОЖНЫЙ ВОКЗАЛ",
          "Дом Культуры имени 1 Мая",
          "ГОРОД ТРУДОВОЙ ДОБЛЕСТИ",
          "ЦЕНТРАЛЬНЫЙ ЖЕЛЕЗНОДОРОЖНЫЙ ВОКЗАЛ",
          "Дом Культуры имени 1 Мая"
         ],
         "x": [
          "2021-12-24T08:00:08+00:00",
          "2021-12-24T08:00:08+00:00",
          "2021-12-24T08:00:08+00:00",
          "2021-12-24T08:20:31+00:00",
          "2021-12-24T08:32:24+00:00",
          "2021-12-24T08:32:24+00:00",
          "2021-12-24T08:32:24+00:00",
          "2021-12-24T11:22:22+00:00",
          "2021-12-24T11:22:22+00:00",
          "2021-12-24T11:22:22+00:00",
          "2021-12-24T11:59:47+00:00",
          "2021-12-24T17:51:31+00:00",
          "2021-12-24T17:51:31+00:00",
          "2021-12-24T17:51:31+00:00",
          "2021-12-25T02:24:22+00:00",
          "2021-12-25T05:59:18+00:00",
          "2021-12-25T05:59:18+00:00",
          "2021-12-25T05:59:18+00:00",
          "2021-12-25T06:02:13+00:00",
          "2021-12-25T06:04:19+00:00",
          "2021-12-25T06:04:19+00:00",
          "2021-12-25T06:14:40+00:00",
          "2021-12-25T06:16:57+00:00",
          "2021-12-25T06:16:57+00:00",
          "2021-12-25T06:26:19+00:00",
          "2021-12-25T06:44:26+00:00",
          "2021-12-25T06:44:26+00:00",
          "2021-12-25T06:45:16+00:00",
          "2021-12-25T06:50:23+00:00",
          "2021-12-25T06:50:23+00:00",
          "2021-12-25T06:50:23+00:00",
          "2021-12-25T07:01:33+00:00",
          "2021-12-25T07:01:33+00:00",
          "2021-12-25T07:06:29+00:00",
          "2021-12-25T07:10:53+00:00",
          "2021-12-25T07:25:58+00:00",
          "2021-12-25T07:25:58+00:00",
          "2021-12-26T05:52:27+00:00",
          "2021-12-26T05:57:42+00:00",
          "2021-12-26T05:57:42+00:00",
          "2022-01-10T02:47:51+00:00",
          "2022-01-10T02:47:51+00:00",
          "2022-01-10T02:47:51+00:00",
          "2022-01-10T02:48:52+00:00",
          "2022-01-10T02:48:52+00:00",
          "2022-01-10T02:48:52+00:00"
         ],
         "xaxis": "x",
         "y": [
          0.6659999999999999,
          0.7229999999999999,
          0.5509999999999999,
          0.53,
          0.909,
          0.598,
          0.682,
          1.299,
          0.762,
          0.537,
          0.748,
          1.3780000000000001,
          0.531,
          0.847,
          0.8360000000000001,
          0.574,
          0.805,
          0.5750000000000001,
          0.526,
          0.57,
          0.57,
          0.68,
          0.792,
          0.574,
          0.583,
          1.047,
          0.698,
          0.552,
          1.143,
          0.719,
          0.719,
          1.076,
          0.634,
          0.578,
          0.776,
          0.765,
          0.531,
          0.513,
          0.786,
          0.524,
          0.792,
          0.637,
          0.9119999999999999,
          0.792,
          0.637,
          0.9119999999999999
         ],
         "yaxis": "y",
         "type": "scatter"
        }
       ],
       "layout": {
        "template": {
         "data": {
          "bar": [
           {
            "error_x": {
             "color": "#2a3f5f"
            },
            "error_y": {
             "color": "#2a3f5f"
            },
            "marker": {
             "line": {
              "color": "#E5ECF6",
              "width": 0.5
             },
             "pattern": {
              "fillmode": "overlay",
              "size": 10,
              "solidity": 0.2
             }
            },
            "type": "bar"
           }
          ],
          "barpolar": [
           {
            "marker": {
             "line": {
              "color": "#E5ECF6",
              "width": 0.5
             },
             "pattern": {
              "fillmode": "overlay",
              "size": 10,
              "solidity": 0.2
             }
            },
            "type": "barpolar"
           }
          ],
          "carpet": [
           {
            "aaxis": {
             "endlinecolor": "#2a3f5f",
             "gridcolor": "white",
             "linecolor": "white",
             "minorgridcolor": "white",
             "startlinecolor": "#2a3f5f"
            },
            "baxis": {
             "endlinecolor": "#2a3f5f",
             "gridcolor": "white",
             "linecolor": "white",
             "minorgridcolor": "white",
             "startlinecolor": "#2a3f5f"
            },
            "type": "carpet"
           }
          ],
          "choropleth": [
           {
            "colorbar": {
             "outlinewidth": 0,
             "ticks": ""
            },
            "type": "choropleth"
           }
          ],
          "contour": [
           {
            "colorbar": {
             "outlinewidth": 0,
             "ticks": ""
            },
            "colorscale": [
             [
              0.0,
              "#0d0887"
             ],
             [
              0.1111111111111111,
              "#46039f"
             ],
             [
              0.2222222222222222,
              "#7201a8"
             ],
             [
              0.3333333333333333,
              "#9c179e"
             ],
             [
              0.4444444444444444,
              "#bd3786"
             ],
             [
              0.5555555555555556,
              "#d8576b"
             ],
             [
              0.6666666666666666,
              "#ed7953"
             ],
             [
              0.7777777777777778,
              "#fb9f3a"
             ],
             [
              0.8888888888888888,
              "#fdca26"
             ],
             [
              1.0,
              "#f0f921"
             ]
            ],
            "type": "contour"
           }
          ],
          "contourcarpet": [
           {
            "colorbar": {
             "outlinewidth": 0,
             "ticks": ""
            },
            "type": "contourcarpet"
           }
          ],
          "heatmap": [
           {
            "colorbar": {
             "outlinewidth": 0,
             "ticks": ""
            },
            "colorscale": [
             [
              0.0,
              "#0d0887"
             ],
             [
              0.1111111111111111,
              "#46039f"
             ],
             [
              0.2222222222222222,
              "#7201a8"
             ],
             [
              0.3333333333333333,
              "#9c179e"
             ],
             [
              0.4444444444444444,
              "#bd3786"
             ],
             [
              0.5555555555555556,
              "#d8576b"
             ],
             [
              0.6666666666666666,
              "#ed7953"
             ],
             [
              0.7777777777777778,
              "#fb9f3a"
             ],
             [
              0.8888888888888888,
              "#fdca26"
             ],
             [
              1.0,
              "#f0f921"
             ]
            ],
            "type": "heatmap"
           }
          ],
          "heatmapgl": [
           {
            "colorbar": {
             "outlinewidth": 0,
             "ticks": ""
            },
            "colorscale": [
             [
              0.0,
              "#0d0887"
             ],
             [
              0.1111111111111111,
              "#46039f"
             ],
             [
              0.2222222222222222,
              "#7201a8"
             ],
             [
              0.3333333333333333,
              "#9c179e"
             ],
             [
              0.4444444444444444,
              "#bd3786"
             ],
             [
              0.5555555555555556,
              "#d8576b"
             ],
             [
              0.6666666666666666,
              "#ed7953"
             ],
             [
              0.7777777777777778,
              "#fb9f3a"
             ],
             [
              0.8888888888888888,
              "#fdca26"
             ],
             [
              1.0,
              "#f0f921"
             ]
            ],
            "type": "heatmapgl"
           }
          ],
          "histogram": [
           {
            "marker": {
             "pattern": {
              "fillmode": "overlay",
              "size": 10,
              "solidity": 0.2
             }
            },
            "type": "histogram"
           }
          ],
          "histogram2d": [
           {
            "colorbar": {
             "outlinewidth": 0,
             "ticks": ""
            },
            "colorscale": [
             [
              0.0,
              "#0d0887"
             ],
             [
              0.1111111111111111,
              "#46039f"
             ],
             [
              0.2222222222222222,
              "#7201a8"
             ],
             [
              0.3333333333333333,
              "#9c179e"
             ],
             [
              0.4444444444444444,
              "#bd3786"
             ],
             [
              0.5555555555555556,
              "#d8576b"
             ],
             [
              0.6666666666666666,
              "#ed7953"
             ],
             [
              0.7777777777777778,
              "#fb9f3a"
             ],
             [
              0.8888888888888888,
              "#fdca26"
             ],
             [
              1.0,
              "#f0f921"
             ]
            ],
            "type": "histogram2d"
           }
          ],
          "histogram2dcontour": [
           {
            "colorbar": {
             "outlinewidth": 0,
             "ticks": ""
            },
            "colorscale": [
             [
              0.0,
              "#0d0887"
             ],
             [
              0.1111111111111111,
              "#46039f"
             ],
             [
              0.2222222222222222,
              "#7201a8"
             ],
             [
              0.3333333333333333,
              "#9c179e"
             ],
             [
              0.4444444444444444,
              "#bd3786"
             ],
             [
              0.5555555555555556,
              "#d8576b"
             ],
             [
              0.6666666666666666,
              "#ed7953"
             ],
             [
              0.7777777777777778,
              "#fb9f3a"
             ],
             [
              0.8888888888888888,
              "#fdca26"
             ],
             [
              1.0,
              "#f0f921"
             ]
            ],
            "type": "histogram2dcontour"
           }
          ],
          "mesh3d": [
           {
            "colorbar": {
             "outlinewidth": 0,
             "ticks": ""
            },
            "type": "mesh3d"
           }
          ],
          "parcoords": [
           {
            "line": {
             "colorbar": {
              "outlinewidth": 0,
              "ticks": ""
             }
            },
            "type": "parcoords"
           }
          ],
          "pie": [
           {
            "automargin": true,
            "type": "pie"
           }
          ],
          "scatter": [
           {
            "marker": {
             "colorbar": {
              "outlinewidth": 0,
              "ticks": ""
             }
            },
            "type": "scatter"
           }
          ],
          "scatter3d": [
           {
            "line": {
             "colorbar": {
              "outlinewidth": 0,
              "ticks": ""
             }
            },
            "marker": {
             "colorbar": {
              "outlinewidth": 0,
              "ticks": ""
             }
            },
            "type": "scatter3d"
           }
          ],
          "scattercarpet": [
           {
            "marker": {
             "colorbar": {
              "outlinewidth": 0,
              "ticks": ""
             }
            },
            "type": "scattercarpet"
           }
          ],
          "scattergeo": [
           {
            "marker": {
             "colorbar": {
              "outlinewidth": 0,
              "ticks": ""
             }
            },
            "type": "scattergeo"
           }
          ],
          "scattergl": [
           {
            "marker": {
             "colorbar": {
              "outlinewidth": 0,
              "ticks": ""
             }
            },
            "type": "scattergl"
           }
          ],
          "scattermapbox": [
           {
            "marker": {
             "colorbar": {
              "outlinewidth": 0,
              "ticks": ""
             }
            },
            "type": "scattermapbox"
           }
          ],
          "scatterpolar": [
           {
            "marker": {
             "colorbar": {
              "outlinewidth": 0,
              "ticks": ""
             }
            },
            "type": "scatterpolar"
           }
          ],
          "scatterpolargl": [
           {
            "marker": {
             "colorbar": {
              "outlinewidth": 0,
              "ticks": ""
             }
            },
            "type": "scatterpolargl"
           }
          ],
          "scatterternary": [
           {
            "marker": {
             "colorbar": {
              "outlinewidth": 0,
              "ticks": ""
             }
            },
            "type": "scatterternary"
           }
          ],
          "surface": [
           {
            "colorbar": {
             "outlinewidth": 0,
             "ticks": ""
            },
            "colorscale": [
             [
              0.0,
              "#0d0887"
             ],
             [
              0.1111111111111111,
              "#46039f"
             ],
             [
              0.2222222222222222,
              "#7201a8"
             ],
             [
              0.3333333333333333,
              "#9c179e"
             ],
             [
              0.4444444444444444,
              "#bd3786"
             ],
             [
              0.5555555555555556,
              "#d8576b"
             ],
             [
              0.6666666666666666,
              "#ed7953"
             ],
             [
              0.7777777777777778,
              "#fb9f3a"
             ],
             [
              0.8888888888888888,
              "#fdca26"
             ],
             [
              1.0,
              "#f0f921"
             ]
            ],
            "type": "surface"
           }
          ],
          "table": [
           {
            "cells": {
             "fill": {
              "color": "#EBF0F8"
             },
             "line": {
              "color": "white"
             }
            },
            "header": {
             "fill": {
              "color": "#C8D4E3"
             },
             "line": {
              "color": "white"
             }
            },
            "type": "table"
           }
          ]
         },
         "layout": {
          "annotationdefaults": {
           "arrowcolor": "#2a3f5f",
           "arrowhead": 0,
           "arrowwidth": 1
          },
          "autotypenumbers": "strict",
          "coloraxis": {
           "colorbar": {
            "outlinewidth": 0,
            "ticks": ""
           }
          },
          "colorscale": {
           "diverging": [
            [
             0,
             "#8e0152"
            ],
            [
             0.1,
             "#c51b7d"
            ],
            [
             0.2,
             "#de77ae"
            ],
            [
             0.3,
             "#f1b6da"
            ],
            [
             0.4,
             "#fde0ef"
            ],
            [
             0.5,
             "#f7f7f7"
            ],
            [
             0.6,
             "#e6f5d0"
            ],
            [
             0.7,
             "#b8e186"
            ],
            [
             0.8,
             "#7fbc41"
            ],
            [
             0.9,
             "#4d9221"
            ],
            [
             1,
             "#276419"
            ]
           ],
           "sequential": [
            [
             0.0,
             "#0d0887"
            ],
            [
             0.1111111111111111,
             "#46039f"
            ],
            [
             0.2222222222222222,
             "#7201a8"
            ],
            [
             0.3333333333333333,
             "#9c179e"
            ],
            [
             0.4444444444444444,
             "#bd3786"
            ],
            [
             0.5555555555555556,
             "#d8576b"
            ],
            [
             0.6666666666666666,
             "#ed7953"
            ],
            [
             0.7777777777777778,
             "#fb9f3a"
            ],
            [
             0.8888888888888888,
             "#fdca26"
            ],
            [
             1.0,
             "#f0f921"
            ]
           ],
           "sequentialminus": [
            [
             0.0,
             "#0d0887"
            ],
            [
             0.1111111111111111,
             "#46039f"
            ],
            [
             0.2222222222222222,
             "#7201a8"
            ],
            [
             0.3333333333333333,
             "#9c179e"
            ],
            [
             0.4444444444444444,
             "#bd3786"
            ],
            [
             0.5555555555555556,
             "#d8576b"
            ],
            [
             0.6666666666666666,
             "#ed7953"
            ],
            [
             0.7777777777777778,
             "#fb9f3a"
            ],
            [
             0.8888888888888888,
             "#fdca26"
            ],
            [
             1.0,
             "#f0f921"
            ]
           ]
          },
          "colorway": [
           "#636efa",
           "#EF553B",
           "#00cc96",
           "#ab63fa",
           "#FFA15A",
           "#19d3f3",
           "#FF6692",
           "#B6E880",
           "#FF97FF",
           "#FECB52"
          ],
          "font": {
           "color": "#2a3f5f"
          },
          "geo": {
           "bgcolor": "white",
           "lakecolor": "white",
           "landcolor": "#E5ECF6",
           "showlakes": true,
           "showland": true,
           "subunitcolor": "white"
          },
          "hoverlabel": {
           "align": "left"
          },
          "hovermode": "closest",
          "mapbox": {
           "style": "light"
          },
          "paper_bgcolor": "white",
          "plot_bgcolor": "#E5ECF6",
          "polar": {
           "angularaxis": {
            "gridcolor": "white",
            "linecolor": "white",
            "ticks": ""
           },
           "bgcolor": "#E5ECF6",
           "radialaxis": {
            "gridcolor": "white",
            "linecolor": "white",
            "ticks": ""
           }
          },
          "scene": {
           "xaxis": {
            "backgroundcolor": "#E5ECF6",
            "gridcolor": "white",
            "gridwidth": 2,
            "linecolor": "white",
            "showbackground": true,
            "ticks": "",
            "zerolinecolor": "white"
           },
           "yaxis": {
            "backgroundcolor": "#E5ECF6",
            "gridcolor": "white",
            "gridwidth": 2,
            "linecolor": "white",
            "showbackground": true,
            "ticks": "",
            "zerolinecolor": "white"
           },
           "zaxis": {
            "backgroundcolor": "#E5ECF6",
            "gridcolor": "white",
            "gridwidth": 2,
            "linecolor": "white",
            "showbackground": true,
            "ticks": "",
            "zerolinecolor": "white"
           }
          },
          "shapedefaults": {
           "line": {
            "color": "#2a3f5f"
           }
          },
          "ternary": {
           "aaxis": {
            "gridcolor": "white",
            "linecolor": "white",
            "ticks": ""
           },
           "baxis": {
            "gridcolor": "white",
            "linecolor": "white",
            "ticks": ""
           },
           "bgcolor": "#E5ECF6",
           "caxis": {
            "gridcolor": "white",
            "linecolor": "white",
            "ticks": ""
           }
          },
          "title": {
           "x": 0.05
          },
          "xaxis": {
           "automargin": true,
           "gridcolor": "white",
           "linecolor": "white",
           "ticks": "",
           "title": {
            "standoff": 15
           },
           "zerolinecolor": "white",
           "zerolinewidth": 2
          },
          "yaxis": {
           "automargin": true,
           "gridcolor": "white",
           "linecolor": "white",
           "ticks": "",
           "title": {
            "standoff": 15
           },
           "zerolinecolor": "white",
           "zerolinewidth": 2
          }
         }
        },
        "xaxis": {
         "anchor": "y",
         "domain": [
          0.0,
          1.0
         ],
         "title": {
          "text": "Appearance time"
         }
        },
        "yaxis": {
         "anchor": "x",
         "domain": [
          0.0,
          1.0
         ],
         "title": {
          "text": "TF-IDF ratio"
         }
        },
        "legend": {
         "tracegroupgap": 0
        },
        "title": {
         "text": "https://www.instagram.com/p/CX3N4xoNvUO/"
        }
       },
       "config": {
        "plotlyServerURL": "https://plot.ly"
       }
      },
      "text/html": "<div>                            <div id=\"f163a791-6853-433b-b768-8c8b5b3526f0\" class=\"plotly-graph-div\" style=\"height:525px; width:100%;\"></div>            <script type=\"text/javascript\">                require([\"plotly\"], function(Plotly) {                    window.PLOTLYENV=window.PLOTLYENV || {};                                    if (document.getElementById(\"f163a791-6853-433b-b768-8c8b5b3526f0\")) {                    Plotly.newPlot(                        \"f163a791-6853-433b-b768-8c8b5b3526f0\",                        [{\"hovertemplate\":\"Appearance time=%{x}<br>TF-IDF ratio=%{y}<br>Keyword=%{text}<extra></extra>\",\"legendgroup\":\"\",\"marker\":{\"color\":\"#636efa\",\"symbol\":\"circle\"},\"mode\":\"markers+text\",\"name\":\"\",\"orientation\":\"v\",\"showlegend\":false,\"text\":[\"\\u041f\\u0420\\u0418\\u041d\\u042f\\u0422\\u0418\\u0415 \\u041f\\u0420\\u041e\\u0426\\u0415\\u0421\\u0421\\u0423\\u0410\\u041b\\u042c\\u041d\\u041e\\u0413\\u041e \\u0420\\u0415\\u0428\\u0415\\u041d\\u0418\\u042f\",\"\\u0422\\u0415\\u041a\\u0423\\u0429\\u0415\\u0415 \\u0421\\u041e\\u0421\\u0422\\u041e\\u042f\\u041d\\u0418\\u0415 \\u041f\\u0420\\u041e\\u0411\\u041b\\u0415\\u041c\\u042b\",\"\\u0422\\u0415\\u041a\\u0423\\u0429\\u0415\\u0415 \\u0421\\u041e\\u0421\\u0422\\u041e\\u042f\\u041d\\u0418\\u0415\",\"\\u0411\\u041e\\u041b\\u042c\\u0428\\u0418\\u041d\\u0421\\u0422\\u0412\\u041e \\u0413\\u0420\\u0410\\u0416\\u0414\\u0410\\u041d\",\"\\u041f\\u0418\\u0421\\u042c\\u041c\\u0415\\u041d\\u041d\\u042b\\u0419 \\u0423\\u041a\\u0410\\u0417 \\u041c\\u0410\\u0422\\u0412\\u0418\\u0415\\u041d\\u041a\\u041e\\u0412\\u0418\",\"\\u0423\\u041a\\u0410\\u0417 \\u041f\\u0420\\u0415\\u0417\\u0418\\u0414\\u0415\\u041d\\u0422\\u0410\",\"\\u041f\\u0418\\u0421\\u042c\\u041c\\u0415\\u041d\\u041d\\u042b\\u0419 \\u0423\\u041a\\u0410\\u0417\",\"\\u0421\\u0412\\u0415\\u0422\\u041b\\u0410\\u042f \\u041f\\u0410\\u041c\\u042f\\u0422\\u042c\",\"\\u0421\\u0412\\u0415\\u0422\\u041b\\u042b\\u0419\",\"\\u041f\\u0410\\u041c\\u042f\\u0422\\u042c\",\"\\u041f\\u0410\\u0422\\u0420\\u041e\\u041d\\u041d\\u042b\\u0419 \\u0417\\u0410\\u0412\\u041e\\u0414\",\"\\u041a\\u041e\\u041f\\u0415\\u0415\\u0427\\u041d\\u0410\\u042f \\u0417\\u0410\\u0420\\u041f\\u041b\\u0410\\u0422\\u0410\",\"\\u0417\\u0410\\u0420\\u041f\\u041b\\u0410\\u0422\\u0410\",\"\\u041a\\u041e\\u041f\\u0415\\u0415\\u0427\\u041d\\u042b\\u0419\",\"\\u041d\\u041e\\u0412\\u0410\\u042f \\u0412\\u041b\\u0410\\u0421\\u0422\\u042c\",\"\\u0413\\u043e\\u0441\\u0443\\u0434\\u0430\\u0440\\u0441\\u0442\\u0432\\u0435\\u043d\\u043d\\u0430\\u044f \\u0412\\u0435\\u0442\\u0435\\u0440\\u0438\\u043d\\u0430\\u0440\\u043d\\u0430\\u044f \\u0421\\u043b\\u0443\\u0436\\u0431\\u0430\",\"\\u041a\\u043b\\u0438\\u043d\\u0438\\u043a\\u0430 \\u041e\\u0433\\u0431\\u0443 \\u0421\\u0438\\u043c\\u0431\\u0438\\u0440\\u0441\\u043a\\u0438\\u0439 \\u0420\\u0435\\u0444\\u0435\\u0440\\u0435\\u043d\\u0442\\u043d\\u044b\\u0439 \\u0426\\u0435\\u043d\\u0442\\u0440 \\u0412\\u0435\\u0442\\u0435\\u0440\\u0438\\u043d\\u0430\\u0440\\u0438\\u0438 \\u0438 \\u0411\\u0435\\u0437\\u043e\\u043f\\u0430\\u0441\\u043d\\u043e\\u0441\\u0442\\u0438 \\u041f\\u0440\\u043e\\u0434\\u043e\\u0432\\u043e\\u043b\\u044c\\u0441\\u0442\\u0432\\u0438\\u044f\",\"\\u0421\\u0438\\u043c\\u0431\\u0438\\u0440\\u0441\\u043a\\u0438\\u0439 \\u0420\\u0435\\u0444\\u0435\\u0440\\u0435\\u043d\\u0442\\u043d\\u044b\\u0439 \\u0426\\u0435\\u043d\\u0442\\u0440 \\u0412\\u0435\\u0442\\u0435\\u0440\\u0438\\u043d\\u0430\\u0440\\u0438\\u0438 \\u0438 \\u0411\\u0435\\u0437\\u043e\\u043f\\u0430\\u0441\\u043d\\u043e\\u0441\\u0442\\u0438 \\u041f\\u0440\\u043e\\u0434\\u043e\\u0432\\u043e\\u043b\\u044c\\u0441\\u0442\\u0432\\u0438\\u044f\",\"\\u0417\\u0410\\u041a\\u041b\\u042e\\u0427\\u0415\\u041d\\u0418\\u0415 \\u042d\\u041a\\u0421\\u041f\\u0415\\u0420\\u0422\\u0418\\u0417\\u042b\",\"\\u0423\\u0422\\u041e\\u0427\\u041d\\u0418\\u0422\\u042c\",\"\\u041e\\u041f\\u0423\\u0411\\u041b\\u0418\\u041a\\u041e\\u0412\\u0410\\u0422\\u042c\",\"\\u041b\\u0415\\u0416\\u0410\\u0427\\u0418\\u0419 \\u041a\\u0410\\u041c\\u0415\\u041d\\u042c\",\"\\u0423\\u0421\\u0422\\u0410\\u041d\\u041e\\u0412\\u041a\\u0410 \\u0421\\u0422\\u0415\\u041b\\u041b\\u042b\",\"\\u0423\\u0421\\u0422\\u0420\\u0410\\u0418\\u0412\\u0410\\u0422\\u042c\",\"\\u0421\\u041e\\u041e\\u0411\\u0429\\u0415\\u041d\\u0418\\u0415\",\"\\u0421\\u041e\\u0417\\u0414\\u0410\\u0422\\u0415\\u041b\\u042c \\u041c\\u0410\\u0422\\u0415\\u0420\\u0418\\u0410\\u041b\\u042c\\u041d\\u042b\\u0425 \\u0411\\u041b\\u0410\\u0413\",\"\\u041c\\u0410\\u0422\\u0415\\u0420\\u0418\\u0410\\u041b\\u042c\\u041d\\u041e\\u0415 \\u0411\\u041b\\u0410\\u0413\\u041e\",\"\\u0410\\u0414\\u041c\\u0418\\u041d\\u0418\\u0421\\u0422\\u0420\\u0410\\u0426\\u0418\\u042f \\u0416\\u0410\\u041b\\u041e\\u0411\\u042b\",\"\\u041f\\u0420\\u0418\\u041d\\u042f\\u0422\\u0418\\u0415 \\u041f\\u0420\\u041e\\u0426\\u0415\\u0421\\u0421\\u0423\\u0410\\u041b\\u042c\\u041d\\u041e\\u0413\\u041e \\u0420\\u0415\\u0428\\u0415\\u041d\\u0418\\u042f\",\"\\u042d\\u041a\\u0421\\u041f\\u0415\\u0420\\u0422\\u041d\\u041e\\u0415 \\u0417\\u0410\\u041a\\u041b\\u042e\\u0427\\u0415\\u041d\\u0418\\u0415\",\"\\u041f\\u0420\\u041e\\u0426\\u0415\\u0421\\u0421\\u0423\\u0410\\u041b\\u042c\\u041d\\u041e\\u0415 \\u0420\\u0415\\u0428\\u0415\\u041d\\u0418\\u0415\",\"\\u0423\\u0421\\u0422\\u0410\\u041d\\u041e\\u0412\\u041a\\u0410 \\u0421\\u0422\\u0415\\u041b\\u041b\\u042b\",\"\\u0423\\u0421\\u0422\\u0410\\u041d\\u041e\\u0412\\u041a\\u0410\",\"\\u0416\\u0418\\u0412\\u041e\\u0415 \\u0421\\u0423\\u0429\\u0415\\u0421\\u0422\\u0412\\u041e\",\"\\u041d\\u041e\\u0420\\u041c\\u0410\\u041b\\u042c\\u041d\\u0410\\u042f \\u0417\\u0410\\u0420\\u041f\\u041b\\u0410\\u0422\\u0410\",\"\\u0434\\u043e\\u043c \\u0413\\u043e\\u043d\\u0447\\u0430\\u0440\\u043e\\u0432\\u0430\",\"\\u0410\\u041a\\u0412\\u0410\\u0420\\u0418\\u0423\\u041c\",\"\\u041e\\u0424\\u0418\\u0426\\u0415\\u0420 \\u041f\\u041e\\u041b\\u0418\\u0426\\u0418\\u0418\",\"\\u0412\\u041e\\u0417\\u0411\\u0423\\u0416\\u0414\\u0415\\u041d\\u0418\\u0415 \\u0423\\u0413\\u041e\\u041b\\u041e\\u0412\\u041d\\u041e\\u0413\\u041e \\u0414\\u0415\\u041b\\u0410\",\"\\u0423\\u0413\\u041e\\u041b\\u041e\\u0412\\u041d\\u041e\\u0415 \\u0414\\u0415\\u041b\\u041e\",\"\\u0413\\u041e\\u0420\\u041e\\u0414 \\u0422\\u0420\\u0423\\u0414\\u041e\\u0412\\u041e\\u0419 \\u0414\\u041e\\u0411\\u041b\\u0415\\u0421\\u0422\\u0418\",\"\\u0426\\u0415\\u041d\\u0422\\u0420\\u0410\\u041b\\u042c\\u041d\\u042b\\u0419 \\u0416\\u0415\\u041b\\u0415\\u0417\\u041d\\u041e\\u0414\\u041e\\u0420\\u041e\\u0416\\u041d\\u042b\\u0419 \\u0412\\u041e\\u041a\\u0417\\u0410\\u041b\",\"\\u0414\\u043e\\u043c \\u041a\\u0443\\u043b\\u044c\\u0442\\u0443\\u0440\\u044b \\u0438\\u043c\\u0435\\u043d\\u0438 1 \\u041c\\u0430\\u044f\",\"\\u0413\\u041e\\u0420\\u041e\\u0414 \\u0422\\u0420\\u0423\\u0414\\u041e\\u0412\\u041e\\u0419 \\u0414\\u041e\\u0411\\u041b\\u0415\\u0421\\u0422\\u0418\",\"\\u0426\\u0415\\u041d\\u0422\\u0420\\u0410\\u041b\\u042c\\u041d\\u042b\\u0419 \\u0416\\u0415\\u041b\\u0415\\u0417\\u041d\\u041e\\u0414\\u041e\\u0420\\u041e\\u0416\\u041d\\u042b\\u0419 \\u0412\\u041e\\u041a\\u0417\\u0410\\u041b\",\"\\u0414\\u043e\\u043c \\u041a\\u0443\\u043b\\u044c\\u0442\\u0443\\u0440\\u044b \\u0438\\u043c\\u0435\\u043d\\u0438 1 \\u041c\\u0430\\u044f\"],\"x\":[\"2021-12-24T08:00:08+00:00\",\"2021-12-24T08:00:08+00:00\",\"2021-12-24T08:00:08+00:00\",\"2021-12-24T08:20:31+00:00\",\"2021-12-24T08:32:24+00:00\",\"2021-12-24T08:32:24+00:00\",\"2021-12-24T08:32:24+00:00\",\"2021-12-24T11:22:22+00:00\",\"2021-12-24T11:22:22+00:00\",\"2021-12-24T11:22:22+00:00\",\"2021-12-24T11:59:47+00:00\",\"2021-12-24T17:51:31+00:00\",\"2021-12-24T17:51:31+00:00\",\"2021-12-24T17:51:31+00:00\",\"2021-12-25T02:24:22+00:00\",\"2021-12-25T05:59:18+00:00\",\"2021-12-25T05:59:18+00:00\",\"2021-12-25T05:59:18+00:00\",\"2021-12-25T06:02:13+00:00\",\"2021-12-25T06:04:19+00:00\",\"2021-12-25T06:04:19+00:00\",\"2021-12-25T06:14:40+00:00\",\"2021-12-25T06:16:57+00:00\",\"2021-12-25T06:16:57+00:00\",\"2021-12-25T06:26:19+00:00\",\"2021-12-25T06:44:26+00:00\",\"2021-12-25T06:44:26+00:00\",\"2021-12-25T06:45:16+00:00\",\"2021-12-25T06:50:23+00:00\",\"2021-12-25T06:50:23+00:00\",\"2021-12-25T06:50:23+00:00\",\"2021-12-25T07:01:33+00:00\",\"2021-12-25T07:01:33+00:00\",\"2021-12-25T07:06:29+00:00\",\"2021-12-25T07:10:53+00:00\",\"2021-12-25T07:25:58+00:00\",\"2021-12-25T07:25:58+00:00\",\"2021-12-26T05:52:27+00:00\",\"2021-12-26T05:57:42+00:00\",\"2021-12-26T05:57:42+00:00\",\"2022-01-10T02:47:51+00:00\",\"2022-01-10T02:47:51+00:00\",\"2022-01-10T02:47:51+00:00\",\"2022-01-10T02:48:52+00:00\",\"2022-01-10T02:48:52+00:00\",\"2022-01-10T02:48:52+00:00\"],\"xaxis\":\"x\",\"y\":[0.6659999999999999,0.7229999999999999,0.5509999999999999,0.53,0.909,0.598,0.682,1.299,0.762,0.537,0.748,1.3780000000000001,0.531,0.847,0.8360000000000001,0.574,0.805,0.5750000000000001,0.526,0.57,0.57,0.68,0.792,0.574,0.583,1.047,0.698,0.552,1.143,0.719,0.719,1.076,0.634,0.578,0.776,0.765,0.531,0.513,0.786,0.524,0.792,0.637,0.9119999999999999,0.792,0.637,0.9119999999999999],\"yaxis\":\"y\",\"type\":\"scatter\"}],                        {\"template\":{\"data\":{\"bar\":[{\"error_x\":{\"color\":\"#2a3f5f\"},\"error_y\":{\"color\":\"#2a3f5f\"},\"marker\":{\"line\":{\"color\":\"#E5ECF6\",\"width\":0.5},\"pattern\":{\"fillmode\":\"overlay\",\"size\":10,\"solidity\":0.2}},\"type\":\"bar\"}],\"barpolar\":[{\"marker\":{\"line\":{\"color\":\"#E5ECF6\",\"width\":0.5},\"pattern\":{\"fillmode\":\"overlay\",\"size\":10,\"solidity\":0.2}},\"type\":\"barpolar\"}],\"carpet\":[{\"aaxis\":{\"endlinecolor\":\"#2a3f5f\",\"gridcolor\":\"white\",\"linecolor\":\"white\",\"minorgridcolor\":\"white\",\"startlinecolor\":\"#2a3f5f\"},\"baxis\":{\"endlinecolor\":\"#2a3f5f\",\"gridcolor\":\"white\",\"linecolor\":\"white\",\"minorgridcolor\":\"white\",\"startlinecolor\":\"#2a3f5f\"},\"type\":\"carpet\"}],\"choropleth\":[{\"colorbar\":{\"outlinewidth\":0,\"ticks\":\"\"},\"type\":\"choropleth\"}],\"contour\":[{\"colorbar\":{\"outlinewidth\":0,\"ticks\":\"\"},\"colorscale\":[[0.0,\"#0d0887\"],[0.1111111111111111,\"#46039f\"],[0.2222222222222222,\"#7201a8\"],[0.3333333333333333,\"#9c179e\"],[0.4444444444444444,\"#bd3786\"],[0.5555555555555556,\"#d8576b\"],[0.6666666666666666,\"#ed7953\"],[0.7777777777777778,\"#fb9f3a\"],[0.8888888888888888,\"#fdca26\"],[1.0,\"#f0f921\"]],\"type\":\"contour\"}],\"contourcarpet\":[{\"colorbar\":{\"outlinewidth\":0,\"ticks\":\"\"},\"type\":\"contourcarpet\"}],\"heatmap\":[{\"colorbar\":{\"outlinewidth\":0,\"ticks\":\"\"},\"colorscale\":[[0.0,\"#0d0887\"],[0.1111111111111111,\"#46039f\"],[0.2222222222222222,\"#7201a8\"],[0.3333333333333333,\"#9c179e\"],[0.4444444444444444,\"#bd3786\"],[0.5555555555555556,\"#d8576b\"],[0.6666666666666666,\"#ed7953\"],[0.7777777777777778,\"#fb9f3a\"],[0.8888888888888888,\"#fdca26\"],[1.0,\"#f0f921\"]],\"type\":\"heatmap\"}],\"heatmapgl\":[{\"colorbar\":{\"outlinewidth\":0,\"ticks\":\"\"},\"colorscale\":[[0.0,\"#0d0887\"],[0.1111111111111111,\"#46039f\"],[0.2222222222222222,\"#7201a8\"],[0.3333333333333333,\"#9c179e\"],[0.4444444444444444,\"#bd3786\"],[0.5555555555555556,\"#d8576b\"],[0.6666666666666666,\"#ed7953\"],[0.7777777777777778,\"#fb9f3a\"],[0.8888888888888888,\"#fdca26\"],[1.0,\"#f0f921\"]],\"type\":\"heatmapgl\"}],\"histogram\":[{\"marker\":{\"pattern\":{\"fillmode\":\"overlay\",\"size\":10,\"solidity\":0.2}},\"type\":\"histogram\"}],\"histogram2d\":[{\"colorbar\":{\"outlinewidth\":0,\"ticks\":\"\"},\"colorscale\":[[0.0,\"#0d0887\"],[0.1111111111111111,\"#46039f\"],[0.2222222222222222,\"#7201a8\"],[0.3333333333333333,\"#9c179e\"],[0.4444444444444444,\"#bd3786\"],[0.5555555555555556,\"#d8576b\"],[0.6666666666666666,\"#ed7953\"],[0.7777777777777778,\"#fb9f3a\"],[0.8888888888888888,\"#fdca26\"],[1.0,\"#f0f921\"]],\"type\":\"histogram2d\"}],\"histogram2dcontour\":[{\"colorbar\":{\"outlinewidth\":0,\"ticks\":\"\"},\"colorscale\":[[0.0,\"#0d0887\"],[0.1111111111111111,\"#46039f\"],[0.2222222222222222,\"#7201a8\"],[0.3333333333333333,\"#9c179e\"],[0.4444444444444444,\"#bd3786\"],[0.5555555555555556,\"#d8576b\"],[0.6666666666666666,\"#ed7953\"],[0.7777777777777778,\"#fb9f3a\"],[0.8888888888888888,\"#fdca26\"],[1.0,\"#f0f921\"]],\"type\":\"histogram2dcontour\"}],\"mesh3d\":[{\"colorbar\":{\"outlinewidth\":0,\"ticks\":\"\"},\"type\":\"mesh3d\"}],\"parcoords\":[{\"line\":{\"colorbar\":{\"outlinewidth\":0,\"ticks\":\"\"}},\"type\":\"parcoords\"}],\"pie\":[{\"automargin\":true,\"type\":\"pie\"}],\"scatter\":[{\"marker\":{\"colorbar\":{\"outlinewidth\":0,\"ticks\":\"\"}},\"type\":\"scatter\"}],\"scatter3d\":[{\"line\":{\"colorbar\":{\"outlinewidth\":0,\"ticks\":\"\"}},\"marker\":{\"colorbar\":{\"outlinewidth\":0,\"ticks\":\"\"}},\"type\":\"scatter3d\"}],\"scattercarpet\":[{\"marker\":{\"colorbar\":{\"outlinewidth\":0,\"ticks\":\"\"}},\"type\":\"scattercarpet\"}],\"scattergeo\":[{\"marker\":{\"colorbar\":{\"outlinewidth\":0,\"ticks\":\"\"}},\"type\":\"scattergeo\"}],\"scattergl\":[{\"marker\":{\"colorbar\":{\"outlinewidth\":0,\"ticks\":\"\"}},\"type\":\"scattergl\"}],\"scattermapbox\":[{\"marker\":{\"colorbar\":{\"outlinewidth\":0,\"ticks\":\"\"}},\"type\":\"scattermapbox\"}],\"scatterpolar\":[{\"marker\":{\"colorbar\":{\"outlinewidth\":0,\"ticks\":\"\"}},\"type\":\"scatterpolar\"}],\"scatterpolargl\":[{\"marker\":{\"colorbar\":{\"outlinewidth\":0,\"ticks\":\"\"}},\"type\":\"scatterpolargl\"}],\"scatterternary\":[{\"marker\":{\"colorbar\":{\"outlinewidth\":0,\"ticks\":\"\"}},\"type\":\"scatterternary\"}],\"surface\":[{\"colorbar\":{\"outlinewidth\":0,\"ticks\":\"\"},\"colorscale\":[[0.0,\"#0d0887\"],[0.1111111111111111,\"#46039f\"],[0.2222222222222222,\"#7201a8\"],[0.3333333333333333,\"#9c179e\"],[0.4444444444444444,\"#bd3786\"],[0.5555555555555556,\"#d8576b\"],[0.6666666666666666,\"#ed7953\"],[0.7777777777777778,\"#fb9f3a\"],[0.8888888888888888,\"#fdca26\"],[1.0,\"#f0f921\"]],\"type\":\"surface\"}],\"table\":[{\"cells\":{\"fill\":{\"color\":\"#EBF0F8\"},\"line\":{\"color\":\"white\"}},\"header\":{\"fill\":{\"color\":\"#C8D4E3\"},\"line\":{\"color\":\"white\"}},\"type\":\"table\"}]},\"layout\":{\"annotationdefaults\":{\"arrowcolor\":\"#2a3f5f\",\"arrowhead\":0,\"arrowwidth\":1},\"autotypenumbers\":\"strict\",\"coloraxis\":{\"colorbar\":{\"outlinewidth\":0,\"ticks\":\"\"}},\"colorscale\":{\"diverging\":[[0,\"#8e0152\"],[0.1,\"#c51b7d\"],[0.2,\"#de77ae\"],[0.3,\"#f1b6da\"],[0.4,\"#fde0ef\"],[0.5,\"#f7f7f7\"],[0.6,\"#e6f5d0\"],[0.7,\"#b8e186\"],[0.8,\"#7fbc41\"],[0.9,\"#4d9221\"],[1,\"#276419\"]],\"sequential\":[[0.0,\"#0d0887\"],[0.1111111111111111,\"#46039f\"],[0.2222222222222222,\"#7201a8\"],[0.3333333333333333,\"#9c179e\"],[0.4444444444444444,\"#bd3786\"],[0.5555555555555556,\"#d8576b\"],[0.6666666666666666,\"#ed7953\"],[0.7777777777777778,\"#fb9f3a\"],[0.8888888888888888,\"#fdca26\"],[1.0,\"#f0f921\"]],\"sequentialminus\":[[0.0,\"#0d0887\"],[0.1111111111111111,\"#46039f\"],[0.2222222222222222,\"#7201a8\"],[0.3333333333333333,\"#9c179e\"],[0.4444444444444444,\"#bd3786\"],[0.5555555555555556,\"#d8576b\"],[0.6666666666666666,\"#ed7953\"],[0.7777777777777778,\"#fb9f3a\"],[0.8888888888888888,\"#fdca26\"],[1.0,\"#f0f921\"]]},\"colorway\":[\"#636efa\",\"#EF553B\",\"#00cc96\",\"#ab63fa\",\"#FFA15A\",\"#19d3f3\",\"#FF6692\",\"#B6E880\",\"#FF97FF\",\"#FECB52\"],\"font\":{\"color\":\"#2a3f5f\"},\"geo\":{\"bgcolor\":\"white\",\"lakecolor\":\"white\",\"landcolor\":\"#E5ECF6\",\"showlakes\":true,\"showland\":true,\"subunitcolor\":\"white\"},\"hoverlabel\":{\"align\":\"left\"},\"hovermode\":\"closest\",\"mapbox\":{\"style\":\"light\"},\"paper_bgcolor\":\"white\",\"plot_bgcolor\":\"#E5ECF6\",\"polar\":{\"angularaxis\":{\"gridcolor\":\"white\",\"linecolor\":\"white\",\"ticks\":\"\"},\"bgcolor\":\"#E5ECF6\",\"radialaxis\":{\"gridcolor\":\"white\",\"linecolor\":\"white\",\"ticks\":\"\"}},\"scene\":{\"xaxis\":{\"backgroundcolor\":\"#E5ECF6\",\"gridcolor\":\"white\",\"gridwidth\":2,\"linecolor\":\"white\",\"showbackground\":true,\"ticks\":\"\",\"zerolinecolor\":\"white\"},\"yaxis\":{\"backgroundcolor\":\"#E5ECF6\",\"gridcolor\":\"white\",\"gridwidth\":2,\"linecolor\":\"white\",\"showbackground\":true,\"ticks\":\"\",\"zerolinecolor\":\"white\"},\"zaxis\":{\"backgroundcolor\":\"#E5ECF6\",\"gridcolor\":\"white\",\"gridwidth\":2,\"linecolor\":\"white\",\"showbackground\":true,\"ticks\":\"\",\"zerolinecolor\":\"white\"}},\"shapedefaults\":{\"line\":{\"color\":\"#2a3f5f\"}},\"ternary\":{\"aaxis\":{\"gridcolor\":\"white\",\"linecolor\":\"white\",\"ticks\":\"\"},\"baxis\":{\"gridcolor\":\"white\",\"linecolor\":\"white\",\"ticks\":\"\"},\"bgcolor\":\"#E5ECF6\",\"caxis\":{\"gridcolor\":\"white\",\"linecolor\":\"white\",\"ticks\":\"\"}},\"title\":{\"x\":0.05},\"xaxis\":{\"automargin\":true,\"gridcolor\":\"white\",\"linecolor\":\"white\",\"ticks\":\"\",\"title\":{\"standoff\":15},\"zerolinecolor\":\"white\",\"zerolinewidth\":2},\"yaxis\":{\"automargin\":true,\"gridcolor\":\"white\",\"linecolor\":\"white\",\"ticks\":\"\",\"title\":{\"standoff\":15},\"zerolinecolor\":\"white\",\"zerolinewidth\":2}}},\"xaxis\":{\"anchor\":\"y\",\"domain\":[0.0,1.0],\"title\":{\"text\":\"Appearance time\"}},\"yaxis\":{\"anchor\":\"x\",\"domain\":[0.0,1.0],\"title\":{\"text\":\"TF-IDF ratio\"}},\"legend\":{\"tracegroupgap\":0},\"title\":{\"text\":\"https://www.instagram.com/p/CX3N4xoNvUO/\"}},                        {\"responsive\": true}                    ).then(function(){\n                            \nvar gd = document.getElementById('f163a791-6853-433b-b768-8c8b5b3526f0');\nvar x = new MutationObserver(function (mutations, observer) {{\n        var display = window.getComputedStyle(gd).display;\n        if (!display || display === 'none') {{\n            console.log([gd, 'removed!']);\n            Plotly.purge(gd);\n            observer.disconnect();\n        }}\n}});\n\n// Listen for the removal of the full notebook cells\nvar notebookContainer = gd.closest('#notebook-container');\nif (notebookContainer) {{\n    x.observe(notebookContainer, {childList: true});\n}}\n\n// Listen for the clearing of the current output cell\nvar outputEl = gd.closest('.output');\nif (outputEl) {{\n    x.observe(outputEl, {childList: true});\n}}\n\n                        })                };                });            </script>        </div>"
     },
     "metadata": {},
     "output_type": "display_data"
    },
    {
     "data": {
      "application/vnd.plotly.v1+json": {
       "data": [
        {
         "hovertemplate": "Appearance time=%{x}<br>TF-IDF ratio=%{y}<br>Keyword=%{text}<extra></extra>",
         "legendgroup": "",
         "marker": {
          "color": "#636efa",
          "symbol": "circle"
         },
         "mode": "markers+text",
         "name": "",
         "orientation": "v",
         "showlegend": false,
         "text": [
          "ЗАБЫТЬ",
          "РАБОТА ОБЩЕСТВЕННОГО ТРАНСПОРТА",
          "САЛОН ОБЩЕСТВЕННОГО ТРАНСПОРТА",
          "ФОТО",
          "ЧТОЛЬ",
          "ТОЛК",
          "СКОЛЬКО ЧАСТНОЕ ТРАНСПОРТНОЕ СРЕДСТВО",
          "ТИП",
          "ХВАТАТЬ",
          "СКОЛЬКО ЗАВОЛЖЬЕ",
          "ЗАВОЛЖЬЕ",
          "СКОЛЬКО",
          "ПОСТУПИТЬ",
          "НОРМАЛЬНАЯ ГОРОДСКАЯ МОДЕЛЬ",
          "НОРМАЛЬНЫЙ ТРАНСПОРТ",
          "НИЗКИЙ ПОЛ",
          "НОВЫЙ ГОД",
          "ПОДАРОК",
          "ГУБЕРНАТОРСКИЙ ПОДАРОК",
          "автобус Симаз",
          "АВТОБУСНЫЙ ЗАВОД",
          "ТВСЯЧНЫЙ ГОРОД",
          "КИНДЯКОВКА",
          "ГОРОДСКОЙ ОБЩЕСТВЕННЫЙ ТРАНСПОНТ",
          "ГОЛОС НАРОДА",
          "ЖЕЛТЫЙ ОФИГЕННЫЙ АВТОБУС",
          "ОФИГЕННЫЙ",
          "Татарстан",
          "ЖЕЛТЫЙ АВТОБУСНЫЙ НОМЕР",
          "ЖЕЛТЫЙ",
          "МОРОЗОВСКАЯ КОМАНДА",
          "ПРОМЗОНА",
          "ДОБИТЬ",
          "БОГ",
          "ПРАВИЛЬНОЕ РУСЛО",
          "Димитровград",
          "МУНИЦИПАЛЬНЫЙ ПЕРЕВОЗЧИК",
          "ВЕРНУТЬ",
          "МУНИЦИПАЛЬНЫЙ",
          "СБОРОЧНОЕ ПРОИЗВОДСТВО",
          "СТАРЫЙ ЧЕЛОВЕК",
          "ЖИТЬ",
          "ВЕРНУТЬ",
          "ГАЗЕЛЬ БИТ",
          "ХОРОШЕЕ БОЛЬШОЕ ЗДАНИЕ",
          "ОБРАТИТЬ",
          "ВНИМАНИЕ",
          "ФОТКА НОВЫХ ПАЗОВ",
          "КРУПНАЯ НЕФАЗА",
          "НИЗКОПОЛЬНЫЙ ГОРОДСКОЙ ПАЗ",
          "ВЫСОКИЙ ПОЛ",
          "УРОВЕНЬ КОМФОРТА",
          "НАПРАВЛЕНИЕ ОБЛАСТНОГО ЦЕНТРА",
          "ОБЛАСТНОЙ ЦЕНТР",
          "НАПРАВЛЕНИЕ ОБЛАСТНОГО ЦЕНТРА",
          "ОБЛАСТНОЙ ЦЕНТР",
          "ВЫСОКОПОЛЬНЫЙ ЛЬВЕНОК",
          "НАЗВАНИЕ РАЙОНА",
          "НАЗВАНИЕ",
          "МУНИЦИПАЛИТЕТ",
          "НОВОГОДНИЙ СЛАДКИЙ ПОДАРОК",
          "ВЫДАЧА ПОДАРКОВ",
          "НАПИСАТЬ",
          "СПЕЦИАЛИСТ",
          "СОЗДАНИЕ ДОПОЛНИТЕЛЬНОГО МАРШРУТА",
          "ВЗЯТЬ",
          "ОТВЕТИТЬ",
          "КОММЕНТАРИЙ",
          "НОВЫЙ ТРАМВАЙ",
          "СТАРЫЙ ПАЗИК",
          "СТАРЫЙ",
          "ПАЗИКА",
          "ПРОИГРАТЬ СТОРОНА",
          "ПРОИГРАВШИЙ",
          "СТОРОНА",
          "КОНТРАКТ",
          "ГРАФИК РАБОТЫ",
          "МАРШРУТНОЕ ТАКСИ",
          "ТАКСИ",
          "УТОЧНИТЬ",
          "ЖДАТЬ",
          "ОТВЕТ",
          "ДОРОГА ЗАПЧАСТИ",
          "Управление Дорожного Хозяйства и Транспорта",
          "Управление Дорожного Хозяйства и Транспорта",
          "Отдел Организации Транспортного Обслуживания Управления Дорожного Хозяйства и Транспорта",
          "МАРШРУТНОЕ ТРАНСПОРТНОЕ СРЕДСТВО",
          "ЧИСЛО МАШИН",
          "МАРШРУТНОЕ ТРАНСПОРТНОЕ СРЕДСТВО",
          "ДВИЖЕНИЕ ОБЩЕСТВЕННОГО ТРАНСПОРТА",
          "СОЗДАНИЕ ДОПОЛНИТЕЛЬНОГО МАРШРУТА",
          "МОДЕРНИЗАЦИЯ СХЕМЫ",
          "ЗАВОЛЖСКОЕ НАПРАВЛЕНИЕ",
          "НЕБЛАГОПРИЯТНАЯ ЭПИДЕМИОЛОГИЧЕСКАЯ ОБСТАНОВКА",
          "ДЕТАЛЬНЫЙ КОММЕНТАРИЙ",
          "АВТОБУС СРЕДНЕЙ ВМЕСТИМОСТИ",
          "ЗАМЕНА АВТОБУСОВ",
          "АВТОБУС СРЕДНЕЙ ВМЕСТИМОСТИ",
          "ЗАМЕНА АВТОБУСОВ",
          "ПРОВЕДЕНИЕ КОНКУРСНЫХ ПРОЦЕДУР",
          "ПЕРЕВОД МАРШРУТА",
          "СОБСТВЕННОСТЬ РЕГИОНАЛЬНОГО МИНИСТЕРСТВА",
          "ПРИНЯТОЕ РЕШЕНИЕ",
          "МИНИСТЕРСТВО ТРАНСПОРТА",
          "ПОВОД АВТОВОКЗАЛА",
          "ПРИЧИНА АВАРИЙНОГО СОСТОЯНИЯ",
          "ПРОФИЛЬНОЕ ПОДРАЗДЕЛЕНИЕ",
          "ПЕРЕДАТЬ",
          "ПРОФИЛЬНЫЙ",
          "ПОДРАЗДЕЛЕНИЕ",
          "ПОСТУПЛЕНИЕ НОВЫХ ВАГОНОВ",
          "НОВЫЙ ВАГОН",
          "ПРИОРИТЕТНЫЙ ПОРЯДОК",
          "МЕСТО",
          "МЕСТНЫЙ АВТОБУС",
          "СОТРУДНИК ГОРОДСКОЙ АДМИНИСТРАЦИИ",
          "ОГРОМНОЕ СПАСИБО",
          "ПОЗИТИВНАЯ ПЕРЕМЕНА",
          "ДЕТСКАЯ ПОЛИКЛИНИКА",
          "НАПРАВЛЕНИЕ ДРУЖБЫ",
          "НЕПРОСТАЯ ЗАДАЧА",
          "ВАЖНАЯ ЗАДАЧА",
          "Псков",
          "ПРОБЛЕМА ГОРОДСКИХ ПЕРЕВОЗОК",
          "ГОРОДСКАЯ ПЕРЕВОЗКА",
          "Отдел Организации Транспортного Обслуживания Управления Дорожного Хозяйства и Транспорта",
          "МАРШРУТНОЕ ТРАНСПОРТНОЕ СРЕДСТВО",
          "Управление Дорожного Хозяйства и Транспорта"
         ],
         "x": [
          "2021-12-24T09:12:57+00:00",
          "2021-12-24T09:21:03+00:00",
          "2021-12-24T09:26:30+00:00",
          "2021-12-24T09:26:56+00:00",
          "2021-12-24T09:26:56+00:00",
          "2021-12-24T09:27:27+00:00",
          "2021-12-24T09:29:35+00:00",
          "2021-12-24T09:47:38+00:00",
          "2021-12-24T09:47:38+00:00",
          "2021-12-24T10:07:18+00:00",
          "2021-12-24T10:07:18+00:00",
          "2021-12-24T10:07:18+00:00",
          "2021-12-24T10:07:18+00:00",
          "2021-12-24T10:32:34+00:00",
          "2021-12-24T10:32:34+00:00",
          "2021-12-24T10:34:31+00:00",
          "2021-12-24T10:54:44+00:00",
          "2021-12-24T10:54:44+00:00",
          "2021-12-24T10:54:44+00:00",
          "2021-12-24T10:57:24+00:00",
          "2021-12-24T10:57:24+00:00",
          "2021-12-24T11:03:49+00:00",
          "2021-12-24T11:06:23+00:00",
          "2021-12-24T11:38:57+00:00",
          "2021-12-24T12:29:55+00:00",
          "2021-12-24T12:45:54+00:00",
          "2021-12-24T12:45:54+00:00",
          "2021-12-24T13:15:23+00:00",
          "2021-12-24T13:15:23+00:00",
          "2021-12-24T13:15:23+00:00",
          "2021-12-24T13:16:40+00:00",
          "2021-12-24T13:51:12+00:00",
          "2021-12-24T14:02:17+00:00",
          "2021-12-24T14:06:28+00:00",
          "2021-12-24T14:06:28+00:00",
          "2021-12-24T14:15:27+00:00",
          "2021-12-24T14:15:27+00:00",
          "2021-12-24T14:15:27+00:00",
          "2021-12-24T14:15:27+00:00",
          "2021-12-24T19:52:10+00:00",
          "2021-12-24T22:36:51+00:00",
          "2021-12-25T01:05:57+00:00",
          "2021-12-25T04:05:24+00:00",
          "2021-12-25T04:05:46+00:00",
          "2021-12-25T05:07:49+00:00",
          "2021-12-25T05:08:25+00:00",
          "2021-12-25T05:08:25+00:00",
          "2021-12-25T06:34:28+00:00",
          "2021-12-25T06:34:28+00:00",
          "2021-12-25T06:43:06+00:00",
          "2021-12-25T06:43:06+00:00",
          "2021-12-25T06:43:06+00:00",
          "2021-12-25T07:09:10+00:00",
          "2021-12-25T07:09:10+00:00",
          "2021-12-25T07:12:37+00:00",
          "2021-12-25T07:12:37+00:00",
          "2021-12-25T07:29:45+00:00",
          "2021-12-25T09:18:23+00:00",
          "2021-12-25T09:18:23+00:00",
          "2021-12-25T09:18:23+00:00",
          "2021-12-25T09:20:17+00:00",
          "2021-12-25T09:20:17+00:00",
          "2021-12-25T09:21:19+00:00",
          "2021-12-25T09:23:51+00:00",
          "2021-12-25T09:31:14+00:00",
          "2021-12-25T09:32:57+00:00",
          "2021-12-25T09:36:26+00:00",
          "2021-12-25T09:36:26+00:00",
          "2021-12-25T14:44:48+00:00",
          "2021-12-26T12:04:43+00:00",
          "2021-12-26T12:04:43+00:00",
          "2021-12-26T12:04:43+00:00",
          "2021-12-26T15:29:48+00:00",
          "2021-12-26T15:29:48+00:00",
          "2021-12-26T15:29:48+00:00",
          "2021-12-26T15:29:48+00:00",
          "2021-12-26T15:45:58+00:00",
          "2021-12-26T15:45:58+00:00",
          "2021-12-26T15:45:58+00:00",
          "2021-12-26T16:32:16+00:00",
          "2021-12-26T16:32:16+00:00",
          "2021-12-26T16:32:16+00:00",
          "2021-12-26T20:41:57+00:00",
          "2021-12-27T02:26:05+00:00",
          "2021-12-27T02:27:29+00:00",
          "2021-12-27T02:27:29+00:00",
          "2021-12-27T02:29:34+00:00",
          "2021-12-27T02:29:34+00:00",
          "2021-12-27T02:30:29+00:00",
          "2021-12-27T02:31:19+00:00",
          "2021-12-27T02:31:19+00:00",
          "2021-12-27T02:31:19+00:00",
          "2021-12-27T02:31:19+00:00",
          "2021-12-27T02:32:03+00:00",
          "2021-12-27T02:33:07+00:00",
          "2021-12-27T02:33:54+00:00",
          "2021-12-27T02:33:54+00:00",
          "2021-12-27T02:34:15+00:00",
          "2021-12-27T02:34:15+00:00",
          "2021-12-27T02:34:38+00:00",
          "2021-12-27T02:34:38+00:00",
          "2021-12-27T03:38:39+00:00",
          "2021-12-27T03:47:15+00:00",
          "2021-12-27T04:42:39+00:00",
          "2021-12-27T04:42:39+00:00",
          "2021-12-27T04:44:23+00:00",
          "2021-12-27T04:51:52+00:00",
          "2021-12-27T04:51:52+00:00",
          "2021-12-27T04:51:52+00:00",
          "2021-12-27T04:51:52+00:00",
          "2021-12-27T05:13:19+00:00",
          "2021-12-27T05:13:19+00:00",
          "2021-12-27T05:13:19+00:00",
          "2021-12-27T06:28:19+00:00",
          "2021-12-27T08:26:05+00:00",
          "2021-12-27T13:00:54+00:00",
          "2021-12-27T13:45:47+00:00",
          "2021-12-27T13:45:47+00:00",
          "2021-12-28T08:39:23+00:00",
          "2021-12-28T08:43:10+00:00",
          "2021-12-28T23:57:51+00:00",
          "2021-12-28T23:57:51+00:00",
          "2021-12-28T23:59:28+00:00",
          "2021-12-28T23:59:28+00:00",
          "2021-12-28T23:59:28+00:00",
          "2021-12-29T02:13:43+00:00",
          "2021-12-29T02:13:43+00:00",
          "2021-12-30T01:34:33+00:00"
         ],
         "xaxis": "x",
         "y": [
          0.52,
          0.618,
          0.826,
          0.605,
          0.605,
          0.522,
          0.814,
          0.674,
          0.518,
          1.095,
          0.525,
          0.57,
          0.633,
          0.7999999999999999,
          0.514,
          0.882,
          0.5549999999999999,
          0.612,
          0.97,
          0.528,
          0.7110000000000001,
          0.612,
          0.585,
          0.57,
          0.505,
          1.221,
          0.544,
          0.552,
          1.4360000000000002,
          0.552,
          0.621,
          0.755,
          0.553,
          0.531,
          0.532,
          0.519,
          0.909,
          0.519,
          0.608,
          0.786,
          0.598,
          0.555,
          0.803,
          0.6890000000000001,
          0.508,
          0.621,
          0.621,
          0.8860000000000001,
          0.666,
          0.869,
          0.506,
          0.592,
          0.8140000000000001,
          0.577,
          0.8140000000000001,
          0.577,
          0.8009999999999999,
          0.565,
          0.565,
          0.565,
          0.772,
          0.564,
          0.608,
          0.531,
          0.512,
          0.505,
          0.623,
          0.536,
          0.647,
          1.401,
          0.604,
          0.797,
          1.036,
          0.518,
          0.518,
          0.518,
          0.739,
          0.804,
          0.531,
          0.537,
          0.537,
          0.65,
          0.738,
          0.503,
          0.671,
          1.4180000000000001,
          0.5189999999999999,
          0.514,
          0.501,
          0.518,
          0.645,
          0.594,
          0.513,
          0.6060000000000001,
          0.503,
          0.526,
          0.5780000000000001,
          0.526,
          0.5780000000000001,
          0.667,
          0.594,
          0.522,
          0.5640000000000001,
          0.566,
          0.8160000000000001,
          0.668,
          1.012,
          0.506,
          0.506,
          0.506,
          0.8979999999999999,
          0.593,
          0.6619999999999999,
          0.527,
          0.567,
          0.654,
          0.622,
          0.908,
          0.852,
          0.545,
          0.505,
          0.505,
          0.537,
          0.869,
          0.552,
          1.247,
          0.502,
          0.503
         ],
         "yaxis": "y",
         "type": "scatter"
        }
       ],
       "layout": {
        "template": {
         "data": {
          "bar": [
           {
            "error_x": {
             "color": "#2a3f5f"
            },
            "error_y": {
             "color": "#2a3f5f"
            },
            "marker": {
             "line": {
              "color": "#E5ECF6",
              "width": 0.5
             },
             "pattern": {
              "fillmode": "overlay",
              "size": 10,
              "solidity": 0.2
             }
            },
            "type": "bar"
           }
          ],
          "barpolar": [
           {
            "marker": {
             "line": {
              "color": "#E5ECF6",
              "width": 0.5
             },
             "pattern": {
              "fillmode": "overlay",
              "size": 10,
              "solidity": 0.2
             }
            },
            "type": "barpolar"
           }
          ],
          "carpet": [
           {
            "aaxis": {
             "endlinecolor": "#2a3f5f",
             "gridcolor": "white",
             "linecolor": "white",
             "minorgridcolor": "white",
             "startlinecolor": "#2a3f5f"
            },
            "baxis": {
             "endlinecolor": "#2a3f5f",
             "gridcolor": "white",
             "linecolor": "white",
             "minorgridcolor": "white",
             "startlinecolor": "#2a3f5f"
            },
            "type": "carpet"
           }
          ],
          "choropleth": [
           {
            "colorbar": {
             "outlinewidth": 0,
             "ticks": ""
            },
            "type": "choropleth"
           }
          ],
          "contour": [
           {
            "colorbar": {
             "outlinewidth": 0,
             "ticks": ""
            },
            "colorscale": [
             [
              0.0,
              "#0d0887"
             ],
             [
              0.1111111111111111,
              "#46039f"
             ],
             [
              0.2222222222222222,
              "#7201a8"
             ],
             [
              0.3333333333333333,
              "#9c179e"
             ],
             [
              0.4444444444444444,
              "#bd3786"
             ],
             [
              0.5555555555555556,
              "#d8576b"
             ],
             [
              0.6666666666666666,
              "#ed7953"
             ],
             [
              0.7777777777777778,
              "#fb9f3a"
             ],
             [
              0.8888888888888888,
              "#fdca26"
             ],
             [
              1.0,
              "#f0f921"
             ]
            ],
            "type": "contour"
           }
          ],
          "contourcarpet": [
           {
            "colorbar": {
             "outlinewidth": 0,
             "ticks": ""
            },
            "type": "contourcarpet"
           }
          ],
          "heatmap": [
           {
            "colorbar": {
             "outlinewidth": 0,
             "ticks": ""
            },
            "colorscale": [
             [
              0.0,
              "#0d0887"
             ],
             [
              0.1111111111111111,
              "#46039f"
             ],
             [
              0.2222222222222222,
              "#7201a8"
             ],
             [
              0.3333333333333333,
              "#9c179e"
             ],
             [
              0.4444444444444444,
              "#bd3786"
             ],
             [
              0.5555555555555556,
              "#d8576b"
             ],
             [
              0.6666666666666666,
              "#ed7953"
             ],
             [
              0.7777777777777778,
              "#fb9f3a"
             ],
             [
              0.8888888888888888,
              "#fdca26"
             ],
             [
              1.0,
              "#f0f921"
             ]
            ],
            "type": "heatmap"
           }
          ],
          "heatmapgl": [
           {
            "colorbar": {
             "outlinewidth": 0,
             "ticks": ""
            },
            "colorscale": [
             [
              0.0,
              "#0d0887"
             ],
             [
              0.1111111111111111,
              "#46039f"
             ],
             [
              0.2222222222222222,
              "#7201a8"
             ],
             [
              0.3333333333333333,
              "#9c179e"
             ],
             [
              0.4444444444444444,
              "#bd3786"
             ],
             [
              0.5555555555555556,
              "#d8576b"
             ],
             [
              0.6666666666666666,
              "#ed7953"
             ],
             [
              0.7777777777777778,
              "#fb9f3a"
             ],
             [
              0.8888888888888888,
              "#fdca26"
             ],
             [
              1.0,
              "#f0f921"
             ]
            ],
            "type": "heatmapgl"
           }
          ],
          "histogram": [
           {
            "marker": {
             "pattern": {
              "fillmode": "overlay",
              "size": 10,
              "solidity": 0.2
             }
            },
            "type": "histogram"
           }
          ],
          "histogram2d": [
           {
            "colorbar": {
             "outlinewidth": 0,
             "ticks": ""
            },
            "colorscale": [
             [
              0.0,
              "#0d0887"
             ],
             [
              0.1111111111111111,
              "#46039f"
             ],
             [
              0.2222222222222222,
              "#7201a8"
             ],
             [
              0.3333333333333333,
              "#9c179e"
             ],
             [
              0.4444444444444444,
              "#bd3786"
             ],
             [
              0.5555555555555556,
              "#d8576b"
             ],
             [
              0.6666666666666666,
              "#ed7953"
             ],
             [
              0.7777777777777778,
              "#fb9f3a"
             ],
             [
              0.8888888888888888,
              "#fdca26"
             ],
             [
              1.0,
              "#f0f921"
             ]
            ],
            "type": "histogram2d"
           }
          ],
          "histogram2dcontour": [
           {
            "colorbar": {
             "outlinewidth": 0,
             "ticks": ""
            },
            "colorscale": [
             [
              0.0,
              "#0d0887"
             ],
             [
              0.1111111111111111,
              "#46039f"
             ],
             [
              0.2222222222222222,
              "#7201a8"
             ],
             [
              0.3333333333333333,
              "#9c179e"
             ],
             [
              0.4444444444444444,
              "#bd3786"
             ],
             [
              0.5555555555555556,
              "#d8576b"
             ],
             [
              0.6666666666666666,
              "#ed7953"
             ],
             [
              0.7777777777777778,
              "#fb9f3a"
             ],
             [
              0.8888888888888888,
              "#fdca26"
             ],
             [
              1.0,
              "#f0f921"
             ]
            ],
            "type": "histogram2dcontour"
           }
          ],
          "mesh3d": [
           {
            "colorbar": {
             "outlinewidth": 0,
             "ticks": ""
            },
            "type": "mesh3d"
           }
          ],
          "parcoords": [
           {
            "line": {
             "colorbar": {
              "outlinewidth": 0,
              "ticks": ""
             }
            },
            "type": "parcoords"
           }
          ],
          "pie": [
           {
            "automargin": true,
            "type": "pie"
           }
          ],
          "scatter": [
           {
            "marker": {
             "colorbar": {
              "outlinewidth": 0,
              "ticks": ""
             }
            },
            "type": "scatter"
           }
          ],
          "scatter3d": [
           {
            "line": {
             "colorbar": {
              "outlinewidth": 0,
              "ticks": ""
             }
            },
            "marker": {
             "colorbar": {
              "outlinewidth": 0,
              "ticks": ""
             }
            },
            "type": "scatter3d"
           }
          ],
          "scattercarpet": [
           {
            "marker": {
             "colorbar": {
              "outlinewidth": 0,
              "ticks": ""
             }
            },
            "type": "scattercarpet"
           }
          ],
          "scattergeo": [
           {
            "marker": {
             "colorbar": {
              "outlinewidth": 0,
              "ticks": ""
             }
            },
            "type": "scattergeo"
           }
          ],
          "scattergl": [
           {
            "marker": {
             "colorbar": {
              "outlinewidth": 0,
              "ticks": ""
             }
            },
            "type": "scattergl"
           }
          ],
          "scattermapbox": [
           {
            "marker": {
             "colorbar": {
              "outlinewidth": 0,
              "ticks": ""
             }
            },
            "type": "scattermapbox"
           }
          ],
          "scatterpolar": [
           {
            "marker": {
             "colorbar": {
              "outlinewidth": 0,
              "ticks": ""
             }
            },
            "type": "scatterpolar"
           }
          ],
          "scatterpolargl": [
           {
            "marker": {
             "colorbar": {
              "outlinewidth": 0,
              "ticks": ""
             }
            },
            "type": "scatterpolargl"
           }
          ],
          "scatterternary": [
           {
            "marker": {
             "colorbar": {
              "outlinewidth": 0,
              "ticks": ""
             }
            },
            "type": "scatterternary"
           }
          ],
          "surface": [
           {
            "colorbar": {
             "outlinewidth": 0,
             "ticks": ""
            },
            "colorscale": [
             [
              0.0,
              "#0d0887"
             ],
             [
              0.1111111111111111,
              "#46039f"
             ],
             [
              0.2222222222222222,
              "#7201a8"
             ],
             [
              0.3333333333333333,
              "#9c179e"
             ],
             [
              0.4444444444444444,
              "#bd3786"
             ],
             [
              0.5555555555555556,
              "#d8576b"
             ],
             [
              0.6666666666666666,
              "#ed7953"
             ],
             [
              0.7777777777777778,
              "#fb9f3a"
             ],
             [
              0.8888888888888888,
              "#fdca26"
             ],
             [
              1.0,
              "#f0f921"
             ]
            ],
            "type": "surface"
           }
          ],
          "table": [
           {
            "cells": {
             "fill": {
              "color": "#EBF0F8"
             },
             "line": {
              "color": "white"
             }
            },
            "header": {
             "fill": {
              "color": "#C8D4E3"
             },
             "line": {
              "color": "white"
             }
            },
            "type": "table"
           }
          ]
         },
         "layout": {
          "annotationdefaults": {
           "arrowcolor": "#2a3f5f",
           "arrowhead": 0,
           "arrowwidth": 1
          },
          "autotypenumbers": "strict",
          "coloraxis": {
           "colorbar": {
            "outlinewidth": 0,
            "ticks": ""
           }
          },
          "colorscale": {
           "diverging": [
            [
             0,
             "#8e0152"
            ],
            [
             0.1,
             "#c51b7d"
            ],
            [
             0.2,
             "#de77ae"
            ],
            [
             0.3,
             "#f1b6da"
            ],
            [
             0.4,
             "#fde0ef"
            ],
            [
             0.5,
             "#f7f7f7"
            ],
            [
             0.6,
             "#e6f5d0"
            ],
            [
             0.7,
             "#b8e186"
            ],
            [
             0.8,
             "#7fbc41"
            ],
            [
             0.9,
             "#4d9221"
            ],
            [
             1,
             "#276419"
            ]
           ],
           "sequential": [
            [
             0.0,
             "#0d0887"
            ],
            [
             0.1111111111111111,
             "#46039f"
            ],
            [
             0.2222222222222222,
             "#7201a8"
            ],
            [
             0.3333333333333333,
             "#9c179e"
            ],
            [
             0.4444444444444444,
             "#bd3786"
            ],
            [
             0.5555555555555556,
             "#d8576b"
            ],
            [
             0.6666666666666666,
             "#ed7953"
            ],
            [
             0.7777777777777778,
             "#fb9f3a"
            ],
            [
             0.8888888888888888,
             "#fdca26"
            ],
            [
             1.0,
             "#f0f921"
            ]
           ],
           "sequentialminus": [
            [
             0.0,
             "#0d0887"
            ],
            [
             0.1111111111111111,
             "#46039f"
            ],
            [
             0.2222222222222222,
             "#7201a8"
            ],
            [
             0.3333333333333333,
             "#9c179e"
            ],
            [
             0.4444444444444444,
             "#bd3786"
            ],
            [
             0.5555555555555556,
             "#d8576b"
            ],
            [
             0.6666666666666666,
             "#ed7953"
            ],
            [
             0.7777777777777778,
             "#fb9f3a"
            ],
            [
             0.8888888888888888,
             "#fdca26"
            ],
            [
             1.0,
             "#f0f921"
            ]
           ]
          },
          "colorway": [
           "#636efa",
           "#EF553B",
           "#00cc96",
           "#ab63fa",
           "#FFA15A",
           "#19d3f3",
           "#FF6692",
           "#B6E880",
           "#FF97FF",
           "#FECB52"
          ],
          "font": {
           "color": "#2a3f5f"
          },
          "geo": {
           "bgcolor": "white",
           "lakecolor": "white",
           "landcolor": "#E5ECF6",
           "showlakes": true,
           "showland": true,
           "subunitcolor": "white"
          },
          "hoverlabel": {
           "align": "left"
          },
          "hovermode": "closest",
          "mapbox": {
           "style": "light"
          },
          "paper_bgcolor": "white",
          "plot_bgcolor": "#E5ECF6",
          "polar": {
           "angularaxis": {
            "gridcolor": "white",
            "linecolor": "white",
            "ticks": ""
           },
           "bgcolor": "#E5ECF6",
           "radialaxis": {
            "gridcolor": "white",
            "linecolor": "white",
            "ticks": ""
           }
          },
          "scene": {
           "xaxis": {
            "backgroundcolor": "#E5ECF6",
            "gridcolor": "white",
            "gridwidth": 2,
            "linecolor": "white",
            "showbackground": true,
            "ticks": "",
            "zerolinecolor": "white"
           },
           "yaxis": {
            "backgroundcolor": "#E5ECF6",
            "gridcolor": "white",
            "gridwidth": 2,
            "linecolor": "white",
            "showbackground": true,
            "ticks": "",
            "zerolinecolor": "white"
           },
           "zaxis": {
            "backgroundcolor": "#E5ECF6",
            "gridcolor": "white",
            "gridwidth": 2,
            "linecolor": "white",
            "showbackground": true,
            "ticks": "",
            "zerolinecolor": "white"
           }
          },
          "shapedefaults": {
           "line": {
            "color": "#2a3f5f"
           }
          },
          "ternary": {
           "aaxis": {
            "gridcolor": "white",
            "linecolor": "white",
            "ticks": ""
           },
           "baxis": {
            "gridcolor": "white",
            "linecolor": "white",
            "ticks": ""
           },
           "bgcolor": "#E5ECF6",
           "caxis": {
            "gridcolor": "white",
            "linecolor": "white",
            "ticks": ""
           }
          },
          "title": {
           "x": 0.05
          },
          "xaxis": {
           "automargin": true,
           "gridcolor": "white",
           "linecolor": "white",
           "ticks": "",
           "title": {
            "standoff": 15
           },
           "zerolinecolor": "white",
           "zerolinewidth": 2
          },
          "yaxis": {
           "automargin": true,
           "gridcolor": "white",
           "linecolor": "white",
           "ticks": "",
           "title": {
            "standoff": 15
           },
           "zerolinecolor": "white",
           "zerolinewidth": 2
          }
         }
        },
        "xaxis": {
         "anchor": "y",
         "domain": [
          0.0,
          1.0
         ],
         "title": {
          "text": "Appearance time"
         }
        },
        "yaxis": {
         "anchor": "x",
         "domain": [
          0.0,
          1.0
         ],
         "title": {
          "text": "TF-IDF ratio"
         }
        },
        "legend": {
         "tracegroupgap": 0
        },
        "title": {
         "text": "https://www.instagram.com/p/CX3ZqJ_NlZg/"
        }
       },
       "config": {
        "plotlyServerURL": "https://plot.ly"
       }
      },
      "text/html": "<div>                            <div id=\"1d8cc2ae-916a-4bf6-ab63-39c1d0debb5c\" class=\"plotly-graph-div\" style=\"height:525px; width:100%;\"></div>            <script type=\"text/javascript\">                require([\"plotly\"], function(Plotly) {                    window.PLOTLYENV=window.PLOTLYENV || {};                                    if (document.getElementById(\"1d8cc2ae-916a-4bf6-ab63-39c1d0debb5c\")) {                    Plotly.newPlot(                        \"1d8cc2ae-916a-4bf6-ab63-39c1d0debb5c\",                        [{\"hovertemplate\":\"Appearance time=%{x}<br>TF-IDF ratio=%{y}<br>Keyword=%{text}<extra></extra>\",\"legendgroup\":\"\",\"marker\":{\"color\":\"#636efa\",\"symbol\":\"circle\"},\"mode\":\"markers+text\",\"name\":\"\",\"orientation\":\"v\",\"showlegend\":false,\"text\":[\"\\u0417\\u0410\\u0411\\u042b\\u0422\\u042c\",\"\\u0420\\u0410\\u0411\\u041e\\u0422\\u0410 \\u041e\\u0411\\u0429\\u0415\\u0421\\u0422\\u0412\\u0415\\u041d\\u041d\\u041e\\u0413\\u041e \\u0422\\u0420\\u0410\\u041d\\u0421\\u041f\\u041e\\u0420\\u0422\\u0410\",\"\\u0421\\u0410\\u041b\\u041e\\u041d \\u041e\\u0411\\u0429\\u0415\\u0421\\u0422\\u0412\\u0415\\u041d\\u041d\\u041e\\u0413\\u041e \\u0422\\u0420\\u0410\\u041d\\u0421\\u041f\\u041e\\u0420\\u0422\\u0410\",\"\\u0424\\u041e\\u0422\\u041e\",\"\\u0427\\u0422\\u041e\\u041b\\u042c\",\"\\u0422\\u041e\\u041b\\u041a\",\"\\u0421\\u041a\\u041e\\u041b\\u042c\\u041a\\u041e \\u0427\\u0410\\u0421\\u0422\\u041d\\u041e\\u0415 \\u0422\\u0420\\u0410\\u041d\\u0421\\u041f\\u041e\\u0420\\u0422\\u041d\\u041e\\u0415 \\u0421\\u0420\\u0415\\u0414\\u0421\\u0422\\u0412\\u041e\",\"\\u0422\\u0418\\u041f\",\"\\u0425\\u0412\\u0410\\u0422\\u0410\\u0422\\u042c\",\"\\u0421\\u041a\\u041e\\u041b\\u042c\\u041a\\u041e \\u0417\\u0410\\u0412\\u041e\\u041b\\u0416\\u042c\\u0415\",\"\\u0417\\u0410\\u0412\\u041e\\u041b\\u0416\\u042c\\u0415\",\"\\u0421\\u041a\\u041e\\u041b\\u042c\\u041a\\u041e\",\"\\u041f\\u041e\\u0421\\u0422\\u0423\\u041f\\u0418\\u0422\\u042c\",\"\\u041d\\u041e\\u0420\\u041c\\u0410\\u041b\\u042c\\u041d\\u0410\\u042f \\u0413\\u041e\\u0420\\u041e\\u0414\\u0421\\u041a\\u0410\\u042f \\u041c\\u041e\\u0414\\u0415\\u041b\\u042c\",\"\\u041d\\u041e\\u0420\\u041c\\u0410\\u041b\\u042c\\u041d\\u042b\\u0419 \\u0422\\u0420\\u0410\\u041d\\u0421\\u041f\\u041e\\u0420\\u0422\",\"\\u041d\\u0418\\u0417\\u041a\\u0418\\u0419 \\u041f\\u041e\\u041b\",\"\\u041d\\u041e\\u0412\\u042b\\u0419 \\u0413\\u041e\\u0414\",\"\\u041f\\u041e\\u0414\\u0410\\u0420\\u041e\\u041a\",\"\\u0413\\u0423\\u0411\\u0415\\u0420\\u041d\\u0410\\u0422\\u041e\\u0420\\u0421\\u041a\\u0418\\u0419 \\u041f\\u041e\\u0414\\u0410\\u0420\\u041e\\u041a\",\"\\u0430\\u0432\\u0442\\u043e\\u0431\\u0443\\u0441 \\u0421\\u0438\\u043c\\u0430\\u0437\",\"\\u0410\\u0412\\u0422\\u041e\\u0411\\u0423\\u0421\\u041d\\u042b\\u0419 \\u0417\\u0410\\u0412\\u041e\\u0414\",\"\\u0422\\u0412\\u0421\\u042f\\u0427\\u041d\\u042b\\u0419 \\u0413\\u041e\\u0420\\u041e\\u0414\",\"\\u041a\\u0418\\u041d\\u0414\\u042f\\u041a\\u041e\\u0412\\u041a\\u0410\",\"\\u0413\\u041e\\u0420\\u041e\\u0414\\u0421\\u041a\\u041e\\u0419 \\u041e\\u0411\\u0429\\u0415\\u0421\\u0422\\u0412\\u0415\\u041d\\u041d\\u042b\\u0419 \\u0422\\u0420\\u0410\\u041d\\u0421\\u041f\\u041e\\u041d\\u0422\",\"\\u0413\\u041e\\u041b\\u041e\\u0421 \\u041d\\u0410\\u0420\\u041e\\u0414\\u0410\",\"\\u0416\\u0415\\u041b\\u0422\\u042b\\u0419 \\u041e\\u0424\\u0418\\u0413\\u0415\\u041d\\u041d\\u042b\\u0419 \\u0410\\u0412\\u0422\\u041e\\u0411\\u0423\\u0421\",\"\\u041e\\u0424\\u0418\\u0413\\u0415\\u041d\\u041d\\u042b\\u0419\",\"\\u0422\\u0430\\u0442\\u0430\\u0440\\u0441\\u0442\\u0430\\u043d\",\"\\u0416\\u0415\\u041b\\u0422\\u042b\\u0419 \\u0410\\u0412\\u0422\\u041e\\u0411\\u0423\\u0421\\u041d\\u042b\\u0419 \\u041d\\u041e\\u041c\\u0415\\u0420\",\"\\u0416\\u0415\\u041b\\u0422\\u042b\\u0419\",\"\\u041c\\u041e\\u0420\\u041e\\u0417\\u041e\\u0412\\u0421\\u041a\\u0410\\u042f \\u041a\\u041e\\u041c\\u0410\\u041d\\u0414\\u0410\",\"\\u041f\\u0420\\u041e\\u041c\\u0417\\u041e\\u041d\\u0410\",\"\\u0414\\u041e\\u0411\\u0418\\u0422\\u042c\",\"\\u0411\\u041e\\u0413\",\"\\u041f\\u0420\\u0410\\u0412\\u0418\\u041b\\u042c\\u041d\\u041e\\u0415 \\u0420\\u0423\\u0421\\u041b\\u041e\",\"\\u0414\\u0438\\u043c\\u0438\\u0442\\u0440\\u043e\\u0432\\u0433\\u0440\\u0430\\u0434\",\"\\u041c\\u0423\\u041d\\u0418\\u0426\\u0418\\u041f\\u0410\\u041b\\u042c\\u041d\\u042b\\u0419 \\u041f\\u0415\\u0420\\u0415\\u0412\\u041e\\u0417\\u0427\\u0418\\u041a\",\"\\u0412\\u0415\\u0420\\u041d\\u0423\\u0422\\u042c\",\"\\u041c\\u0423\\u041d\\u0418\\u0426\\u0418\\u041f\\u0410\\u041b\\u042c\\u041d\\u042b\\u0419\",\"\\u0421\\u0411\\u041e\\u0420\\u041e\\u0427\\u041d\\u041e\\u0415 \\u041f\\u0420\\u041e\\u0418\\u0417\\u0412\\u041e\\u0414\\u0421\\u0422\\u0412\\u041e\",\"\\u0421\\u0422\\u0410\\u0420\\u042b\\u0419 \\u0427\\u0415\\u041b\\u041e\\u0412\\u0415\\u041a\",\"\\u0416\\u0418\\u0422\\u042c\",\"\\u0412\\u0415\\u0420\\u041d\\u0423\\u0422\\u042c\",\"\\u0413\\u0410\\u0417\\u0415\\u041b\\u042c \\u0411\\u0418\\u0422\",\"\\u0425\\u041e\\u0420\\u041e\\u0428\\u0415\\u0415 \\u0411\\u041e\\u041b\\u042c\\u0428\\u041e\\u0415 \\u0417\\u0414\\u0410\\u041d\\u0418\\u0415\",\"\\u041e\\u0411\\u0420\\u0410\\u0422\\u0418\\u0422\\u042c\",\"\\u0412\\u041d\\u0418\\u041c\\u0410\\u041d\\u0418\\u0415\",\"\\u0424\\u041e\\u0422\\u041a\\u0410 \\u041d\\u041e\\u0412\\u042b\\u0425 \\u041f\\u0410\\u0417\\u041e\\u0412\",\"\\u041a\\u0420\\u0423\\u041f\\u041d\\u0410\\u042f \\u041d\\u0415\\u0424\\u0410\\u0417\\u0410\",\"\\u041d\\u0418\\u0417\\u041a\\u041e\\u041f\\u041e\\u041b\\u042c\\u041d\\u042b\\u0419 \\u0413\\u041e\\u0420\\u041e\\u0414\\u0421\\u041a\\u041e\\u0419 \\u041f\\u0410\\u0417\",\"\\u0412\\u042b\\u0421\\u041e\\u041a\\u0418\\u0419 \\u041f\\u041e\\u041b\",\"\\u0423\\u0420\\u041e\\u0412\\u0415\\u041d\\u042c \\u041a\\u041e\\u041c\\u0424\\u041e\\u0420\\u0422\\u0410\",\"\\u041d\\u0410\\u041f\\u0420\\u0410\\u0412\\u041b\\u0415\\u041d\\u0418\\u0415 \\u041e\\u0411\\u041b\\u0410\\u0421\\u0422\\u041d\\u041e\\u0413\\u041e \\u0426\\u0415\\u041d\\u0422\\u0420\\u0410\",\"\\u041e\\u0411\\u041b\\u0410\\u0421\\u0422\\u041d\\u041e\\u0419 \\u0426\\u0415\\u041d\\u0422\\u0420\",\"\\u041d\\u0410\\u041f\\u0420\\u0410\\u0412\\u041b\\u0415\\u041d\\u0418\\u0415 \\u041e\\u0411\\u041b\\u0410\\u0421\\u0422\\u041d\\u041e\\u0413\\u041e \\u0426\\u0415\\u041d\\u0422\\u0420\\u0410\",\"\\u041e\\u0411\\u041b\\u0410\\u0421\\u0422\\u041d\\u041e\\u0419 \\u0426\\u0415\\u041d\\u0422\\u0420\",\"\\u0412\\u042b\\u0421\\u041e\\u041a\\u041e\\u041f\\u041e\\u041b\\u042c\\u041d\\u042b\\u0419 \\u041b\\u042c\\u0412\\u0415\\u041d\\u041e\\u041a\",\"\\u041d\\u0410\\u0417\\u0412\\u0410\\u041d\\u0418\\u0415 \\u0420\\u0410\\u0419\\u041e\\u041d\\u0410\",\"\\u041d\\u0410\\u0417\\u0412\\u0410\\u041d\\u0418\\u0415\",\"\\u041c\\u0423\\u041d\\u0418\\u0426\\u0418\\u041f\\u0410\\u041b\\u0418\\u0422\\u0415\\u0422\",\"\\u041d\\u041e\\u0412\\u041e\\u0413\\u041e\\u0414\\u041d\\u0418\\u0419 \\u0421\\u041b\\u0410\\u0414\\u041a\\u0418\\u0419 \\u041f\\u041e\\u0414\\u0410\\u0420\\u041e\\u041a\",\"\\u0412\\u042b\\u0414\\u0410\\u0427\\u0410 \\u041f\\u041e\\u0414\\u0410\\u0420\\u041a\\u041e\\u0412\",\"\\u041d\\u0410\\u041f\\u0418\\u0421\\u0410\\u0422\\u042c\",\"\\u0421\\u041f\\u0415\\u0426\\u0418\\u0410\\u041b\\u0418\\u0421\\u0422\",\"\\u0421\\u041e\\u0417\\u0414\\u0410\\u041d\\u0418\\u0415 \\u0414\\u041e\\u041f\\u041e\\u041b\\u041d\\u0418\\u0422\\u0415\\u041b\\u042c\\u041d\\u041e\\u0413\\u041e \\u041c\\u0410\\u0420\\u0428\\u0420\\u0423\\u0422\\u0410\",\"\\u0412\\u0417\\u042f\\u0422\\u042c\",\"\\u041e\\u0422\\u0412\\u0415\\u0422\\u0418\\u0422\\u042c\",\"\\u041a\\u041e\\u041c\\u041c\\u0415\\u041d\\u0422\\u0410\\u0420\\u0418\\u0419\",\"\\u041d\\u041e\\u0412\\u042b\\u0419 \\u0422\\u0420\\u0410\\u041c\\u0412\\u0410\\u0419\",\"\\u0421\\u0422\\u0410\\u0420\\u042b\\u0419 \\u041f\\u0410\\u0417\\u0418\\u041a\",\"\\u0421\\u0422\\u0410\\u0420\\u042b\\u0419\",\"\\u041f\\u0410\\u0417\\u0418\\u041a\\u0410\",\"\\u041f\\u0420\\u041e\\u0418\\u0413\\u0420\\u0410\\u0422\\u042c \\u0421\\u0422\\u041e\\u0420\\u041e\\u041d\\u0410\",\"\\u041f\\u0420\\u041e\\u0418\\u0413\\u0420\\u0410\\u0412\\u0428\\u0418\\u0419\",\"\\u0421\\u0422\\u041e\\u0420\\u041e\\u041d\\u0410\",\"\\u041a\\u041e\\u041d\\u0422\\u0420\\u0410\\u041a\\u0422\",\"\\u0413\\u0420\\u0410\\u0424\\u0418\\u041a \\u0420\\u0410\\u0411\\u041e\\u0422\\u042b\",\"\\u041c\\u0410\\u0420\\u0428\\u0420\\u0423\\u0422\\u041d\\u041e\\u0415 \\u0422\\u0410\\u041a\\u0421\\u0418\",\"\\u0422\\u0410\\u041a\\u0421\\u0418\",\"\\u0423\\u0422\\u041e\\u0427\\u041d\\u0418\\u0422\\u042c\",\"\\u0416\\u0414\\u0410\\u0422\\u042c\",\"\\u041e\\u0422\\u0412\\u0415\\u0422\",\"\\u0414\\u041e\\u0420\\u041e\\u0413\\u0410 \\u0417\\u0410\\u041f\\u0427\\u0410\\u0421\\u0422\\u0418\",\"\\u0423\\u043f\\u0440\\u0430\\u0432\\u043b\\u0435\\u043d\\u0438\\u0435 \\u0414\\u043e\\u0440\\u043e\\u0436\\u043d\\u043e\\u0433\\u043e \\u0425\\u043e\\u0437\\u044f\\u0439\\u0441\\u0442\\u0432\\u0430 \\u0438 \\u0422\\u0440\\u0430\\u043d\\u0441\\u043f\\u043e\\u0440\\u0442\\u0430\",\"\\u0423\\u043f\\u0440\\u0430\\u0432\\u043b\\u0435\\u043d\\u0438\\u0435 \\u0414\\u043e\\u0440\\u043e\\u0436\\u043d\\u043e\\u0433\\u043e \\u0425\\u043e\\u0437\\u044f\\u0439\\u0441\\u0442\\u0432\\u0430 \\u0438 \\u0422\\u0440\\u0430\\u043d\\u0441\\u043f\\u043e\\u0440\\u0442\\u0430\",\"\\u041e\\u0442\\u0434\\u0435\\u043b \\u041e\\u0440\\u0433\\u0430\\u043d\\u0438\\u0437\\u0430\\u0446\\u0438\\u0438 \\u0422\\u0440\\u0430\\u043d\\u0441\\u043f\\u043e\\u0440\\u0442\\u043d\\u043e\\u0433\\u043e \\u041e\\u0431\\u0441\\u043b\\u0443\\u0436\\u0438\\u0432\\u0430\\u043d\\u0438\\u044f \\u0423\\u043f\\u0440\\u0430\\u0432\\u043b\\u0435\\u043d\\u0438\\u044f \\u0414\\u043e\\u0440\\u043e\\u0436\\u043d\\u043e\\u0433\\u043e \\u0425\\u043e\\u0437\\u044f\\u0439\\u0441\\u0442\\u0432\\u0430 \\u0438 \\u0422\\u0440\\u0430\\u043d\\u0441\\u043f\\u043e\\u0440\\u0442\\u0430\",\"\\u041c\\u0410\\u0420\\u0428\\u0420\\u0423\\u0422\\u041d\\u041e\\u0415 \\u0422\\u0420\\u0410\\u041d\\u0421\\u041f\\u041e\\u0420\\u0422\\u041d\\u041e\\u0415 \\u0421\\u0420\\u0415\\u0414\\u0421\\u0422\\u0412\\u041e\",\"\\u0427\\u0418\\u0421\\u041b\\u041e \\u041c\\u0410\\u0428\\u0418\\u041d\",\"\\u041c\\u0410\\u0420\\u0428\\u0420\\u0423\\u0422\\u041d\\u041e\\u0415 \\u0422\\u0420\\u0410\\u041d\\u0421\\u041f\\u041e\\u0420\\u0422\\u041d\\u041e\\u0415 \\u0421\\u0420\\u0415\\u0414\\u0421\\u0422\\u0412\\u041e\",\"\\u0414\\u0412\\u0418\\u0416\\u0415\\u041d\\u0418\\u0415 \\u041e\\u0411\\u0429\\u0415\\u0421\\u0422\\u0412\\u0415\\u041d\\u041d\\u041e\\u0413\\u041e \\u0422\\u0420\\u0410\\u041d\\u0421\\u041f\\u041e\\u0420\\u0422\\u0410\",\"\\u0421\\u041e\\u0417\\u0414\\u0410\\u041d\\u0418\\u0415 \\u0414\\u041e\\u041f\\u041e\\u041b\\u041d\\u0418\\u0422\\u0415\\u041b\\u042c\\u041d\\u041e\\u0413\\u041e \\u041c\\u0410\\u0420\\u0428\\u0420\\u0423\\u0422\\u0410\",\"\\u041c\\u041e\\u0414\\u0415\\u0420\\u041d\\u0418\\u0417\\u0410\\u0426\\u0418\\u042f \\u0421\\u0425\\u0415\\u041c\\u042b\",\"\\u0417\\u0410\\u0412\\u041e\\u041b\\u0416\\u0421\\u041a\\u041e\\u0415 \\u041d\\u0410\\u041f\\u0420\\u0410\\u0412\\u041b\\u0415\\u041d\\u0418\\u0415\",\"\\u041d\\u0415\\u0411\\u041b\\u0410\\u0413\\u041e\\u041f\\u0420\\u0418\\u042f\\u0422\\u041d\\u0410\\u042f \\u042d\\u041f\\u0418\\u0414\\u0415\\u041c\\u0418\\u041e\\u041b\\u041e\\u0413\\u0418\\u0427\\u0415\\u0421\\u041a\\u0410\\u042f \\u041e\\u0411\\u0421\\u0422\\u0410\\u041d\\u041e\\u0412\\u041a\\u0410\",\"\\u0414\\u0415\\u0422\\u0410\\u041b\\u042c\\u041d\\u042b\\u0419 \\u041a\\u041e\\u041c\\u041c\\u0415\\u041d\\u0422\\u0410\\u0420\\u0418\\u0419\",\"\\u0410\\u0412\\u0422\\u041e\\u0411\\u0423\\u0421 \\u0421\\u0420\\u0415\\u0414\\u041d\\u0415\\u0419 \\u0412\\u041c\\u0415\\u0421\\u0422\\u0418\\u041c\\u041e\\u0421\\u0422\\u0418\",\"\\u0417\\u0410\\u041c\\u0415\\u041d\\u0410 \\u0410\\u0412\\u0422\\u041e\\u0411\\u0423\\u0421\\u041e\\u0412\",\"\\u0410\\u0412\\u0422\\u041e\\u0411\\u0423\\u0421 \\u0421\\u0420\\u0415\\u0414\\u041d\\u0415\\u0419 \\u0412\\u041c\\u0415\\u0421\\u0422\\u0418\\u041c\\u041e\\u0421\\u0422\\u0418\",\"\\u0417\\u0410\\u041c\\u0415\\u041d\\u0410 \\u0410\\u0412\\u0422\\u041e\\u0411\\u0423\\u0421\\u041e\\u0412\",\"\\u041f\\u0420\\u041e\\u0412\\u0415\\u0414\\u0415\\u041d\\u0418\\u0415 \\u041a\\u041e\\u041d\\u041a\\u0423\\u0420\\u0421\\u041d\\u042b\\u0425 \\u041f\\u0420\\u041e\\u0426\\u0415\\u0414\\u0423\\u0420\",\"\\u041f\\u0415\\u0420\\u0415\\u0412\\u041e\\u0414 \\u041c\\u0410\\u0420\\u0428\\u0420\\u0423\\u0422\\u0410\",\"\\u0421\\u041e\\u0411\\u0421\\u0422\\u0412\\u0415\\u041d\\u041d\\u041e\\u0421\\u0422\\u042c \\u0420\\u0415\\u0413\\u0418\\u041e\\u041d\\u0410\\u041b\\u042c\\u041d\\u041e\\u0413\\u041e \\u041c\\u0418\\u041d\\u0418\\u0421\\u0422\\u0415\\u0420\\u0421\\u0422\\u0412\\u0410\",\"\\u041f\\u0420\\u0418\\u041d\\u042f\\u0422\\u041e\\u0415 \\u0420\\u0415\\u0428\\u0415\\u041d\\u0418\\u0415\",\"\\u041c\\u0418\\u041d\\u0418\\u0421\\u0422\\u0415\\u0420\\u0421\\u0422\\u0412\\u041e \\u0422\\u0420\\u0410\\u041d\\u0421\\u041f\\u041e\\u0420\\u0422\\u0410\",\"\\u041f\\u041e\\u0412\\u041e\\u0414 \\u0410\\u0412\\u0422\\u041e\\u0412\\u041e\\u041a\\u0417\\u0410\\u041b\\u0410\",\"\\u041f\\u0420\\u0418\\u0427\\u0418\\u041d\\u0410 \\u0410\\u0412\\u0410\\u0420\\u0418\\u0419\\u041d\\u041e\\u0413\\u041e \\u0421\\u041e\\u0421\\u0422\\u041e\\u042f\\u041d\\u0418\\u042f\",\"\\u041f\\u0420\\u041e\\u0424\\u0418\\u041b\\u042c\\u041d\\u041e\\u0415 \\u041f\\u041e\\u0414\\u0420\\u0410\\u0417\\u0414\\u0415\\u041b\\u0415\\u041d\\u0418\\u0415\",\"\\u041f\\u0415\\u0420\\u0415\\u0414\\u0410\\u0422\\u042c\",\"\\u041f\\u0420\\u041e\\u0424\\u0418\\u041b\\u042c\\u041d\\u042b\\u0419\",\"\\u041f\\u041e\\u0414\\u0420\\u0410\\u0417\\u0414\\u0415\\u041b\\u0415\\u041d\\u0418\\u0415\",\"\\u041f\\u041e\\u0421\\u0422\\u0423\\u041f\\u041b\\u0415\\u041d\\u0418\\u0415 \\u041d\\u041e\\u0412\\u042b\\u0425 \\u0412\\u0410\\u0413\\u041e\\u041d\\u041e\\u0412\",\"\\u041d\\u041e\\u0412\\u042b\\u0419 \\u0412\\u0410\\u0413\\u041e\\u041d\",\"\\u041f\\u0420\\u0418\\u041e\\u0420\\u0418\\u0422\\u0415\\u0422\\u041d\\u042b\\u0419 \\u041f\\u041e\\u0420\\u042f\\u0414\\u041e\\u041a\",\"\\u041c\\u0415\\u0421\\u0422\\u041e\",\"\\u041c\\u0415\\u0421\\u0422\\u041d\\u042b\\u0419 \\u0410\\u0412\\u0422\\u041e\\u0411\\u0423\\u0421\",\"\\u0421\\u041e\\u0422\\u0420\\u0423\\u0414\\u041d\\u0418\\u041a \\u0413\\u041e\\u0420\\u041e\\u0414\\u0421\\u041a\\u041e\\u0419 \\u0410\\u0414\\u041c\\u0418\\u041d\\u0418\\u0421\\u0422\\u0420\\u0410\\u0426\\u0418\\u0418\",\"\\u041e\\u0413\\u0420\\u041e\\u041c\\u041d\\u041e\\u0415 \\u0421\\u041f\\u0410\\u0421\\u0418\\u0411\\u041e\",\"\\u041f\\u041e\\u0417\\u0418\\u0422\\u0418\\u0412\\u041d\\u0410\\u042f \\u041f\\u0415\\u0420\\u0415\\u041c\\u0415\\u041d\\u0410\",\"\\u0414\\u0415\\u0422\\u0421\\u041a\\u0410\\u042f \\u041f\\u041e\\u041b\\u0418\\u041a\\u041b\\u0418\\u041d\\u0418\\u041a\\u0410\",\"\\u041d\\u0410\\u041f\\u0420\\u0410\\u0412\\u041b\\u0415\\u041d\\u0418\\u0415 \\u0414\\u0420\\u0423\\u0416\\u0411\\u042b\",\"\\u041d\\u0415\\u041f\\u0420\\u041e\\u0421\\u0422\\u0410\\u042f \\u0417\\u0410\\u0414\\u0410\\u0427\\u0410\",\"\\u0412\\u0410\\u0416\\u041d\\u0410\\u042f \\u0417\\u0410\\u0414\\u0410\\u0427\\u0410\",\"\\u041f\\u0441\\u043a\\u043e\\u0432\",\"\\u041f\\u0420\\u041e\\u0411\\u041b\\u0415\\u041c\\u0410 \\u0413\\u041e\\u0420\\u041e\\u0414\\u0421\\u041a\\u0418\\u0425 \\u041f\\u0415\\u0420\\u0415\\u0412\\u041e\\u0417\\u041e\\u041a\",\"\\u0413\\u041e\\u0420\\u041e\\u0414\\u0421\\u041a\\u0410\\u042f \\u041f\\u0415\\u0420\\u0415\\u0412\\u041e\\u0417\\u041a\\u0410\",\"\\u041e\\u0442\\u0434\\u0435\\u043b \\u041e\\u0440\\u0433\\u0430\\u043d\\u0438\\u0437\\u0430\\u0446\\u0438\\u0438 \\u0422\\u0440\\u0430\\u043d\\u0441\\u043f\\u043e\\u0440\\u0442\\u043d\\u043e\\u0433\\u043e \\u041e\\u0431\\u0441\\u043b\\u0443\\u0436\\u0438\\u0432\\u0430\\u043d\\u0438\\u044f \\u0423\\u043f\\u0440\\u0430\\u0432\\u043b\\u0435\\u043d\\u0438\\u044f \\u0414\\u043e\\u0440\\u043e\\u0436\\u043d\\u043e\\u0433\\u043e \\u0425\\u043e\\u0437\\u044f\\u0439\\u0441\\u0442\\u0432\\u0430 \\u0438 \\u0422\\u0440\\u0430\\u043d\\u0441\\u043f\\u043e\\u0440\\u0442\\u0430\",\"\\u041c\\u0410\\u0420\\u0428\\u0420\\u0423\\u0422\\u041d\\u041e\\u0415 \\u0422\\u0420\\u0410\\u041d\\u0421\\u041f\\u041e\\u0420\\u0422\\u041d\\u041e\\u0415 \\u0421\\u0420\\u0415\\u0414\\u0421\\u0422\\u0412\\u041e\",\"\\u0423\\u043f\\u0440\\u0430\\u0432\\u043b\\u0435\\u043d\\u0438\\u0435 \\u0414\\u043e\\u0440\\u043e\\u0436\\u043d\\u043e\\u0433\\u043e \\u0425\\u043e\\u0437\\u044f\\u0439\\u0441\\u0442\\u0432\\u0430 \\u0438 \\u0422\\u0440\\u0430\\u043d\\u0441\\u043f\\u043e\\u0440\\u0442\\u0430\"],\"x\":[\"2021-12-24T09:12:57+00:00\",\"2021-12-24T09:21:03+00:00\",\"2021-12-24T09:26:30+00:00\",\"2021-12-24T09:26:56+00:00\",\"2021-12-24T09:26:56+00:00\",\"2021-12-24T09:27:27+00:00\",\"2021-12-24T09:29:35+00:00\",\"2021-12-24T09:47:38+00:00\",\"2021-12-24T09:47:38+00:00\",\"2021-12-24T10:07:18+00:00\",\"2021-12-24T10:07:18+00:00\",\"2021-12-24T10:07:18+00:00\",\"2021-12-24T10:07:18+00:00\",\"2021-12-24T10:32:34+00:00\",\"2021-12-24T10:32:34+00:00\",\"2021-12-24T10:34:31+00:00\",\"2021-12-24T10:54:44+00:00\",\"2021-12-24T10:54:44+00:00\",\"2021-12-24T10:54:44+00:00\",\"2021-12-24T10:57:24+00:00\",\"2021-12-24T10:57:24+00:00\",\"2021-12-24T11:03:49+00:00\",\"2021-12-24T11:06:23+00:00\",\"2021-12-24T11:38:57+00:00\",\"2021-12-24T12:29:55+00:00\",\"2021-12-24T12:45:54+00:00\",\"2021-12-24T12:45:54+00:00\",\"2021-12-24T13:15:23+00:00\",\"2021-12-24T13:15:23+00:00\",\"2021-12-24T13:15:23+00:00\",\"2021-12-24T13:16:40+00:00\",\"2021-12-24T13:51:12+00:00\",\"2021-12-24T14:02:17+00:00\",\"2021-12-24T14:06:28+00:00\",\"2021-12-24T14:06:28+00:00\",\"2021-12-24T14:15:27+00:00\",\"2021-12-24T14:15:27+00:00\",\"2021-12-24T14:15:27+00:00\",\"2021-12-24T14:15:27+00:00\",\"2021-12-24T19:52:10+00:00\",\"2021-12-24T22:36:51+00:00\",\"2021-12-25T01:05:57+00:00\",\"2021-12-25T04:05:24+00:00\",\"2021-12-25T04:05:46+00:00\",\"2021-12-25T05:07:49+00:00\",\"2021-12-25T05:08:25+00:00\",\"2021-12-25T05:08:25+00:00\",\"2021-12-25T06:34:28+00:00\",\"2021-12-25T06:34:28+00:00\",\"2021-12-25T06:43:06+00:00\",\"2021-12-25T06:43:06+00:00\",\"2021-12-25T06:43:06+00:00\",\"2021-12-25T07:09:10+00:00\",\"2021-12-25T07:09:10+00:00\",\"2021-12-25T07:12:37+00:00\",\"2021-12-25T07:12:37+00:00\",\"2021-12-25T07:29:45+00:00\",\"2021-12-25T09:18:23+00:00\",\"2021-12-25T09:18:23+00:00\",\"2021-12-25T09:18:23+00:00\",\"2021-12-25T09:20:17+00:00\",\"2021-12-25T09:20:17+00:00\",\"2021-12-25T09:21:19+00:00\",\"2021-12-25T09:23:51+00:00\",\"2021-12-25T09:31:14+00:00\",\"2021-12-25T09:32:57+00:00\",\"2021-12-25T09:36:26+00:00\",\"2021-12-25T09:36:26+00:00\",\"2021-12-25T14:44:48+00:00\",\"2021-12-26T12:04:43+00:00\",\"2021-12-26T12:04:43+00:00\",\"2021-12-26T12:04:43+00:00\",\"2021-12-26T15:29:48+00:00\",\"2021-12-26T15:29:48+00:00\",\"2021-12-26T15:29:48+00:00\",\"2021-12-26T15:29:48+00:00\",\"2021-12-26T15:45:58+00:00\",\"2021-12-26T15:45:58+00:00\",\"2021-12-26T15:45:58+00:00\",\"2021-12-26T16:32:16+00:00\",\"2021-12-26T16:32:16+00:00\",\"2021-12-26T16:32:16+00:00\",\"2021-12-26T20:41:57+00:00\",\"2021-12-27T02:26:05+00:00\",\"2021-12-27T02:27:29+00:00\",\"2021-12-27T02:27:29+00:00\",\"2021-12-27T02:29:34+00:00\",\"2021-12-27T02:29:34+00:00\",\"2021-12-27T02:30:29+00:00\",\"2021-12-27T02:31:19+00:00\",\"2021-12-27T02:31:19+00:00\",\"2021-12-27T02:31:19+00:00\",\"2021-12-27T02:31:19+00:00\",\"2021-12-27T02:32:03+00:00\",\"2021-12-27T02:33:07+00:00\",\"2021-12-27T02:33:54+00:00\",\"2021-12-27T02:33:54+00:00\",\"2021-12-27T02:34:15+00:00\",\"2021-12-27T02:34:15+00:00\",\"2021-12-27T02:34:38+00:00\",\"2021-12-27T02:34:38+00:00\",\"2021-12-27T03:38:39+00:00\",\"2021-12-27T03:47:15+00:00\",\"2021-12-27T04:42:39+00:00\",\"2021-12-27T04:42:39+00:00\",\"2021-12-27T04:44:23+00:00\",\"2021-12-27T04:51:52+00:00\",\"2021-12-27T04:51:52+00:00\",\"2021-12-27T04:51:52+00:00\",\"2021-12-27T04:51:52+00:00\",\"2021-12-27T05:13:19+00:00\",\"2021-12-27T05:13:19+00:00\",\"2021-12-27T05:13:19+00:00\",\"2021-12-27T06:28:19+00:00\",\"2021-12-27T08:26:05+00:00\",\"2021-12-27T13:00:54+00:00\",\"2021-12-27T13:45:47+00:00\",\"2021-12-27T13:45:47+00:00\",\"2021-12-28T08:39:23+00:00\",\"2021-12-28T08:43:10+00:00\",\"2021-12-28T23:57:51+00:00\",\"2021-12-28T23:57:51+00:00\",\"2021-12-28T23:59:28+00:00\",\"2021-12-28T23:59:28+00:00\",\"2021-12-28T23:59:28+00:00\",\"2021-12-29T02:13:43+00:00\",\"2021-12-29T02:13:43+00:00\",\"2021-12-30T01:34:33+00:00\"],\"xaxis\":\"x\",\"y\":[0.52,0.618,0.826,0.605,0.605,0.522,0.814,0.674,0.518,1.095,0.525,0.57,0.633,0.7999999999999999,0.514,0.882,0.5549999999999999,0.612,0.97,0.528,0.7110000000000001,0.612,0.585,0.57,0.505,1.221,0.544,0.552,1.4360000000000002,0.552,0.621,0.755,0.553,0.531,0.532,0.519,0.909,0.519,0.608,0.786,0.598,0.555,0.803,0.6890000000000001,0.508,0.621,0.621,0.8860000000000001,0.666,0.869,0.506,0.592,0.8140000000000001,0.577,0.8140000000000001,0.577,0.8009999999999999,0.565,0.565,0.565,0.772,0.564,0.608,0.531,0.512,0.505,0.623,0.536,0.647,1.401,0.604,0.797,1.036,0.518,0.518,0.518,0.739,0.804,0.531,0.537,0.537,0.65,0.738,0.503,0.671,1.4180000000000001,0.5189999999999999,0.514,0.501,0.518,0.645,0.594,0.513,0.6060000000000001,0.503,0.526,0.5780000000000001,0.526,0.5780000000000001,0.667,0.594,0.522,0.5640000000000001,0.566,0.8160000000000001,0.668,1.012,0.506,0.506,0.506,0.8979999999999999,0.593,0.6619999999999999,0.527,0.567,0.654,0.622,0.908,0.852,0.545,0.505,0.505,0.537,0.869,0.552,1.247,0.502,0.503],\"yaxis\":\"y\",\"type\":\"scatter\"}],                        {\"template\":{\"data\":{\"bar\":[{\"error_x\":{\"color\":\"#2a3f5f\"},\"error_y\":{\"color\":\"#2a3f5f\"},\"marker\":{\"line\":{\"color\":\"#E5ECF6\",\"width\":0.5},\"pattern\":{\"fillmode\":\"overlay\",\"size\":10,\"solidity\":0.2}},\"type\":\"bar\"}],\"barpolar\":[{\"marker\":{\"line\":{\"color\":\"#E5ECF6\",\"width\":0.5},\"pattern\":{\"fillmode\":\"overlay\",\"size\":10,\"solidity\":0.2}},\"type\":\"barpolar\"}],\"carpet\":[{\"aaxis\":{\"endlinecolor\":\"#2a3f5f\",\"gridcolor\":\"white\",\"linecolor\":\"white\",\"minorgridcolor\":\"white\",\"startlinecolor\":\"#2a3f5f\"},\"baxis\":{\"endlinecolor\":\"#2a3f5f\",\"gridcolor\":\"white\",\"linecolor\":\"white\",\"minorgridcolor\":\"white\",\"startlinecolor\":\"#2a3f5f\"},\"type\":\"carpet\"}],\"choropleth\":[{\"colorbar\":{\"outlinewidth\":0,\"ticks\":\"\"},\"type\":\"choropleth\"}],\"contour\":[{\"colorbar\":{\"outlinewidth\":0,\"ticks\":\"\"},\"colorscale\":[[0.0,\"#0d0887\"],[0.1111111111111111,\"#46039f\"],[0.2222222222222222,\"#7201a8\"],[0.3333333333333333,\"#9c179e\"],[0.4444444444444444,\"#bd3786\"],[0.5555555555555556,\"#d8576b\"],[0.6666666666666666,\"#ed7953\"],[0.7777777777777778,\"#fb9f3a\"],[0.8888888888888888,\"#fdca26\"],[1.0,\"#f0f921\"]],\"type\":\"contour\"}],\"contourcarpet\":[{\"colorbar\":{\"outlinewidth\":0,\"ticks\":\"\"},\"type\":\"contourcarpet\"}],\"heatmap\":[{\"colorbar\":{\"outlinewidth\":0,\"ticks\":\"\"},\"colorscale\":[[0.0,\"#0d0887\"],[0.1111111111111111,\"#46039f\"],[0.2222222222222222,\"#7201a8\"],[0.3333333333333333,\"#9c179e\"],[0.4444444444444444,\"#bd3786\"],[0.5555555555555556,\"#d8576b\"],[0.6666666666666666,\"#ed7953\"],[0.7777777777777778,\"#fb9f3a\"],[0.8888888888888888,\"#fdca26\"],[1.0,\"#f0f921\"]],\"type\":\"heatmap\"}],\"heatmapgl\":[{\"colorbar\":{\"outlinewidth\":0,\"ticks\":\"\"},\"colorscale\":[[0.0,\"#0d0887\"],[0.1111111111111111,\"#46039f\"],[0.2222222222222222,\"#7201a8\"],[0.3333333333333333,\"#9c179e\"],[0.4444444444444444,\"#bd3786\"],[0.5555555555555556,\"#d8576b\"],[0.6666666666666666,\"#ed7953\"],[0.7777777777777778,\"#fb9f3a\"],[0.8888888888888888,\"#fdca26\"],[1.0,\"#f0f921\"]],\"type\":\"heatmapgl\"}],\"histogram\":[{\"marker\":{\"pattern\":{\"fillmode\":\"overlay\",\"size\":10,\"solidity\":0.2}},\"type\":\"histogram\"}],\"histogram2d\":[{\"colorbar\":{\"outlinewidth\":0,\"ticks\":\"\"},\"colorscale\":[[0.0,\"#0d0887\"],[0.1111111111111111,\"#46039f\"],[0.2222222222222222,\"#7201a8\"],[0.3333333333333333,\"#9c179e\"],[0.4444444444444444,\"#bd3786\"],[0.5555555555555556,\"#d8576b\"],[0.6666666666666666,\"#ed7953\"],[0.7777777777777778,\"#fb9f3a\"],[0.8888888888888888,\"#fdca26\"],[1.0,\"#f0f921\"]],\"type\":\"histogram2d\"}],\"histogram2dcontour\":[{\"colorbar\":{\"outlinewidth\":0,\"ticks\":\"\"},\"colorscale\":[[0.0,\"#0d0887\"],[0.1111111111111111,\"#46039f\"],[0.2222222222222222,\"#7201a8\"],[0.3333333333333333,\"#9c179e\"],[0.4444444444444444,\"#bd3786\"],[0.5555555555555556,\"#d8576b\"],[0.6666666666666666,\"#ed7953\"],[0.7777777777777778,\"#fb9f3a\"],[0.8888888888888888,\"#fdca26\"],[1.0,\"#f0f921\"]],\"type\":\"histogram2dcontour\"}],\"mesh3d\":[{\"colorbar\":{\"outlinewidth\":0,\"ticks\":\"\"},\"type\":\"mesh3d\"}],\"parcoords\":[{\"line\":{\"colorbar\":{\"outlinewidth\":0,\"ticks\":\"\"}},\"type\":\"parcoords\"}],\"pie\":[{\"automargin\":true,\"type\":\"pie\"}],\"scatter\":[{\"marker\":{\"colorbar\":{\"outlinewidth\":0,\"ticks\":\"\"}},\"type\":\"scatter\"}],\"scatter3d\":[{\"line\":{\"colorbar\":{\"outlinewidth\":0,\"ticks\":\"\"}},\"marker\":{\"colorbar\":{\"outlinewidth\":0,\"ticks\":\"\"}},\"type\":\"scatter3d\"}],\"scattercarpet\":[{\"marker\":{\"colorbar\":{\"outlinewidth\":0,\"ticks\":\"\"}},\"type\":\"scattercarpet\"}],\"scattergeo\":[{\"marker\":{\"colorbar\":{\"outlinewidth\":0,\"ticks\":\"\"}},\"type\":\"scattergeo\"}],\"scattergl\":[{\"marker\":{\"colorbar\":{\"outlinewidth\":0,\"ticks\":\"\"}},\"type\":\"scattergl\"}],\"scattermapbox\":[{\"marker\":{\"colorbar\":{\"outlinewidth\":0,\"ticks\":\"\"}},\"type\":\"scattermapbox\"}],\"scatterpolar\":[{\"marker\":{\"colorbar\":{\"outlinewidth\":0,\"ticks\":\"\"}},\"type\":\"scatterpolar\"}],\"scatterpolargl\":[{\"marker\":{\"colorbar\":{\"outlinewidth\":0,\"ticks\":\"\"}},\"type\":\"scatterpolargl\"}],\"scatterternary\":[{\"marker\":{\"colorbar\":{\"outlinewidth\":0,\"ticks\":\"\"}},\"type\":\"scatterternary\"}],\"surface\":[{\"colorbar\":{\"outlinewidth\":0,\"ticks\":\"\"},\"colorscale\":[[0.0,\"#0d0887\"],[0.1111111111111111,\"#46039f\"],[0.2222222222222222,\"#7201a8\"],[0.3333333333333333,\"#9c179e\"],[0.4444444444444444,\"#bd3786\"],[0.5555555555555556,\"#d8576b\"],[0.6666666666666666,\"#ed7953\"],[0.7777777777777778,\"#fb9f3a\"],[0.8888888888888888,\"#fdca26\"],[1.0,\"#f0f921\"]],\"type\":\"surface\"}],\"table\":[{\"cells\":{\"fill\":{\"color\":\"#EBF0F8\"},\"line\":{\"color\":\"white\"}},\"header\":{\"fill\":{\"color\":\"#C8D4E3\"},\"line\":{\"color\":\"white\"}},\"type\":\"table\"}]},\"layout\":{\"annotationdefaults\":{\"arrowcolor\":\"#2a3f5f\",\"arrowhead\":0,\"arrowwidth\":1},\"autotypenumbers\":\"strict\",\"coloraxis\":{\"colorbar\":{\"outlinewidth\":0,\"ticks\":\"\"}},\"colorscale\":{\"diverging\":[[0,\"#8e0152\"],[0.1,\"#c51b7d\"],[0.2,\"#de77ae\"],[0.3,\"#f1b6da\"],[0.4,\"#fde0ef\"],[0.5,\"#f7f7f7\"],[0.6,\"#e6f5d0\"],[0.7,\"#b8e186\"],[0.8,\"#7fbc41\"],[0.9,\"#4d9221\"],[1,\"#276419\"]],\"sequential\":[[0.0,\"#0d0887\"],[0.1111111111111111,\"#46039f\"],[0.2222222222222222,\"#7201a8\"],[0.3333333333333333,\"#9c179e\"],[0.4444444444444444,\"#bd3786\"],[0.5555555555555556,\"#d8576b\"],[0.6666666666666666,\"#ed7953\"],[0.7777777777777778,\"#fb9f3a\"],[0.8888888888888888,\"#fdca26\"],[1.0,\"#f0f921\"]],\"sequentialminus\":[[0.0,\"#0d0887\"],[0.1111111111111111,\"#46039f\"],[0.2222222222222222,\"#7201a8\"],[0.3333333333333333,\"#9c179e\"],[0.4444444444444444,\"#bd3786\"],[0.5555555555555556,\"#d8576b\"],[0.6666666666666666,\"#ed7953\"],[0.7777777777777778,\"#fb9f3a\"],[0.8888888888888888,\"#fdca26\"],[1.0,\"#f0f921\"]]},\"colorway\":[\"#636efa\",\"#EF553B\",\"#00cc96\",\"#ab63fa\",\"#FFA15A\",\"#19d3f3\",\"#FF6692\",\"#B6E880\",\"#FF97FF\",\"#FECB52\"],\"font\":{\"color\":\"#2a3f5f\"},\"geo\":{\"bgcolor\":\"white\",\"lakecolor\":\"white\",\"landcolor\":\"#E5ECF6\",\"showlakes\":true,\"showland\":true,\"subunitcolor\":\"white\"},\"hoverlabel\":{\"align\":\"left\"},\"hovermode\":\"closest\",\"mapbox\":{\"style\":\"light\"},\"paper_bgcolor\":\"white\",\"plot_bgcolor\":\"#E5ECF6\",\"polar\":{\"angularaxis\":{\"gridcolor\":\"white\",\"linecolor\":\"white\",\"ticks\":\"\"},\"bgcolor\":\"#E5ECF6\",\"radialaxis\":{\"gridcolor\":\"white\",\"linecolor\":\"white\",\"ticks\":\"\"}},\"scene\":{\"xaxis\":{\"backgroundcolor\":\"#E5ECF6\",\"gridcolor\":\"white\",\"gridwidth\":2,\"linecolor\":\"white\",\"showbackground\":true,\"ticks\":\"\",\"zerolinecolor\":\"white\"},\"yaxis\":{\"backgroundcolor\":\"#E5ECF6\",\"gridcolor\":\"white\",\"gridwidth\":2,\"linecolor\":\"white\",\"showbackground\":true,\"ticks\":\"\",\"zerolinecolor\":\"white\"},\"zaxis\":{\"backgroundcolor\":\"#E5ECF6\",\"gridcolor\":\"white\",\"gridwidth\":2,\"linecolor\":\"white\",\"showbackground\":true,\"ticks\":\"\",\"zerolinecolor\":\"white\"}},\"shapedefaults\":{\"line\":{\"color\":\"#2a3f5f\"}},\"ternary\":{\"aaxis\":{\"gridcolor\":\"white\",\"linecolor\":\"white\",\"ticks\":\"\"},\"baxis\":{\"gridcolor\":\"white\",\"linecolor\":\"white\",\"ticks\":\"\"},\"bgcolor\":\"#E5ECF6\",\"caxis\":{\"gridcolor\":\"white\",\"linecolor\":\"white\",\"ticks\":\"\"}},\"title\":{\"x\":0.05},\"xaxis\":{\"automargin\":true,\"gridcolor\":\"white\",\"linecolor\":\"white\",\"ticks\":\"\",\"title\":{\"standoff\":15},\"zerolinecolor\":\"white\",\"zerolinewidth\":2},\"yaxis\":{\"automargin\":true,\"gridcolor\":\"white\",\"linecolor\":\"white\",\"ticks\":\"\",\"title\":{\"standoff\":15},\"zerolinecolor\":\"white\",\"zerolinewidth\":2}}},\"xaxis\":{\"anchor\":\"y\",\"domain\":[0.0,1.0],\"title\":{\"text\":\"Appearance time\"}},\"yaxis\":{\"anchor\":\"x\",\"domain\":[0.0,1.0],\"title\":{\"text\":\"TF-IDF ratio\"}},\"legend\":{\"tracegroupgap\":0},\"title\":{\"text\":\"https://www.instagram.com/p/CX3ZqJ_NlZg/\"}},                        {\"responsive\": true}                    ).then(function(){\n                            \nvar gd = document.getElementById('1d8cc2ae-916a-4bf6-ab63-39c1d0debb5c');\nvar x = new MutationObserver(function (mutations, observer) {{\n        var display = window.getComputedStyle(gd).display;\n        if (!display || display === 'none') {{\n            console.log([gd, 'removed!']);\n            Plotly.purge(gd);\n            observer.disconnect();\n        }}\n}});\n\n// Listen for the removal of the full notebook cells\nvar notebookContainer = gd.closest('#notebook-container');\nif (notebookContainer) {{\n    x.observe(notebookContainer, {childList: true});\n}}\n\n// Listen for the clearing of the current output cell\nvar outputEl = gd.closest('.output');\nif (outputEl) {{\n    x.observe(outputEl, {childList: true});\n}}\n\n                        })                };                });            </script>        </div>"
     },
     "metadata": {},
     "output_type": "display_data"
    }
   ],
   "source": [
    "import plotly.express as px\n",
    "\n",
    "for i in range(len(posts_dfs)):\n",
    "    fig = px.scatter(posts_dfs[i], x='Appearance time', y='TF-IDF ratio', text='Keyword', title=posts_urls[i])\n",
    "    fig.show()"
   ],
   "metadata": {
    "collapsed": false,
    "pycharm": {
     "name": "#%%\n"
    }
   }
  }
 ],
 "metadata": {
  "kernelspec": {
   "display_name": "Python 3",
   "language": "python",
   "name": "python3"
  },
  "language_info": {
   "codemirror_mode": {
    "name": "ipython",
    "version": 2
   },
   "file_extension": ".py",
   "mimetype": "text/x-python",
   "name": "python",
   "nbconvert_exporter": "python",
   "pygments_lexer": "ipython2",
   "version": "2.7.6"
  }
 },
 "nbformat": 4,
 "nbformat_minor": 0
}